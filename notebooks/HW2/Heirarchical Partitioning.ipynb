{
 "metadata": {
  "name": "",
  "signature": "sha256:ae6b64009bd44222e96c38cf7207041f9518e62eaf7bfa7e30f03b38fec205d2"
 },
 "nbformat": 3,
 "nbformat_minor": 0,
 "worksheets": [
  {
   "cells": [
    {
     "cell_type": "code",
     "collapsed": false,
     "input": [
      "from mpl_toolkits.basemap import Basemap\n",
      "import pickle\n",
      "import pandas as pd\n",
      "import numpy as np\n",
      "import sklearn as sk"
     ],
     "language": "python",
     "metadata": {},
     "outputs": [],
     "prompt_number": 6
    },
    {
     "cell_type": "markdown",
     "metadata": {},
     "source": [
      "##Reading in StationStatistics and Station Info data"
     ]
    },
    {
     "cell_type": "code",
     "collapsed": false,
     "input": [
      "import pickle,zlib,base64\n",
      "station_stats={}\n",
      "f=open('data/StationStatistics_temp','r')\n",
      "l=f.readlines()\n",
      "f.close()\n",
      "for line in l:\n",
      "    line = line.strip()\n",
      "    station = line.split('\\t')[0]\n",
      "    data = line.split('\\t')[1]\n",
      "    station_stats[station[1:-1]]=pickle.loads(zlib.decompress(base64.b64decode(data[1:-1])))"
     ],
     "language": "python",
     "metadata": {},
     "outputs": [],
     "prompt_number": 8
    },
    {
     "cell_type": "code",
     "collapsed": false,
     "input": [
      "for k in station_stats.keys()[:1]:\n",
      "    print k,station_stats[k]"
     ],
     "language": "python",
     "metadata": {},
     "outputs": [
      {
       "output_type": "stream",
       "stream": "stdout",
       "text": [
        "CA004035200 {(u'TMIN', 1994): 355, (u'PRCP', 1967): 214, (u'TMAX', 1965): 150, (u'MDPR', 1963): 1, (u'PRCP', 1992): 177, (u'TMIN', 1980): 211, (u'PRCP', 1972): 358, (u'MDPR', 1972): 1, (u'PRCP', 1962): 365, (u'PRCP', 1974): 243, (u'TMAX', 1981): 90, (u'TMIN', 1963): 364, (u'PRCP', 1995): 304, (u'TMIN', 1958): 365, (u'TMIN', 1969): 361, (u'PRCP', 1971): 364, (u'PRCP', 1956): 362, (u'MDPR', 1956): 1, (u'PRCP', 1961): 365, (u'TMAX', 1955): 365, (u'TMIN', 1960): 361, (u'TMIN', 1974): 245, (u'PRCP', 1955): 361, (u'TMAX', 1961): 345, (u'MDPR', 1959): 2, (u'TMAX', 1956): 365, (u'TMAX', 1992): 181, (u'TMAX', 1971): 349, (u'TMIN', 1965): 150, (u'TMAX', 1975): 59, (u'MDPR', 1968): 1, (u'PRCP', 1981): 90, (u'TMAX', 1962): 363, (u'TMAX', 1972): 363, (u'TMIN', 1954): 184, (u'TMIN', 1981): 90, (u'PRCP', 1975): 59, (u'TMIN', 1992): 180, (u'PRCP', 1965): 151, (u'TMAX', 1967): 205, (u'TMAX', 1995): 289, (u'TMIN', 1959): 365, (u'PRCP', 1993): 302, (u'TMIN', 1970): 362, (u'PRCP', 1970): 365, (u'PRCP', 1959): 361, (u'MDPR', 1955): 1, (u'PRCP', 1960): 365, (u'TMIN', 1961): 364, (u'TMIN', 1956): 364, (u'TMIN', 1975): 59, (u'PRCP', 1969): 365, (u'PRCP', 1954): 184, (u'TMAX', 1957): 364, (u'TMAX', 1968): 354, (u'PRCP', 1973): 329, (u'TMIN', 1972): 362, (u'PRCP', 1980): 212, (u'TMAX', 1963): 365, (u'TMAX', 1958): 365, (u'PRCP', 1994): 362, (u'TMIN', 1955): 364, (u'TMAX', 1993): 300, (u'TMIN', 1993): 296, (u'PRCP', 1964): 365, (u'TMAX', 1964): 362, (u'TMAX', 1974): 245, (u'TMIN', 1971): 357, (u'TMAX', 1994): 352, (u'PRCP', 1958): 365, (u'PRCP', 1963): 363, (u'TMAX', 1980): 210, (u'TMIN', 1962): 364, (u'TMIN', 1957): 364, (u'TMIN', 1968): 358, (u'PRCP', 1968): 363, (u'TMIN', 1995): 287, (u'PRCP', 1957): 365, (u'TMAX', 1954): 184, (u'TMAX', 1969): 356, (u'TMIN', 1967): 207, (u'TMIN', 1973): 313, (u'TMAX', 1960): 354, (u'TMAX', 1959): 364, (u'TMAX', 1973): 313, (u'TMAX', 1970): 362, (u'TMIN', 1964): 363}\n"
       ]
      }
     ],
     "prompt_number": 9
    },
    {
     "cell_type": "code",
     "collapsed": false,
     "input": [
      "print len(station_stats.keys())"
     ],
     "language": "python",
     "metadata": {},
     "outputs": [
      {
       "output_type": "stream",
       "stream": "stdout",
       "text": [
        "85284\n"
       ]
      }
     ],
     "prompt_number": 10
    },
    {
     "cell_type": "code",
     "collapsed": false,
     "input": [
      "station_info=pickle.load(open('/home/ubuntu/yfreund/notebooks/weather.mapreduce/stations.pkl','rb'))\n",
      "station_info.head()"
     ],
     "language": "python",
     "metadata": {},
     "outputs": [
      {
       "html": [
        "<div style=\"max-height:1000px;max-width:1500px;overflow:auto;\">\n",
        "<table border=\"1\" class=\"dataframe\">\n",
        "  <thead>\n",
        "    <tr style=\"text-align: right;\">\n",
        "      <th></th>\n",
        "      <th>latitude</th>\n",
        "      <th>longitude</th>\n",
        "      <th>elevation</th>\n",
        "      <th>state</th>\n",
        "      <th>name</th>\n",
        "      <th>GSNFLAG</th>\n",
        "      <th>HCNFLAG</th>\n",
        "      <th>WMOID</th>\n",
        "    </tr>\n",
        "  </thead>\n",
        "  <tbody>\n",
        "    <tr>\n",
        "      <th>ACW00011604</th>\n",
        "      <td> 17.1167</td>\n",
        "      <td>-61.7833</td>\n",
        "      <td>   10.1</td>\n",
        "      <td> NaN</td>\n",
        "      <td> ST JOHNS COOLIDGE FLD</td>\n",
        "      <td> NaN</td>\n",
        "      <td> NaN</td>\n",
        "      <td>   NaN</td>\n",
        "    </tr>\n",
        "    <tr>\n",
        "      <th>ACW00011647</th>\n",
        "      <td> 17.1333</td>\n",
        "      <td>-61.7833</td>\n",
        "      <td>   19.2</td>\n",
        "      <td> NaN</td>\n",
        "      <td>              ST JOHNS</td>\n",
        "      <td> NaN</td>\n",
        "      <td> NaN</td>\n",
        "      <td>   NaN</td>\n",
        "    </tr>\n",
        "    <tr>\n",
        "      <th>AE000041196</th>\n",
        "      <td> 25.3330</td>\n",
        "      <td> 55.5170</td>\n",
        "      <td>   34.0</td>\n",
        "      <td> NaN</td>\n",
        "      <td>   SHARJAH INTER. AIRP</td>\n",
        "      <td> GSN</td>\n",
        "      <td> NaN</td>\n",
        "      <td> 41196</td>\n",
        "    </tr>\n",
        "    <tr>\n",
        "      <th>AF000040930</th>\n",
        "      <td> 35.3170</td>\n",
        "      <td> 69.0170</td>\n",
        "      <td> 3366.0</td>\n",
        "      <td> NaN</td>\n",
        "      <td>          NORTH-SALANG</td>\n",
        "      <td> GSN</td>\n",
        "      <td> NaN</td>\n",
        "      <td> 40930</td>\n",
        "    </tr>\n",
        "    <tr>\n",
        "      <th>AG000060390</th>\n",
        "      <td> 36.7167</td>\n",
        "      <td>  3.2500</td>\n",
        "      <td>   24.0</td>\n",
        "      <td> NaN</td>\n",
        "      <td>    ALGER-DAR EL BEIDA</td>\n",
        "      <td> GSN</td>\n",
        "      <td> NaN</td>\n",
        "      <td> 60390</td>\n",
        "    </tr>\n",
        "  </tbody>\n",
        "</table>\n",
        "<p>5 rows \u00d7 8 columns</p>\n",
        "</div>"
       ],
       "metadata": {},
       "output_type": "pyout",
       "prompt_number": 11,
       "text": [
        "             latitude  longitude  elevation state                   name  \\\n",
        "ACW00011604   17.1167   -61.7833       10.1   NaN  ST JOHNS COOLIDGE FLD   \n",
        "ACW00011647   17.1333   -61.7833       19.2   NaN               ST JOHNS   \n",
        "AE000041196   25.3330    55.5170       34.0   NaN    SHARJAH INTER. AIRP   \n",
        "AF000040930   35.3170    69.0170     3366.0   NaN           NORTH-SALANG   \n",
        "AG000060390   36.7167     3.2500       24.0   NaN     ALGER-DAR EL BEIDA   \n",
        "\n",
        "            GSNFLAG HCNFLAG  WMOID  \n",
        "ACW00011604     NaN     NaN    NaN  \n",
        "ACW00011647     NaN     NaN    NaN  \n",
        "AE000041196     GSN     NaN  41196  \n",
        "AF000040930     GSN     NaN  40930  \n",
        "AG000060390     GSN     NaN  60390  \n",
        "\n",
        "[5 rows x 8 columns]"
       ]
      }
     ],
     "prompt_number": 11
    },
    {
     "cell_type": "code",
     "collapsed": false,
     "input": [
      "def get_station_info(station):\n",
      "    try:\n",
      "        return station_info.loc[unicode(station)]\n",
      "    except:\n",
      "        print \"Error:\",station\n",
      "get_station_info('CA004035200')\n",
      "#get_station_info('dummy')"
     ],
     "language": "python",
     "metadata": {},
     "outputs": [
      {
       "metadata": {},
       "output_type": "pyout",
       "prompt_number": 12,
       "text": [
        "latitude      49.17\n",
        "longitude   -104.58\n",
        "elevation       695\n",
        "state           NaN\n",
        "name         MINTON\n",
        "GSNFLAG         NaN\n",
        "HCNFLAG         NaN\n",
        "WMOID           NaN\n",
        "Name: CA004035200, dtype: object"
       ]
      }
     ],
     "prompt_number": 12
    },
    {
     "cell_type": "markdown",
     "metadata": {},
     "source": [
      "## Computing total count of measurements for each station"
     ]
    },
    {
     "cell_type": "code",
     "collapsed": false,
     "input": [
      "total_measurements={}\n",
      "for k in station_stats.keys():\n",
      "    total_measurements[k]=0\n",
      "    for measurement in station_stats[k].keys():\n",
      "        #Only considering TMAX and TMIN measurements because thats how we will train the model\n",
      "        if measurement[0] in [u'TMIN',u'TMAX']: \n",
      "            total_measurements[k] += int(station_stats[k][measurement])"
     ],
     "language": "python",
     "metadata": {},
     "outputs": [],
     "prompt_number": 13
    },
    {
     "cell_type": "code",
     "collapsed": false,
     "input": [
      "count = 0\n",
      "for k in total_measurements.keys():\n",
      "    if total_measurements[k]==0:\n",
      "        count += 1\n",
      "        \n",
      "print len(total_measurements.keys())-count"
     ],
     "language": "python",
     "metadata": {},
     "outputs": [
      {
       "output_type": "stream",
       "stream": "stdout",
       "text": [
        "29454\n"
       ]
      }
     ],
     "prompt_number": 14
    },
    {
     "cell_type": "markdown",
     "metadata": {},
     "source": [
      "## Dividing the stations into clusters"
     ]
    },
    {
     "cell_type": "code",
     "collapsed": false,
     "input": [
      "toggle={}\n",
      "toggle['longitude']='latitude'\n",
      "toggle['latitude']='longitude'\n",
      "\n",
      "def partition(part,station_list,mode):\n",
      "    global alert_flag\n",
      "    global buckets\n",
      "    print \"Partitioning with \"+mode+\" value=\"+str(part)+\",list_length=\"+str(len(station_list))\n",
      "    #Base case\n",
      "    if len(station_list) <= 2500:\n",
      "        buckets.append(station_list)\n",
      "        return\n",
      "    \n",
      "    #Calculate sum of values on left and right side of partition value\n",
      "    left_sum,right_sum,left_stations,right_stations = partition_values(station_list,part,mode)\n",
      "    #print \"l,r:\",left_sum,right_sum\n",
      "    \n",
      "    #Check if the values are close\n",
      "    #If the values are close enough, \n",
      "    # 1. Record the partitioning step\n",
      "    # 2. Compute partition for left and right parts\n",
      "\n",
      "    if close_enough(left_sum,right_sum):\n",
      "        record_partition(mode,part)\n",
      "        partition(calculate_new_part(left_stations,toggle[mode]),left_stations,toggle[mode])\n",
      "        partition(calculate_new_part(right_stations,toggle[mode]),right_stations,toggle[mode])\n",
      "    else:\n",
      "        #val = calculate_good_increment(part,left_sum,right_sum,station_list)\n",
      "        if alert_flag:\n",
      "            partition(part+(0.25*cmp(right_sum,left_sum)),station_list,mode)\n",
      "        else:\n",
      "            partition(part+(5*cmp(right_sum,left_sum)),station_list,mode)\n",
      "\n",
      "# def calculate_good_increment(part,l,r,):\n",
      "#     for i in range(5,0,-1):\n",
      "#         for station in station_list:\n",
      "                \n",
      "#         part+i*cmp(l,r)\n",
      "        \n",
      "        \n",
      "def calculate_new_part(station_list,mode):\n",
      "    \"\"\"\n",
      "    Given a list of stations and latitude/longitude,\n",
      "    find the median latitude/longitude for the stations\n",
      "    \"\"\"\n",
      "    print \"Calculating new partition value:\",mode,len(station_list)\n",
      "    values = []\n",
      "    for station in station_list:\n",
      "        values.append(int(get_station_info(station)[mode]))\n",
      "    return (max(values)-min(values))/2\n",
      "        \n",
      "def record_partition(mode,part):\n",
      "    \"\"\"\n",
      "    Make a record of the value on which the partitioning was done\n",
      "    \"\"\"\n",
      "    global partition_record\n",
      "    global partition_count\n",
      "    print \"Recording a successful partition for \"+mode+\":\"+str(part)\n",
      "    partition_record[partition_count] = (mode,part)\n",
      "    partition_count += 1\n",
      "    \n",
      "def close_enough(l,r):\n",
      "    \"\"\"\n",
      "    Check if the value of sums in two partitions is within 1/10th\n",
      "    \"\"\"\n",
      "    global alert_flag\n",
      "    if alert_flag:\n",
      "        if abs(l-r) < 0.20*r:\n",
      "            alert_flag=False\n",
      "    return abs(l-r) < 0.20*r\n",
      "\n",
      "def partition_values(station_list,part,mode):\n",
      "    global alert_flag\n",
      "    global diff_history\n",
      "    left_stations = []\n",
      "    right_stations = []\n",
      "    left_sum = 0\n",
      "    right_sum = 0\n",
      "    for station in station_list:\n",
      "        #print station\n",
      "        info=get_station_info(station)\n",
      "        if info[mode] <= part:\n",
      "            left_sum += total_measurements[station]\n",
      "            left_stations.append(station)\n",
      "        else:\n",
      "            right_sum += total_measurements[station]\n",
      "            right_stations.append(station)\n",
      "    \n",
      "    \n",
      "    if part == diff_history[-2]:\n",
      "        print \"STUCK IN LOOP.TRYING TO EXIT.\"\n",
      "        alert_flag=True  \n",
      "    else:\n",
      "        diff_history.append(part)\n",
      "    #print diff_history\n",
      "\n",
      "    return left_sum,right_sum,left_stations,right_stations"
     ],
     "language": "python",
     "metadata": {},
     "outputs": [],
     "prompt_number": 15
    },
    {
     "cell_type": "code",
     "collapsed": false,
     "input": [
      "partition_record={}\n",
      "partition_count=0\n",
      "buckets=[]\n",
      "diff_history=[-1,-2]\n",
      "alert_flag=False\n",
      "\n",
      "#all_stations=station_stats.keys()\n",
      "all_stations=list(set(station_info.index).intersection(set(total_measurements.keys())))\n",
      "#del all_stations[all_stations.index('station')]\n",
      "print len(all_stations)\n",
      "partition(-90,all_stations,'longitude')\n",
      "print partition_record"
     ],
     "language": "python",
     "metadata": {},
     "outputs": [
      {
       "output_type": "stream",
       "stream": "stdout",
       "text": [
        "85283\n",
        "Partitioning with longitude value=-90,list_length=85283\n",
        "Recording a successful partition for longitude:-90"
       ]
      },
      {
       "output_type": "stream",
       "stream": "stdout",
       "text": [
        "\n",
        "Calculating new partition value: latitude 31502\n",
        "Partitioning with latitude value=80,list_length=31502"
       ]
      },
      {
       "output_type": "stream",
       "stream": "stdout",
       "text": [
        "\n",
        "Partitioning with latitude value=75,list_length=31502"
       ]
      },
      {
       "output_type": "stream",
       "stream": "stdout",
       "text": [
        "\n",
        "Partitioning with latitude value=70,list_length=31502"
       ]
      },
      {
       "output_type": "stream",
       "stream": "stdout",
       "text": [
        "\n",
        "Partitioning with latitude value=65,list_length=31502"
       ]
      },
      {
       "output_type": "stream",
       "stream": "stdout",
       "text": [
        "\n",
        "Partitioning with latitude value=60,list_length=31502"
       ]
      },
      {
       "output_type": "stream",
       "stream": "stdout",
       "text": [
        "\n",
        "Partitioning with latitude value=55,list_length=31502"
       ]
      },
      {
       "output_type": "stream",
       "stream": "stdout",
       "text": [
        "\n",
        "Partitioning with latitude value=50,list_length=31502"
       ]
      },
      {
       "output_type": "stream",
       "stream": "stdout",
       "text": [
        "\n",
        "Partitioning with latitude value=45,list_length=31502"
       ]
      },
      {
       "output_type": "stream",
       "stream": "stdout",
       "text": [
        "\n",
        "Partitioning with latitude value=40,list_length=31502"
       ]
      },
      {
       "output_type": "stream",
       "stream": "stdout",
       "text": [
        "\n",
        "Partitioning with latitude value=45,list_length=31502"
       ]
      },
      {
       "output_type": "stream",
       "stream": "stdout",
       "text": [
        "\n",
        "STUCK IN LOOP.TRYING TO EXIT."
       ]
      },
      {
       "output_type": "stream",
       "stream": "stdout",
       "text": [
        "\n",
        "Partitioning with latitude value=44.75,list_length=31502\n",
        "Partitioning with latitude value=44.5,list_length=31502"
       ]
      },
      {
       "output_type": "stream",
       "stream": "stdout",
       "text": [
        "\n",
        "Partitioning with latitude value=44.25,list_length=31502"
       ]
      },
      {
       "output_type": "stream",
       "stream": "stdout",
       "text": [
        "\n",
        "Partitioning with latitude value=44.0,list_length=31502"
       ]
      },
      {
       "output_type": "stream",
       "stream": "stdout",
       "text": [
        "\n",
        "Partitioning with latitude value=43.75,list_length=31502"
       ]
      },
      {
       "output_type": "stream",
       "stream": "stdout",
       "text": [
        "\n",
        "Partitioning with latitude value=43.5,list_length=31502"
       ]
      },
      {
       "output_type": "stream",
       "stream": "stdout",
       "text": [
        "\n",
        "Partitioning with latitude value=43.25,list_length=31502"
       ]
      },
      {
       "output_type": "stream",
       "stream": "stdout",
       "text": [
        "\n",
        "Partitioning with latitude value=43.0,list_length=31502"
       ]
      },
      {
       "output_type": "stream",
       "stream": "stdout",
       "text": [
        "\n",
        "Partitioning with latitude value=42.75,list_length=31502"
       ]
      },
      {
       "output_type": "stream",
       "stream": "stdout",
       "text": [
        "\n",
        "Partitioning with latitude value=42.5,list_length=31502"
       ]
      },
      {
       "output_type": "stream",
       "stream": "stdout",
       "text": [
        "\n",
        "Recording a successful partition for latitude:42.5"
       ]
      },
      {
       "output_type": "stream",
       "stream": "stdout",
       "text": [
        "\n",
        "Calculating new partition value: longitude 20334\n",
        "Partitioning with longitude value=44,list_length=20334"
       ]
      },
      {
       "output_type": "stream",
       "stream": "stdout",
       "text": [
        "\n",
        "Partitioning with longitude value=39,list_length=20334"
       ]
      },
      {
       "output_type": "stream",
       "stream": "stdout",
       "text": [
        "\n",
        "Partitioning with longitude value=34,list_length=20334"
       ]
      },
      {
       "output_type": "stream",
       "stream": "stdout",
       "text": [
        "\n",
        "Partitioning with longitude value=29,list_length=20334"
       ]
      },
      {
       "output_type": "stream",
       "stream": "stdout",
       "text": [
        "\n",
        "Partitioning with longitude value=24,list_length=20334"
       ]
      },
      {
       "output_type": "stream",
       "stream": "stdout",
       "text": [
        "\n",
        "Partitioning with longitude value=19,list_length=20334"
       ]
      },
      {
       "output_type": "stream",
       "stream": "stdout",
       "text": [
        "\n",
        "Partitioning with longitude value=14,list_length=20334"
       ]
      },
      {
       "output_type": "stream",
       "stream": "stdout",
       "text": [
        "\n",
        "Partitioning with longitude value=9,list_length=20334"
       ]
      },
      {
       "output_type": "stream",
       "stream": "stdout",
       "text": [
        "\n",
        "Partitioning with longitude value=4,list_length=20334"
       ]
      },
      {
       "output_type": "stream",
       "stream": "stdout",
       "text": [
        "\n",
        "Partitioning with longitude value=-1,list_length=20334"
       ]
      },
      {
       "output_type": "stream",
       "stream": "stdout",
       "text": [
        "\n",
        "Partitioning with longitude value=-6,list_length=20334"
       ]
      },
      {
       "output_type": "stream",
       "stream": "stdout",
       "text": [
        "\n",
        "Partitioning with longitude value=-11,list_length=20334"
       ]
      },
      {
       "output_type": "stream",
       "stream": "stdout",
       "text": [
        "\n",
        "Partitioning with longitude value=-16,list_length=20334"
       ]
      },
      {
       "output_type": "stream",
       "stream": "stdout",
       "text": [
        "\n",
        "Partitioning with longitude value=-21,list_length=20334"
       ]
      },
      {
       "output_type": "stream",
       "stream": "stdout",
       "text": [
        "\n",
        "Partitioning with longitude value=-26,list_length=20334"
       ]
      },
      {
       "output_type": "stream",
       "stream": "stdout",
       "text": [
        "\n",
        "Partitioning with longitude value=-31,list_length=20334"
       ]
      },
      {
       "output_type": "stream",
       "stream": "stdout",
       "text": [
        "\n",
        "Partitioning with longitude value=-36,list_length=20334"
       ]
      },
      {
       "output_type": "stream",
       "stream": "stdout",
       "text": [
        "\n",
        "Partitioning with longitude value=-41,list_length=20334"
       ]
      },
      {
       "output_type": "stream",
       "stream": "stdout",
       "text": [
        "\n",
        "Partitioning with longitude value=-46,list_length=20334"
       ]
      },
      {
       "output_type": "stream",
       "stream": "stdout",
       "text": [
        "\n",
        "Partitioning with longitude value=-51,list_length=20334"
       ]
      },
      {
       "output_type": "stream",
       "stream": "stdout",
       "text": [
        "\n",
        "Partitioning with longitude value=-56,list_length=20334"
       ]
      },
      {
       "output_type": "stream",
       "stream": "stdout",
       "text": [
        "\n",
        "Partitioning with longitude value=-61,list_length=20334"
       ]
      },
      {
       "output_type": "stream",
       "stream": "stdout",
       "text": [
        "\n",
        "Partitioning with longitude value=-66,list_length=20334"
       ]
      },
      {
       "output_type": "stream",
       "stream": "stdout",
       "text": [
        "\n",
        "Partitioning with longitude value=-71,list_length=20334"
       ]
      },
      {
       "output_type": "stream",
       "stream": "stdout",
       "text": [
        "\n",
        "Partitioning with longitude value=-76,list_length=20334"
       ]
      },
      {
       "output_type": "stream",
       "stream": "stdout",
       "text": [
        "\n",
        "Partitioning with longitude value=-81,list_length=20334"
       ]
      },
      {
       "output_type": "stream",
       "stream": "stdout",
       "text": [
        "\n",
        "Partitioning with longitude value=-86,list_length=20334"
       ]
      },
      {
       "output_type": "stream",
       "stream": "stdout",
       "text": [
        "\n",
        "Partitioning with longitude value=-91,list_length=20334"
       ]
      },
      {
       "output_type": "stream",
       "stream": "stdout",
       "text": [
        "\n",
        "Partitioning with longitude value=-96,list_length=20334"
       ]
      },
      {
       "output_type": "stream",
       "stream": "stdout",
       "text": [
        "\n",
        "Partitioning with longitude value=-101,list_length=20334"
       ]
      },
      {
       "output_type": "stream",
       "stream": "stdout",
       "text": [
        "\n",
        "Partitioning with longitude value=-106,list_length=20334"
       ]
      },
      {
       "output_type": "stream",
       "stream": "stdout",
       "text": [
        "\n",
        "Recording a successful partition for longitude:-106"
       ]
      },
      {
       "output_type": "stream",
       "stream": "stdout",
       "text": [
        "\n",
        "Calculating new partition value: latitude 7259\n",
        "Partitioning with latitude value=61,list_length=7259"
       ]
      },
      {
       "output_type": "stream",
       "stream": "stdout",
       "text": [
        "\n",
        "Partitioning with latitude value=56,list_length=7259"
       ]
      },
      {
       "output_type": "stream",
       "stream": "stdout",
       "text": [
        "\n",
        "Partitioning with latitude value=51,list_length=7259"
       ]
      },
      {
       "output_type": "stream",
       "stream": "stdout",
       "text": [
        "\n",
        "Partitioning with latitude value=46,list_length=7259"
       ]
      },
      {
       "output_type": "stream",
       "stream": "stdout",
       "text": [
        "\n",
        "Partitioning with latitude value=41,list_length=7259"
       ]
      },
      {
       "output_type": "stream",
       "stream": "stdout",
       "text": [
        "\n",
        "Partitioning with latitude value=36,list_length=7259"
       ]
      },
      {
       "output_type": "stream",
       "stream": "stdout",
       "text": [
        "\n",
        "Partitioning with latitude value=41,list_length=7259"
       ]
      },
      {
       "output_type": "stream",
       "stream": "stdout",
       "text": [
        "\n",
        "STUCK IN LOOP.TRYING TO EXIT."
       ]
      },
      {
       "output_type": "stream",
       "stream": "stdout",
       "text": [
        "\n",
        "Partitioning with latitude value=40.75,list_length=7259\n",
        "Partitioning with latitude value=40.5,list_length=7259"
       ]
      },
      {
       "output_type": "stream",
       "stream": "stdout",
       "text": [
        "\n",
        "Partitioning with latitude value=40.25,list_length=7259"
       ]
      },
      {
       "output_type": "stream",
       "stream": "stdout",
       "text": [
        "\n",
        "Partitioning with latitude value=40.0,list_length=7259"
       ]
      },
      {
       "output_type": "stream",
       "stream": "stdout",
       "text": [
        "\n",
        "Partitioning with latitude value=39.75,list_length=7259"
       ]
      },
      {
       "output_type": "stream",
       "stream": "stdout",
       "text": [
        "\n",
        "Partitioning with latitude value=39.5,list_length=7259"
       ]
      },
      {
       "output_type": "stream",
       "stream": "stdout",
       "text": [
        "\n",
        "Partitioning with latitude value=39.25,list_length=7259"
       ]
      },
      {
       "output_type": "stream",
       "stream": "stdout",
       "text": [
        "\n",
        "Partitioning with latitude value=39.0,list_length=7259"
       ]
      },
      {
       "output_type": "stream",
       "stream": "stdout",
       "text": [
        "\n",
        "Partitioning with latitude value=38.75,list_length=7259"
       ]
      },
      {
       "output_type": "stream",
       "stream": "stdout",
       "text": [
        "\n",
        "Partitioning with latitude value=38.5,list_length=7259"
       ]
      },
      {
       "output_type": "stream",
       "stream": "stdout",
       "text": [
        "\n",
        "Partitioning with latitude value=38.25,list_length=7259"
       ]
      },
      {
       "output_type": "stream",
       "stream": "stdout",
       "text": [
        "\n",
        "Partitioning with latitude value=38.0,list_length=7259"
       ]
      },
      {
       "output_type": "stream",
       "stream": "stdout",
       "text": [
        "\n",
        "Partitioning with latitude value=37.75,list_length=7259"
       ]
      },
      {
       "output_type": "stream",
       "stream": "stdout",
       "text": [
        "\n",
        "Recording a successful partition for latitude:37.75"
       ]
      },
      {
       "output_type": "stream",
       "stream": "stdout",
       "text": [
        "\n",
        "Calculating new partition value: longitude 4198\n",
        "Partitioning with longitude value=36,list_length=4198"
       ]
      },
      {
       "output_type": "stream",
       "stream": "stdout",
       "text": [
        "\n",
        "Partitioning with longitude value=31,list_length=4198"
       ]
      },
      {
       "output_type": "stream",
       "stream": "stdout",
       "text": [
        "\n",
        "Partitioning with longitude value=26,list_length=4198"
       ]
      },
      {
       "output_type": "stream",
       "stream": "stdout",
       "text": [
        "\n",
        "Partitioning with longitude value=21,list_length=4198"
       ]
      },
      {
       "output_type": "stream",
       "stream": "stdout",
       "text": [
        "\n",
        "Partitioning with longitude value=16,list_length=4198"
       ]
      },
      {
       "output_type": "stream",
       "stream": "stdout",
       "text": [
        "\n",
        "Partitioning with longitude value=11,list_length=4198"
       ]
      },
      {
       "output_type": "stream",
       "stream": "stdout",
       "text": [
        "\n",
        "Partitioning with longitude value=6,list_length=4198"
       ]
      },
      {
       "output_type": "stream",
       "stream": "stdout",
       "text": [
        "\n",
        "Partitioning with longitude value=1,list_length=4198"
       ]
      },
      {
       "output_type": "stream",
       "stream": "stdout",
       "text": [
        "\n",
        "Partitioning with longitude value=-4,list_length=4198"
       ]
      },
      {
       "output_type": "stream",
       "stream": "stdout",
       "text": [
        "\n",
        "Partitioning with longitude value=-9,list_length=4198"
       ]
      },
      {
       "output_type": "stream",
       "stream": "stdout",
       "text": [
        "\n",
        "Partitioning with longitude value=-14,list_length=4198"
       ]
      },
      {
       "output_type": "stream",
       "stream": "stdout",
       "text": [
        "\n",
        "Partitioning with longitude value=-19,list_length=4198"
       ]
      },
      {
       "output_type": "stream",
       "stream": "stdout",
       "text": [
        "\n",
        "Partitioning with longitude value=-24,list_length=4198"
       ]
      },
      {
       "output_type": "stream",
       "stream": "stdout",
       "text": [
        "\n",
        "Partitioning with longitude value=-29,list_length=4198"
       ]
      },
      {
       "output_type": "stream",
       "stream": "stdout",
       "text": [
        "\n",
        "Partitioning with longitude value=-34,list_length=4198"
       ]
      },
      {
       "output_type": "stream",
       "stream": "stdout",
       "text": [
        "\n",
        "Partitioning with longitude value=-39,list_length=4198"
       ]
      },
      {
       "output_type": "stream",
       "stream": "stdout",
       "text": [
        "\n",
        "Partitioning with longitude value=-44,list_length=4198"
       ]
      },
      {
       "output_type": "stream",
       "stream": "stdout",
       "text": [
        "\n",
        "Partitioning with longitude value=-49,list_length=4198"
       ]
      },
      {
       "output_type": "stream",
       "stream": "stdout",
       "text": [
        "\n",
        "Partitioning with longitude value=-54,list_length=4198"
       ]
      },
      {
       "output_type": "stream",
       "stream": "stdout",
       "text": [
        "\n",
        "Partitioning with longitude value=-59,list_length=4198"
       ]
      },
      {
       "output_type": "stream",
       "stream": "stdout",
       "text": [
        "\n",
        "Partitioning with longitude value=-64,list_length=4198"
       ]
      },
      {
       "output_type": "stream",
       "stream": "stdout",
       "text": [
        "\n",
        "Partitioning with longitude value=-69,list_length=4198"
       ]
      },
      {
       "output_type": "stream",
       "stream": "stdout",
       "text": [
        "\n",
        "Partitioning with longitude value=-74,list_length=4198"
       ]
      },
      {
       "output_type": "stream",
       "stream": "stdout",
       "text": [
        "\n",
        "Partitioning with longitude value=-79,list_length=4198"
       ]
      },
      {
       "output_type": "stream",
       "stream": "stdout",
       "text": [
        "\n",
        "Partitioning with longitude value=-84,list_length=4198"
       ]
      },
      {
       "output_type": "stream",
       "stream": "stdout",
       "text": [
        "\n",
        "Partitioning with longitude value=-89,list_length=4198"
       ]
      },
      {
       "output_type": "stream",
       "stream": "stdout",
       "text": [
        "\n",
        "Partitioning with longitude value=-94,list_length=4198"
       ]
      },
      {
       "output_type": "stream",
       "stream": "stdout",
       "text": [
        "\n",
        "Partitioning with longitude value=-99,list_length=4198"
       ]
      },
      {
       "output_type": "stream",
       "stream": "stdout",
       "text": [
        "\n",
        "Partitioning with longitude value=-104,list_length=4198"
       ]
      },
      {
       "output_type": "stream",
       "stream": "stdout",
       "text": [
        "\n",
        "Partitioning with longitude value=-109,list_length=4198"
       ]
      },
      {
       "output_type": "stream",
       "stream": "stdout",
       "text": [
        "\n",
        "Partitioning with longitude value=-114,list_length=4198"
       ]
      },
      {
       "output_type": "stream",
       "stream": "stdout",
       "text": [
        "\n",
        "Recording a successful partition for longitude:-114"
       ]
      },
      {
       "output_type": "stream",
       "stream": "stdout",
       "text": [
        "\n",
        "Calculating new partition value: latitude 2063\n",
        "Partitioning with latitude value=58,list_length=2063"
       ]
      },
      {
       "output_type": "stream",
       "stream": "stdout",
       "text": [
        "\n",
        "Calculating new partition value: latitude 2135\n",
        "Partitioning with latitude value=32,list_length=2135"
       ]
      },
      {
       "output_type": "stream",
       "stream": "stdout",
       "text": [
        "\n",
        "Calculating new partition value: longitude 3061\n",
        "Partitioning with longitude value=9,list_length=3061"
       ]
      },
      {
       "output_type": "stream",
       "stream": "stdout",
       "text": [
        "\n",
        "Partitioning with longitude value=4,list_length=3061"
       ]
      },
      {
       "output_type": "stream",
       "stream": "stdout",
       "text": [
        "\n",
        "Partitioning with longitude value=-1,list_length=3061"
       ]
      },
      {
       "output_type": "stream",
       "stream": "stdout",
       "text": [
        "\n",
        "Partitioning with longitude value=-6,list_length=3061"
       ]
      },
      {
       "output_type": "stream",
       "stream": "stdout",
       "text": [
        "\n",
        "Partitioning with longitude value=-11,list_length=3061"
       ]
      },
      {
       "output_type": "stream",
       "stream": "stdout",
       "text": [
        "\n",
        "Partitioning with longitude value=-16,list_length=3061"
       ]
      },
      {
       "output_type": "stream",
       "stream": "stdout",
       "text": [
        "\n",
        "Partitioning with longitude value=-21,list_length=3061"
       ]
      },
      {
       "output_type": "stream",
       "stream": "stdout",
       "text": [
        "\n",
        "Partitioning with longitude value=-26,list_length=3061"
       ]
      },
      {
       "output_type": "stream",
       "stream": "stdout",
       "text": [
        "\n",
        "Partitioning with longitude value=-31,list_length=3061"
       ]
      },
      {
       "output_type": "stream",
       "stream": "stdout",
       "text": [
        "\n",
        "Partitioning with longitude value=-36,list_length=3061"
       ]
      },
      {
       "output_type": "stream",
       "stream": "stdout",
       "text": [
        "\n",
        "Partitioning with longitude value=-41,list_length=3061"
       ]
      },
      {
       "output_type": "stream",
       "stream": "stdout",
       "text": [
        "\n",
        "Partitioning with longitude value=-46,list_length=3061"
       ]
      },
      {
       "output_type": "stream",
       "stream": "stdout",
       "text": [
        "\n",
        "Partitioning with longitude value=-51,list_length=3061"
       ]
      },
      {
       "output_type": "stream",
       "stream": "stdout",
       "text": [
        "\n",
        "Partitioning with longitude value=-56,list_length=3061"
       ]
      },
      {
       "output_type": "stream",
       "stream": "stdout",
       "text": [
        "\n",
        "Partitioning with longitude value=-61,list_length=3061"
       ]
      },
      {
       "output_type": "stream",
       "stream": "stdout",
       "text": [
        "\n",
        "Partitioning with longitude value=-66,list_length=3061"
       ]
      },
      {
       "output_type": "stream",
       "stream": "stdout",
       "text": [
        "\n",
        "Partitioning with longitude value=-71,list_length=3061"
       ]
      },
      {
       "output_type": "stream",
       "stream": "stdout",
       "text": [
        "\n",
        "Partitioning with longitude value=-76,list_length=3061"
       ]
      },
      {
       "output_type": "stream",
       "stream": "stdout",
       "text": [
        "\n",
        "Partitioning with longitude value=-81,list_length=3061"
       ]
      },
      {
       "output_type": "stream",
       "stream": "stdout",
       "text": [
        "\n",
        "Partitioning with longitude value=-86,list_length=3061"
       ]
      },
      {
       "output_type": "stream",
       "stream": "stdout",
       "text": [
        "\n",
        "Partitioning with longitude value=-91,list_length=3061"
       ]
      },
      {
       "output_type": "stream",
       "stream": "stdout",
       "text": [
        "\n",
        "Partitioning with longitude value=-96,list_length=3061"
       ]
      },
      {
       "output_type": "stream",
       "stream": "stdout",
       "text": [
        "\n",
        "Partitioning with longitude value=-101,list_length=3061"
       ]
      },
      {
       "output_type": "stream",
       "stream": "stdout",
       "text": [
        "\n",
        "Partitioning with longitude value=-106,list_length=3061"
       ]
      },
      {
       "output_type": "stream",
       "stream": "stdout",
       "text": [
        "\n",
        "Partitioning with longitude value=-111,list_length=3061"
       ]
      },
      {
       "output_type": "stream",
       "stream": "stdout",
       "text": [
        "\n",
        "Partitioning with longitude value=-116,list_length=3061"
       ]
      },
      {
       "output_type": "stream",
       "stream": "stdout",
       "text": [
        "\n",
        "Recording a successful partition for longitude:-116"
       ]
      },
      {
       "output_type": "stream",
       "stream": "stdout",
       "text": [
        "\n",
        "Calculating new partition value: latitude 1479\n",
        "Partitioning with latitude value=2,list_length=1479"
       ]
      },
      {
       "output_type": "stream",
       "stream": "stdout",
       "text": [
        "\n",
        "Calculating new partition value: latitude 1582\n",
        "Partitioning with latitude value=2,list_length=1582"
       ]
      },
      {
       "output_type": "stream",
       "stream": "stdout",
       "text": [
        "\n",
        "Calculating new partition value: latitude 13075\n",
        "Partitioning with latitude value=21,list_length=13075"
       ]
      },
      {
       "output_type": "stream",
       "stream": "stdout",
       "text": [
        "\n",
        "Partitioning with latitude value=26,list_length=13075"
       ]
      },
      {
       "output_type": "stream",
       "stream": "stdout",
       "text": [
        "\n",
        "Partitioning with latitude value=31,list_length=13075"
       ]
      },
      {
       "output_type": "stream",
       "stream": "stdout",
       "text": [
        "\n",
        "Partitioning with latitude value=36,list_length=13075"
       ]
      },
      {
       "output_type": "stream",
       "stream": "stdout",
       "text": [
        "\n",
        "Recording a successful partition for latitude:36"
       ]
      },
      {
       "output_type": "stream",
       "stream": "stdout",
       "text": [
        "\n",
        "Calculating new partition value: longitude 5430\n",
        "Partitioning with longitude value=7,list_length=5430"
       ]
      },
      {
       "output_type": "stream",
       "stream": "stdout",
       "text": [
        "\n",
        "Partitioning with longitude value=2,list_length=5430"
       ]
      },
      {
       "output_type": "stream",
       "stream": "stdout",
       "text": [
        "\n",
        "Partitioning with longitude value=-3,list_length=5430"
       ]
      },
      {
       "output_type": "stream",
       "stream": "stdout",
       "text": [
        "\n",
        "Partitioning with longitude value=-8,list_length=5430"
       ]
      },
      {
       "output_type": "stream",
       "stream": "stdout",
       "text": [
        "\n",
        "Partitioning with longitude value=-13,list_length=5430"
       ]
      },
      {
       "output_type": "stream",
       "stream": "stdout",
       "text": [
        "\n",
        "Partitioning with longitude value=-18,list_length=5430"
       ]
      },
      {
       "output_type": "stream",
       "stream": "stdout",
       "text": [
        "\n",
        "Partitioning with longitude value=-23,list_length=5430"
       ]
      },
      {
       "output_type": "stream",
       "stream": "stdout",
       "text": [
        "\n",
        "Partitioning with longitude value=-28,list_length=5430"
       ]
      },
      {
       "output_type": "stream",
       "stream": "stdout",
       "text": [
        "\n",
        "Partitioning with longitude value=-33,list_length=5430"
       ]
      },
      {
       "output_type": "stream",
       "stream": "stdout",
       "text": [
        "\n",
        "Partitioning with longitude value=-38,list_length=5430"
       ]
      },
      {
       "output_type": "stream",
       "stream": "stdout",
       "text": [
        "\n",
        "Partitioning with longitude value=-43,list_length=5430"
       ]
      },
      {
       "output_type": "stream",
       "stream": "stdout",
       "text": [
        "\n",
        "Partitioning with longitude value=-48,list_length=5430"
       ]
      },
      {
       "output_type": "stream",
       "stream": "stdout",
       "text": [
        "\n",
        "Partitioning with longitude value=-53,list_length=5430"
       ]
      },
      {
       "output_type": "stream",
       "stream": "stdout",
       "text": [
        "\n",
        "Partitioning with longitude value=-58,list_length=5430"
       ]
      },
      {
       "output_type": "stream",
       "stream": "stdout",
       "text": [
        "\n",
        "Partitioning with longitude value=-63,list_length=5430"
       ]
      },
      {
       "output_type": "stream",
       "stream": "stdout",
       "text": [
        "\n",
        "Partitioning with longitude value=-68,list_length=5430"
       ]
      },
      {
       "output_type": "stream",
       "stream": "stdout",
       "text": [
        "\n",
        "Partitioning with longitude value=-73,list_length=5430"
       ]
      },
      {
       "output_type": "stream",
       "stream": "stdout",
       "text": [
        "\n",
        "Partitioning with longitude value=-78,list_length=5430"
       ]
      },
      {
       "output_type": "stream",
       "stream": "stdout",
       "text": [
        "\n",
        "Partitioning with longitude value=-83,list_length=5430"
       ]
      },
      {
       "output_type": "stream",
       "stream": "stdout",
       "text": [
        "\n",
        "Partitioning with longitude value=-88,list_length=5430"
       ]
      },
      {
       "output_type": "stream",
       "stream": "stdout",
       "text": [
        "\n",
        "Partitioning with longitude value=-93,list_length=5430"
       ]
      },
      {
       "output_type": "stream",
       "stream": "stdout",
       "text": [
        "\n",
        "Partitioning with longitude value=-98,list_length=5430"
       ]
      },
      {
       "output_type": "stream",
       "stream": "stdout",
       "text": [
        "\n",
        "Partitioning with longitude value=-93,list_length=5430"
       ]
      },
      {
       "output_type": "stream",
       "stream": "stdout",
       "text": [
        "\n",
        "STUCK IN LOOP.TRYING TO EXIT."
       ]
      },
      {
       "output_type": "stream",
       "stream": "stdout",
       "text": [
        "\n",
        "Partitioning with longitude value=-93.25,list_length=5430\n",
        "Partitioning with longitude value=-93.5,list_length=5430"
       ]
      },
      {
       "output_type": "stream",
       "stream": "stdout",
       "text": [
        "\n",
        "Partitioning with longitude value=-93.75,list_length=5430"
       ]
      },
      {
       "output_type": "stream",
       "stream": "stdout",
       "text": [
        "\n",
        "Partitioning with longitude value=-94.0,list_length=5430"
       ]
      },
      {
       "output_type": "stream",
       "stream": "stdout",
       "text": [
        "\n",
        "Partitioning with longitude value=-94.25,list_length=5430"
       ]
      },
      {
       "output_type": "stream",
       "stream": "stdout",
       "text": [
        "\n",
        "Partitioning with longitude value=-94.5,list_length=5430"
       ]
      },
      {
       "output_type": "stream",
       "stream": "stdout",
       "text": [
        "\n",
        "Partitioning with longitude value=-94.75,list_length=5430"
       ]
      },
      {
       "output_type": "stream",
       "stream": "stdout",
       "text": [
        "\n",
        "Partitioning with longitude value=-95.0,list_length=5430"
       ]
      },
      {
       "output_type": "stream",
       "stream": "stdout",
       "text": [
        "\n",
        "Partitioning with longitude value=-95.25,list_length=5430"
       ]
      },
      {
       "output_type": "stream",
       "stream": "stdout",
       "text": [
        "\n",
        "Partitioning with longitude value=-95.5,list_length=5430"
       ]
      },
      {
       "output_type": "stream",
       "stream": "stdout",
       "text": [
        "\n",
        "Partitioning with longitude value=-95.75,list_length=5430"
       ]
      },
      {
       "output_type": "stream",
       "stream": "stdout",
       "text": [
        "\n",
        "Partitioning with longitude value=-96.0,list_length=5430"
       ]
      },
      {
       "output_type": "stream",
       "stream": "stdout",
       "text": [
        "\n",
        "Partitioning with longitude value=-96.25,list_length=5430"
       ]
      },
      {
       "output_type": "stream",
       "stream": "stdout",
       "text": [
        "\n",
        "Partitioning with longitude value=-96.5,list_length=5430"
       ]
      },
      {
       "output_type": "stream",
       "stream": "stdout",
       "text": [
        "\n",
        "Partitioning with longitude value=-96.75,list_length=5430"
       ]
      },
      {
       "output_type": "stream",
       "stream": "stdout",
       "text": [
        "\n",
        "Partitioning with longitude value=-97.0,list_length=5430"
       ]
      },
      {
       "output_type": "stream",
       "stream": "stdout",
       "text": [
        "\n",
        "Recording a successful partition for longitude:-97.0"
       ]
      },
      {
       "output_type": "stream",
       "stream": "stdout",
       "text": [
        "\n",
        "Calculating new partition value: latitude 3214\n",
        "Partitioning with latitude value=9,list_length=3214"
       ]
      },
      {
       "output_type": "stream",
       "stream": "stdout",
       "text": [
        "\n",
        "Partitioning with latitude value=14,list_length=3214"
       ]
      },
      {
       "output_type": "stream",
       "stream": "stdout",
       "text": [
        "\n",
        "Partitioning with latitude value=19,list_length=3214"
       ]
      },
      {
       "output_type": "stream",
       "stream": "stdout",
       "text": [
        "\n",
        "Partitioning with latitude value=24,list_length=3214"
       ]
      },
      {
       "output_type": "stream",
       "stream": "stdout",
       "text": [
        "\n",
        "Partitioning with latitude value=29,list_length=3214"
       ]
      },
      {
       "output_type": "stream",
       "stream": "stdout",
       "text": [
        "\n",
        "Partitioning with latitude value=34,list_length=3214"
       ]
      },
      {
       "output_type": "stream",
       "stream": "stdout",
       "text": [
        "\n",
        "Partitioning with latitude value=29,list_length=3214"
       ]
      },
      {
       "output_type": "stream",
       "stream": "stdout",
       "text": [
        "\n",
        "STUCK IN LOOP.TRYING TO EXIT."
       ]
      },
      {
       "output_type": "stream",
       "stream": "stdout",
       "text": [
        "\n",
        "Partitioning with latitude value=29.25,list_length=3214\n",
        "Partitioning with latitude value=29.5,list_length=3214"
       ]
      },
      {
       "output_type": "stream",
       "stream": "stdout",
       "text": [
        "\n",
        "Partitioning with latitude value=29.75,list_length=3214"
       ]
      },
      {
       "output_type": "stream",
       "stream": "stdout",
       "text": [
        "\n",
        "Partitioning with latitude value=30.0,list_length=3214"
       ]
      },
      {
       "output_type": "stream",
       "stream": "stdout",
       "text": [
        "\n",
        "Partitioning with latitude value=30.25,list_length=3214"
       ]
      },
      {
       "output_type": "stream",
       "stream": "stdout",
       "text": [
        "\n",
        "Partitioning with latitude value=30.5,list_length=3214"
       ]
      },
      {
       "output_type": "stream",
       "stream": "stdout",
       "text": [
        "\n",
        "Partitioning with latitude value=30.75,list_length=3214"
       ]
      },
      {
       "output_type": "stream",
       "stream": "stdout",
       "text": [
        "\n",
        "Partitioning with latitude value=31.0,list_length=3214"
       ]
      },
      {
       "output_type": "stream",
       "stream": "stdout",
       "text": [
        "\n",
        "Partitioning with latitude value=31.25,list_length=3214"
       ]
      },
      {
       "output_type": "stream",
       "stream": "stdout",
       "text": [
        "\n",
        "Partitioning with latitude value=31.5,list_length=3214"
       ]
      },
      {
       "output_type": "stream",
       "stream": "stdout",
       "text": [
        "\n",
        "Recording a successful partition for latitude:31.5"
       ]
      },
      {
       "output_type": "stream",
       "stream": "stdout",
       "text": [
        "\n",
        "Calculating new partition value: longitude 1769\n",
        "Partitioning with longitude value=4,list_length=1769"
       ]
      },
      {
       "output_type": "stream",
       "stream": "stdout",
       "text": [
        "\n",
        "Calculating new partition value: longitude 1445\n",
        "Partitioning with longitude value=4,list_length=1445"
       ]
      },
      {
       "output_type": "stream",
       "stream": "stdout",
       "text": [
        "\n",
        "Calculating new partition value: latitude 2216\n",
        "Partitioning with latitude value=18,list_length=2216"
       ]
      },
      {
       "output_type": "stream",
       "stream": "stdout",
       "text": [
        "\n",
        "Calculating new partition value: longitude 7645\n",
        "Partitioning with longitude value=7,list_length=7645"
       ]
      },
      {
       "output_type": "stream",
       "stream": "stdout",
       "text": [
        "\n",
        "Partitioning with longitude value=2,list_length=7645"
       ]
      },
      {
       "output_type": "stream",
       "stream": "stdout",
       "text": [
        "\n",
        "Partitioning with longitude value=-3,list_length=7645"
       ]
      },
      {
       "output_type": "stream",
       "stream": "stdout",
       "text": [
        "\n",
        "Partitioning with longitude value=-8,list_length=7645"
       ]
      },
      {
       "output_type": "stream",
       "stream": "stdout",
       "text": [
        "\n",
        "Partitioning with longitude value=-13,list_length=7645"
       ]
      },
      {
       "output_type": "stream",
       "stream": "stdout",
       "text": [
        "\n",
        "Partitioning with longitude value=-18,list_length=7645"
       ]
      },
      {
       "output_type": "stream",
       "stream": "stdout",
       "text": [
        "\n",
        "Partitioning with longitude value=-23,list_length=7645"
       ]
      },
      {
       "output_type": "stream",
       "stream": "stdout",
       "text": [
        "\n",
        "Partitioning with longitude value=-28,list_length=7645"
       ]
      },
      {
       "output_type": "stream",
       "stream": "stdout",
       "text": [
        "\n",
        "Partitioning with longitude value=-33,list_length=7645"
       ]
      },
      {
       "output_type": "stream",
       "stream": "stdout",
       "text": [
        "\n",
        "Partitioning with longitude value=-38,list_length=7645"
       ]
      },
      {
       "output_type": "stream",
       "stream": "stdout",
       "text": [
        "\n",
        "Partitioning with longitude value=-43,list_length=7645"
       ]
      },
      {
       "output_type": "stream",
       "stream": "stdout",
       "text": [
        "\n",
        "Partitioning with longitude value=-48,list_length=7645"
       ]
      },
      {
       "output_type": "stream",
       "stream": "stdout",
       "text": [
        "\n",
        "Partitioning with longitude value=-53,list_length=7645"
       ]
      },
      {
       "output_type": "stream",
       "stream": "stdout",
       "text": [
        "\n",
        "Partitioning with longitude value=-58,list_length=7645"
       ]
      },
      {
       "output_type": "stream",
       "stream": "stdout",
       "text": [
        "\n",
        "Partitioning with longitude value=-63,list_length=7645"
       ]
      },
      {
       "output_type": "stream",
       "stream": "stdout",
       "text": [
        "\n",
        "Partitioning with longitude value=-68,list_length=7645"
       ]
      },
      {
       "output_type": "stream",
       "stream": "stdout",
       "text": [
        "\n",
        "Partitioning with longitude value=-73,list_length=7645"
       ]
      },
      {
       "output_type": "stream",
       "stream": "stdout",
       "text": [
        "\n",
        "Partitioning with longitude value=-78,list_length=7645"
       ]
      },
      {
       "output_type": "stream",
       "stream": "stdout",
       "text": [
        "\n",
        "Partitioning with longitude value=-83,list_length=7645"
       ]
      },
      {
       "output_type": "stream",
       "stream": "stdout",
       "text": [
        "\n",
        "Partitioning with longitude value=-88,list_length=7645"
       ]
      },
      {
       "output_type": "stream",
       "stream": "stdout",
       "text": [
        "\n",
        "Partitioning with longitude value=-93,list_length=7645"
       ]
      },
      {
       "output_type": "stream",
       "stream": "stdout",
       "text": [
        "\n",
        "Partitioning with longitude value=-98,list_length=7645"
       ]
      },
      {
       "output_type": "stream",
       "stream": "stdout",
       "text": [
        "\n",
        "Partitioning with longitude value=-93,list_length=7645"
       ]
      },
      {
       "output_type": "stream",
       "stream": "stdout",
       "text": [
        "\n",
        "STUCK IN LOOP.TRYING TO EXIT."
       ]
      },
      {
       "output_type": "stream",
       "stream": "stdout",
       "text": [
        "\n",
        "Partitioning with longitude value=-93.25,list_length=7645\n",
        "Partitioning with longitude value=-93.5,list_length=7645"
       ]
      },
      {
       "output_type": "stream",
       "stream": "stdout",
       "text": [
        "\n",
        "Partitioning with longitude value=-93.75,list_length=7645"
       ]
      },
      {
       "output_type": "stream",
       "stream": "stdout",
       "text": [
        "\n",
        "Partitioning with longitude value=-94.0,list_length=7645"
       ]
      },
      {
       "output_type": "stream",
       "stream": "stdout",
       "text": [
        "\n",
        "Partitioning with longitude value=-94.25,list_length=7645"
       ]
      },
      {
       "output_type": "stream",
       "stream": "stdout",
       "text": [
        "\n",
        "Partitioning with longitude value=-94.5,list_length=7645"
       ]
      },
      {
       "output_type": "stream",
       "stream": "stdout",
       "text": [
        "\n",
        "Partitioning with longitude value=-94.75,list_length=7645"
       ]
      },
      {
       "output_type": "stream",
       "stream": "stdout",
       "text": [
        "\n",
        "Partitioning with longitude value=-95.0,list_length=7645"
       ]
      },
      {
       "output_type": "stream",
       "stream": "stdout",
       "text": [
        "\n",
        "Partitioning with longitude value=-95.25,list_length=7645"
       ]
      },
      {
       "output_type": "stream",
       "stream": "stdout",
       "text": [
        "\n",
        "Partitioning with longitude value=-95.5,list_length=7645"
       ]
      },
      {
       "output_type": "stream",
       "stream": "stdout",
       "text": [
        "\n",
        "Partitioning with longitude value=-95.75,list_length=7645"
       ]
      },
      {
       "output_type": "stream",
       "stream": "stdout",
       "text": [
        "\n",
        "Partitioning with longitude value=-96.0,list_length=7645"
       ]
      },
      {
       "output_type": "stream",
       "stream": "stdout",
       "text": [
        "\n",
        "Partitioning with longitude value=-96.25,list_length=7645"
       ]
      },
      {
       "output_type": "stream",
       "stream": "stdout",
       "text": [
        "\n",
        "Recording a successful partition for longitude:-96.25"
       ]
      },
      {
       "output_type": "stream",
       "stream": "stdout",
       "text": [
        "\n",
        "Calculating new partition value: latitude 5281\n",
        "Partitioning with latitude value=3,list_length=5281"
       ]
      },
      {
       "output_type": "stream",
       "stream": "stdout",
       "text": [
        "\n",
        "Partitioning with latitude value=8,list_length=5281"
       ]
      },
      {
       "output_type": "stream",
       "stream": "stdout",
       "text": [
        "\n",
        "Partitioning with latitude value=13,list_length=5281"
       ]
      },
      {
       "output_type": "stream",
       "stream": "stdout",
       "text": [
        "\n",
        "Partitioning with latitude value=18,list_length=5281"
       ]
      },
      {
       "output_type": "stream",
       "stream": "stdout",
       "text": [
        "\n",
        "Partitioning with latitude value=23,list_length=5281"
       ]
      },
      {
       "output_type": "stream",
       "stream": "stdout",
       "text": [
        "\n",
        "Partitioning with latitude value=28,list_length=5281"
       ]
      },
      {
       "output_type": "stream",
       "stream": "stdout",
       "text": [
        "\n",
        "Partitioning with latitude value=33,list_length=5281"
       ]
      },
      {
       "output_type": "stream",
       "stream": "stdout",
       "text": [
        "\n",
        "Partitioning with latitude value=38,list_length=5281"
       ]
      },
      {
       "output_type": "stream",
       "stream": "stdout",
       "text": [
        "\n",
        "Partitioning with latitude value=43,list_length=5281"
       ]
      },
      {
       "output_type": "stream",
       "stream": "stdout",
       "text": [
        "\n",
        "Partitioning with latitude value=38,list_length=5281"
       ]
      },
      {
       "output_type": "stream",
       "stream": "stdout",
       "text": [
        "\n",
        "STUCK IN LOOP.TRYING TO EXIT."
       ]
      },
      {
       "output_type": "stream",
       "stream": "stdout",
       "text": [
        "\n",
        "Partitioning with latitude value=38.25,list_length=5281\n",
        "Partitioning with latitude value=38.5,list_length=5281"
       ]
      },
      {
       "output_type": "stream",
       "stream": "stdout",
       "text": [
        "\n",
        "Partitioning with latitude value=38.75,list_length=5281"
       ]
      },
      {
       "output_type": "stream",
       "stream": "stdout",
       "text": [
        "\n",
        "Partitioning with latitude value=39.0,list_length=5281"
       ]
      },
      {
       "output_type": "stream",
       "stream": "stdout",
       "text": [
        "\n",
        "Partitioning with latitude value=39.25,list_length=5281"
       ]
      },
      {
       "output_type": "stream",
       "stream": "stdout",
       "text": [
        "\n",
        "Recording a successful partition for latitude:39.25"
       ]
      },
      {
       "output_type": "stream",
       "stream": "stdout",
       "text": [
        "\n",
        "Calculating new partition value: longitude 1813\n",
        "Partitioning with longitude value=4,list_length=1813"
       ]
      },
      {
       "output_type": "stream",
       "stream": "stdout",
       "text": [
        "\n",
        "Calculating new partition value: longitude 3468\n",
        "Partitioning with longitude value=4,list_length=3468"
       ]
      },
      {
       "output_type": "stream",
       "stream": "stdout",
       "text": [
        "\n",
        "Partitioning with longitude value=-1,list_length=3468"
       ]
      },
      {
       "output_type": "stream",
       "stream": "stdout",
       "text": [
        "\n",
        "Partitioning with longitude value=-6,list_length=3468"
       ]
      },
      {
       "output_type": "stream",
       "stream": "stdout",
       "text": [
        "\n",
        "Partitioning with longitude value=-11,list_length=3468"
       ]
      },
      {
       "output_type": "stream",
       "stream": "stdout",
       "text": [
        "\n",
        "Partitioning with longitude value=-16,list_length=3468"
       ]
      },
      {
       "output_type": "stream",
       "stream": "stdout",
       "text": [
        "\n",
        "Partitioning with longitude value=-21,list_length=3468"
       ]
      },
      {
       "output_type": "stream",
       "stream": "stdout",
       "text": [
        "\n",
        "Partitioning with longitude value=-26,list_length=3468"
       ]
      },
      {
       "output_type": "stream",
       "stream": "stdout",
       "text": [
        "\n",
        "Partitioning with longitude value=-31,list_length=3468"
       ]
      },
      {
       "output_type": "stream",
       "stream": "stdout",
       "text": [
        "\n",
        "Partitioning with longitude value=-36,list_length=3468"
       ]
      },
      {
       "output_type": "stream",
       "stream": "stdout",
       "text": [
        "\n",
        "Partitioning with longitude value=-41,list_length=3468"
       ]
      },
      {
       "output_type": "stream",
       "stream": "stdout",
       "text": [
        "\n",
        "Partitioning with longitude value=-46,list_length=3468"
       ]
      },
      {
       "output_type": "stream",
       "stream": "stdout",
       "text": [
        "\n",
        "Partitioning with longitude value=-51,list_length=3468"
       ]
      },
      {
       "output_type": "stream",
       "stream": "stdout",
       "text": [
        "\n",
        "Partitioning with longitude value=-56,list_length=3468"
       ]
      },
      {
       "output_type": "stream",
       "stream": "stdout",
       "text": [
        "\n",
        "Partitioning with longitude value=-61,list_length=3468"
       ]
      },
      {
       "output_type": "stream",
       "stream": "stdout",
       "text": [
        "\n",
        "Partitioning with longitude value=-66,list_length=3468"
       ]
      },
      {
       "output_type": "stream",
       "stream": "stdout",
       "text": [
        "\n",
        "Partitioning with longitude value=-71,list_length=3468"
       ]
      },
      {
       "output_type": "stream",
       "stream": "stdout",
       "text": [
        "\n",
        "Partitioning with longitude value=-76,list_length=3468"
       ]
      },
      {
       "output_type": "stream",
       "stream": "stdout",
       "text": [
        "\n",
        "Partitioning with longitude value=-81,list_length=3468"
       ]
      },
      {
       "output_type": "stream",
       "stream": "stdout",
       "text": [
        "\n",
        "Partitioning with longitude value=-86,list_length=3468"
       ]
      },
      {
       "output_type": "stream",
       "stream": "stdout",
       "text": [
        "\n",
        "Partitioning with longitude value=-91,list_length=3468"
       ]
      },
      {
       "output_type": "stream",
       "stream": "stdout",
       "text": [
        "\n",
        "Partitioning with longitude value=-96,list_length=3468"
       ]
      },
      {
       "output_type": "stream",
       "stream": "stdout",
       "text": [
        "\n",
        "Partitioning with longitude value=-101,list_length=3468"
       ]
      },
      {
       "output_type": "stream",
       "stream": "stdout",
       "text": [
        "\n",
        "Recording a successful partition for longitude:-101"
       ]
      },
      {
       "output_type": "stream",
       "stream": "stdout",
       "text": [
        "\n",
        "Calculating new partition value: latitude 2301\n",
        "Partitioning with latitude value=1,list_length=2301"
       ]
      },
      {
       "output_type": "stream",
       "stream": "stdout",
       "text": [
        "\n",
        "Calculating new partition value: latitude 1167\n",
        "Partitioning with latitude value=1,list_length=1167"
       ]
      },
      {
       "output_type": "stream",
       "stream": "stdout",
       "text": [
        "\n",
        "Calculating new partition value: latitude 2364\n",
        "Partitioning with latitude value=3,list_length=2364"
       ]
      },
      {
       "output_type": "stream",
       "stream": "stdout",
       "text": [
        "\n",
        "Calculating new partition value: longitude 11168\n",
        "Partitioning with longitude value=44,list_length=11168"
       ]
      },
      {
       "output_type": "stream",
       "stream": "stdout",
       "text": [
        "\n",
        "Partitioning with longitude value=39,list_length=11168"
       ]
      },
      {
       "output_type": "stream",
       "stream": "stdout",
       "text": [
        "\n",
        "Partitioning with longitude value=34,list_length=11168"
       ]
      },
      {
       "output_type": "stream",
       "stream": "stdout",
       "text": [
        "\n",
        "Partitioning with longitude value=29,list_length=11168"
       ]
      },
      {
       "output_type": "stream",
       "stream": "stdout",
       "text": [
        "\n",
        "Partitioning with longitude value=24,list_length=11168"
       ]
      },
      {
       "output_type": "stream",
       "stream": "stdout",
       "text": [
        "\n",
        "Partitioning with longitude value=19,list_length=11168"
       ]
      },
      {
       "output_type": "stream",
       "stream": "stdout",
       "text": [
        "\n",
        "Partitioning with longitude value=14,list_length=11168"
       ]
      },
      {
       "output_type": "stream",
       "stream": "stdout",
       "text": [
        "\n",
        "Partitioning with longitude value=9,list_length=11168"
       ]
      },
      {
       "output_type": "stream",
       "stream": "stdout",
       "text": [
        "\n",
        "Partitioning with longitude value=4,list_length=11168"
       ]
      },
      {
       "output_type": "stream",
       "stream": "stdout",
       "text": [
        "\n",
        "Partitioning with longitude value=-1,list_length=11168"
       ]
      },
      {
       "output_type": "stream",
       "stream": "stdout",
       "text": [
        "\n",
        "Partitioning with longitude value=-6,list_length=11168"
       ]
      },
      {
       "output_type": "stream",
       "stream": "stdout",
       "text": [
        "\n",
        "Partitioning with longitude value=-11,list_length=11168"
       ]
      },
      {
       "output_type": "stream",
       "stream": "stdout",
       "text": [
        "\n",
        "Partitioning with longitude value=-16,list_length=11168"
       ]
      },
      {
       "output_type": "stream",
       "stream": "stdout",
       "text": [
        "\n",
        "Partitioning with longitude value=-21,list_length=11168"
       ]
      },
      {
       "output_type": "stream",
       "stream": "stdout",
       "text": [
        "\n",
        "Partitioning with longitude value=-26,list_length=11168"
       ]
      },
      {
       "output_type": "stream",
       "stream": "stdout",
       "text": [
        "\n",
        "Partitioning with longitude value=-31,list_length=11168"
       ]
      },
      {
       "output_type": "stream",
       "stream": "stdout",
       "text": [
        "\n",
        "Partitioning with longitude value=-36,list_length=11168"
       ]
      },
      {
       "output_type": "stream",
       "stream": "stdout",
       "text": [
        "\n",
        "Partitioning with longitude value=-41,list_length=11168"
       ]
      },
      {
       "output_type": "stream",
       "stream": "stdout",
       "text": [
        "\n",
        "Partitioning with longitude value=-46,list_length=11168"
       ]
      },
      {
       "output_type": "stream",
       "stream": "stdout",
       "text": [
        "\n",
        "Partitioning with longitude value=-51,list_length=11168"
       ]
      },
      {
       "output_type": "stream",
       "stream": "stdout",
       "text": [
        "\n",
        "Partitioning with longitude value=-56,list_length=11168"
       ]
      },
      {
       "output_type": "stream",
       "stream": "stdout",
       "text": [
        "\n",
        "Partitioning with longitude value=-61,list_length=11168"
       ]
      },
      {
       "output_type": "stream",
       "stream": "stdout",
       "text": [
        "\n",
        "Partitioning with longitude value=-66,list_length=11168"
       ]
      },
      {
       "output_type": "stream",
       "stream": "stdout",
       "text": [
        "\n",
        "Partitioning with longitude value=-71,list_length=11168"
       ]
      },
      {
       "output_type": "stream",
       "stream": "stdout",
       "text": [
        "\n",
        "Partitioning with longitude value=-76,list_length=11168"
       ]
      },
      {
       "output_type": "stream",
       "stream": "stdout",
       "text": [
        "\n",
        "Partitioning with longitude value=-81,list_length=11168"
       ]
      },
      {
       "output_type": "stream",
       "stream": "stdout",
       "text": [
        "\n",
        "Partitioning with longitude value=-86,list_length=11168"
       ]
      },
      {
       "output_type": "stream",
       "stream": "stdout",
       "text": [
        "\n",
        "Partitioning with longitude value=-91,list_length=11168"
       ]
      },
      {
       "output_type": "stream",
       "stream": "stdout",
       "text": [
        "\n",
        "Partitioning with longitude value=-96,list_length=11168"
       ]
      },
      {
       "output_type": "stream",
       "stream": "stdout",
       "text": [
        "\n",
        "Partitioning with longitude value=-101,list_length=11168"
       ]
      },
      {
       "output_type": "stream",
       "stream": "stdout",
       "text": [
        "\n",
        "Partitioning with longitude value=-106,list_length=11168"
       ]
      },
      {
       "output_type": "stream",
       "stream": "stdout",
       "text": [
        "\n",
        "Partitioning with longitude value=-111,list_length=11168"
       ]
      },
      {
       "output_type": "stream",
       "stream": "stdout",
       "text": [
        "\n",
        "Partitioning with longitude value=-116,list_length=11168"
       ]
      },
      {
       "output_type": "stream",
       "stream": "stdout",
       "text": [
        "\n",
        "Partitioning with longitude value=-111,list_length=11168"
       ]
      },
      {
       "output_type": "stream",
       "stream": "stdout",
       "text": [
        "\n",
        "STUCK IN LOOP.TRYING TO EXIT."
       ]
      },
      {
       "output_type": "stream",
       "stream": "stdout",
       "text": [
        "\n",
        "Partitioning with longitude value=-111.25,list_length=11168\n",
        "Recording a successful partition for longitude:-111.25"
       ]
      },
      {
       "output_type": "stream",
       "stream": "stdout",
       "text": [
        "\n",
        "Calculating new partition value: latitude 6279\n",
        "Partitioning with latitude value=19,list_length=6279"
       ]
      },
      {
       "output_type": "stream",
       "stream": "stdout",
       "text": [
        "\n",
        "Partitioning with latitude value=24,list_length=6279"
       ]
      },
      {
       "output_type": "stream",
       "stream": "stdout",
       "text": [
        "\n",
        "Partitioning with latitude value=29,list_length=6279"
       ]
      },
      {
       "output_type": "stream",
       "stream": "stdout",
       "text": [
        "\n",
        "Partitioning with latitude value=34,list_length=6279"
       ]
      },
      {
       "output_type": "stream",
       "stream": "stdout",
       "text": [
        "\n",
        "Partitioning with latitude value=39,list_length=6279"
       ]
      },
      {
       "output_type": "stream",
       "stream": "stdout",
       "text": [
        "\n",
        "Partitioning with latitude value=44,list_length=6279"
       ]
      },
      {
       "output_type": "stream",
       "stream": "stdout",
       "text": [
        "\n",
        "Partitioning with latitude value=49,list_length=6279"
       ]
      },
      {
       "output_type": "stream",
       "stream": "stdout",
       "text": [
        "\n",
        "Partitioning with latitude value=44,list_length=6279"
       ]
      },
      {
       "output_type": "stream",
       "stream": "stdout",
       "text": [
        "\n",
        "STUCK IN LOOP.TRYING TO EXIT."
       ]
      },
      {
       "output_type": "stream",
       "stream": "stdout",
       "text": [
        "\n",
        "Partitioning with latitude value=44.25,list_length=6279\n",
        "Partitioning with latitude value=44.5,list_length=6279"
       ]
      },
      {
       "output_type": "stream",
       "stream": "stdout",
       "text": [
        "\n",
        "Partitioning with latitude value=44.75,list_length=6279"
       ]
      },
      {
       "output_type": "stream",
       "stream": "stdout",
       "text": [
        "\n",
        "Partitioning with latitude value=45.0,list_length=6279"
       ]
      },
      {
       "output_type": "stream",
       "stream": "stdout",
       "text": [
        "\n",
        "Partitioning with latitude value=45.25,list_length=6279"
       ]
      },
      {
       "output_type": "stream",
       "stream": "stdout",
       "text": [
        "\n",
        "Partitioning with latitude value=45.5,list_length=6279"
       ]
      },
      {
       "output_type": "stream",
       "stream": "stdout",
       "text": [
        "\n",
        "Partitioning with latitude value=45.75,list_length=6279"
       ]
      },
      {
       "output_type": "stream",
       "stream": "stdout",
       "text": [
        "\n",
        "Partitioning with latitude value=46.0,list_length=6279"
       ]
      },
      {
       "output_type": "stream",
       "stream": "stdout",
       "text": [
        "\n",
        "Partitioning with latitude value=46.25,list_length=6279"
       ]
      },
      {
       "output_type": "stream",
       "stream": "stdout",
       "text": [
        "\n",
        "Partitioning with latitude value=46.5,list_length=6279"
       ]
      },
      {
       "output_type": "stream",
       "stream": "stdout",
       "text": [
        "\n",
        "Partitioning with latitude value=46.75,list_length=6279"
       ]
      },
      {
       "output_type": "stream",
       "stream": "stdout",
       "text": [
        "\n",
        "Partitioning with latitude value=47.0,list_length=6279"
       ]
      },
      {
       "output_type": "stream",
       "stream": "stdout",
       "text": [
        "\n",
        "Partitioning with latitude value=47.25,list_length=6279"
       ]
      },
      {
       "output_type": "stream",
       "stream": "stdout",
       "text": [
        "\n",
        "Partitioning with latitude value=47.5,list_length=6279"
       ]
      },
      {
       "output_type": "stream",
       "stream": "stdout",
       "text": [
        "\n",
        "Partitioning with latitude value=47.75,list_length=6279"
       ]
      },
      {
       "output_type": "stream",
       "stream": "stdout",
       "text": [
        "\n",
        "Recording a successful partition for latitude:47.75"
       ]
      },
      {
       "output_type": "stream",
       "stream": "stdout",
       "text": [
        "\n",
        "Calculating new partition value: longitude 2816\n",
        "Partitioning with longitude value=6,list_length=2816"
       ]
      },
      {
       "output_type": "stream",
       "stream": "stdout",
       "text": [
        "\n",
        "Partitioning with longitude value=1,list_length=2816"
       ]
      },
      {
       "output_type": "stream",
       "stream": "stdout",
       "text": [
        "\n",
        "Partitioning with longitude value=-4,list_length=2816"
       ]
      },
      {
       "output_type": "stream",
       "stream": "stdout",
       "text": [
        "\n",
        "Partitioning with longitude value=-9,list_length=2816"
       ]
      },
      {
       "output_type": "stream",
       "stream": "stdout",
       "text": [
        "\n",
        "Partitioning with longitude value=-14,list_length=2816"
       ]
      },
      {
       "output_type": "stream",
       "stream": "stdout",
       "text": [
        "\n",
        "Partitioning with longitude value=-19,list_length=2816"
       ]
      },
      {
       "output_type": "stream",
       "stream": "stdout",
       "text": [
        "\n",
        "Partitioning with longitude value=-24,list_length=2816"
       ]
      },
      {
       "output_type": "stream",
       "stream": "stdout",
       "text": [
        "\n",
        "Partitioning with longitude value=-29,list_length=2816"
       ]
      },
      {
       "output_type": "stream",
       "stream": "stdout",
       "text": [
        "\n",
        "Partitioning with longitude value=-34,list_length=2816"
       ]
      },
      {
       "output_type": "stream",
       "stream": "stdout",
       "text": [
        "\n",
        "Partitioning with longitude value=-39,list_length=2816"
       ]
      },
      {
       "output_type": "stream",
       "stream": "stdout",
       "text": [
        "\n",
        "Partitioning with longitude value=-44,list_length=2816"
       ]
      },
      {
       "output_type": "stream",
       "stream": "stdout",
       "text": [
        "\n",
        "Partitioning with longitude value=-49,list_length=2816"
       ]
      },
      {
       "output_type": "stream",
       "stream": "stdout",
       "text": [
        "\n",
        "Partitioning with longitude value=-54,list_length=2816"
       ]
      },
      {
       "output_type": "stream",
       "stream": "stdout",
       "text": [
        "\n",
        "Partitioning with longitude value=-59,list_length=2816"
       ]
      },
      {
       "output_type": "stream",
       "stream": "stdout",
       "text": [
        "\n",
        "Partitioning with longitude value=-64,list_length=2816"
       ]
      },
      {
       "output_type": "stream",
       "stream": "stdout",
       "text": [
        "\n",
        "Partitioning with longitude value=-69,list_length=2816"
       ]
      },
      {
       "output_type": "stream",
       "stream": "stdout",
       "text": [
        "\n",
        "Partitioning with longitude value=-74,list_length=2816"
       ]
      },
      {
       "output_type": "stream",
       "stream": "stdout",
       "text": [
        "\n",
        "Partitioning with longitude value=-79,list_length=2816"
       ]
      },
      {
       "output_type": "stream",
       "stream": "stdout",
       "text": [
        "\n",
        "Partitioning with longitude value=-84,list_length=2816"
       ]
      },
      {
       "output_type": "stream",
       "stream": "stdout",
       "text": [
        "\n",
        "Partitioning with longitude value=-89,list_length=2816"
       ]
      },
      {
       "output_type": "stream",
       "stream": "stdout",
       "text": [
        "\n",
        "Partitioning with longitude value=-94,list_length=2816"
       ]
      },
      {
       "output_type": "stream",
       "stream": "stdout",
       "text": [
        "\n",
        "Partitioning with longitude value=-99,list_length=2816"
       ]
      },
      {
       "output_type": "stream",
       "stream": "stdout",
       "text": [
        "\n",
        "Partitioning with longitude value=-104,list_length=2816"
       ]
      },
      {
       "output_type": "stream",
       "stream": "stdout",
       "text": [
        "\n",
        "Partitioning with longitude value=-109,list_length=2816"
       ]
      },
      {
       "output_type": "stream",
       "stream": "stdout",
       "text": [
        "\n",
        "Partitioning with longitude value=-114,list_length=2816"
       ]
      },
      {
       "output_type": "stream",
       "stream": "stdout",
       "text": [
        "\n",
        "Partitioning with longitude value=-119,list_length=2816"
       ]
      },
      {
       "output_type": "stream",
       "stream": "stdout",
       "text": [
        "\n",
        "Recording a successful partition for longitude:-119"
       ]
      },
      {
       "output_type": "stream",
       "stream": "stdout",
       "text": [
        "\n",
        "Calculating new partition value: latitude 1594\n",
        "Partitioning with latitude value=2,list_length=1594"
       ]
      },
      {
       "output_type": "stream",
       "stream": "stdout",
       "text": [
        "\n",
        "Calculating new partition value: latitude 1222\n",
        "Partitioning with latitude value=2,list_length=1222"
       ]
      },
      {
       "output_type": "stream",
       "stream": "stdout",
       "text": [
        "\n",
        "Calculating new partition value: longitude 3463\n",
        "Partitioning with longitude value=34,list_length=3463"
       ]
      },
      {
       "output_type": "stream",
       "stream": "stdout",
       "text": [
        "\n",
        "Partitioning with longitude value=29,list_length=3463"
       ]
      },
      {
       "output_type": "stream",
       "stream": "stdout",
       "text": [
        "\n",
        "Partitioning with longitude value=24,list_length=3463"
       ]
      },
      {
       "output_type": "stream",
       "stream": "stdout",
       "text": [
        "\n",
        "Partitioning with longitude value=19,list_length=3463"
       ]
      },
      {
       "output_type": "stream",
       "stream": "stdout",
       "text": [
        "\n",
        "Partitioning with longitude value=14,list_length=3463"
       ]
      },
      {
       "output_type": "stream",
       "stream": "stdout",
       "text": [
        "\n",
        "Partitioning with longitude value=9,list_length=3463"
       ]
      },
      {
       "output_type": "stream",
       "stream": "stdout",
       "text": [
        "\n",
        "Partitioning with longitude value=4,list_length=3463"
       ]
      },
      {
       "output_type": "stream",
       "stream": "stdout",
       "text": [
        "\n",
        "Partitioning with longitude value=-1,list_length=3463"
       ]
      },
      {
       "output_type": "stream",
       "stream": "stdout",
       "text": [
        "\n",
        "Partitioning with longitude value=-6,list_length=3463"
       ]
      },
      {
       "output_type": "stream",
       "stream": "stdout",
       "text": [
        "\n",
        "Partitioning with longitude value=-11,list_length=3463"
       ]
      },
      {
       "output_type": "stream",
       "stream": "stdout",
       "text": [
        "\n",
        "Partitioning with longitude value=-16,list_length=3463"
       ]
      },
      {
       "output_type": "stream",
       "stream": "stdout",
       "text": [
        "\n",
        "Partitioning with longitude value=-21,list_length=3463"
       ]
      },
      {
       "output_type": "stream",
       "stream": "stdout",
       "text": [
        "\n",
        "Partitioning with longitude value=-26,list_length=3463"
       ]
      },
      {
       "output_type": "stream",
       "stream": "stdout",
       "text": [
        "\n",
        "Partitioning with longitude value=-31,list_length=3463"
       ]
      },
      {
       "output_type": "stream",
       "stream": "stdout",
       "text": [
        "\n",
        "Partitioning with longitude value=-36,list_length=3463"
       ]
      },
      {
       "output_type": "stream",
       "stream": "stdout",
       "text": [
        "\n",
        "Partitioning with longitude value=-41,list_length=3463"
       ]
      },
      {
       "output_type": "stream",
       "stream": "stdout",
       "text": [
        "\n",
        "Partitioning with longitude value=-46,list_length=3463"
       ]
      },
      {
       "output_type": "stream",
       "stream": "stdout",
       "text": [
        "\n",
        "Partitioning with longitude value=-51,list_length=3463"
       ]
      },
      {
       "output_type": "stream",
       "stream": "stdout",
       "text": [
        "\n",
        "Partitioning with longitude value=-56,list_length=3463"
       ]
      },
      {
       "output_type": "stream",
       "stream": "stdout",
       "text": [
        "\n",
        "Partitioning with longitude value=-61,list_length=3463"
       ]
      },
      {
       "output_type": "stream",
       "stream": "stdout",
       "text": [
        "\n",
        "Partitioning with longitude value=-66,list_length=3463"
       ]
      },
      {
       "output_type": "stream",
       "stream": "stdout",
       "text": [
        "\n",
        "Partitioning with longitude value=-71,list_length=3463"
       ]
      },
      {
       "output_type": "stream",
       "stream": "stdout",
       "text": [
        "\n",
        "Partitioning with longitude value=-76,list_length=3463"
       ]
      },
      {
       "output_type": "stream",
       "stream": "stdout",
       "text": [
        "\n",
        "Partitioning with longitude value=-81,list_length=3463"
       ]
      },
      {
       "output_type": "stream",
       "stream": "stdout",
       "text": [
        "\n",
        "Partitioning with longitude value=-86,list_length=3463"
       ]
      },
      {
       "output_type": "stream",
       "stream": "stdout",
       "text": [
        "\n",
        "Partitioning with longitude value=-91,list_length=3463"
       ]
      },
      {
       "output_type": "stream",
       "stream": "stdout",
       "text": [
        "\n",
        "Partitioning with longitude value=-96,list_length=3463"
       ]
      },
      {
       "output_type": "stream",
       "stream": "stdout",
       "text": [
        "\n",
        "Partitioning with longitude value=-101,list_length=3463"
       ]
      },
      {
       "output_type": "stream",
       "stream": "stdout",
       "text": [
        "\n",
        "Partitioning with longitude value=-106,list_length=3463"
       ]
      },
      {
       "output_type": "stream",
       "stream": "stdout",
       "text": [
        "\n",
        "Partitioning with longitude value=-111,list_length=3463"
       ]
      },
      {
       "output_type": "stream",
       "stream": "stdout",
       "text": [
        "\n",
        "Partitioning with longitude value=-116,list_length=3463"
       ]
      },
      {
       "output_type": "stream",
       "stream": "stdout",
       "text": [
        "\n",
        "Partitioning with longitude value=-121,list_length=3463"
       ]
      },
      {
       "output_type": "stream",
       "stream": "stdout",
       "text": [
        "\n",
        "Partitioning with longitude value=-126,list_length=3463"
       ]
      },
      {
       "output_type": "stream",
       "stream": "stdout",
       "text": [
        "\n",
        "Partitioning with longitude value=-121,list_length=3463"
       ]
      },
      {
       "output_type": "stream",
       "stream": "stdout",
       "text": [
        "\n",
        "STUCK IN LOOP.TRYING TO EXIT."
       ]
      },
      {
       "output_type": "stream",
       "stream": "stdout",
       "text": [
        "\n",
        "Partitioning with longitude value=-121.25,list_length=3463\n",
        "Recording a successful partition for longitude:-121.25"
       ]
      },
      {
       "output_type": "stream",
       "stream": "stdout",
       "text": [
        "\n",
        "Calculating new partition value: latitude 1924\n",
        "Partitioning with latitude value=12,list_length=1924"
       ]
      },
      {
       "output_type": "stream",
       "stream": "stdout",
       "text": [
        "\n",
        "Calculating new partition value: latitude 1539\n",
        "Partitioning with latitude value=16,list_length=1539"
       ]
      },
      {
       "output_type": "stream",
       "stream": "stdout",
       "text": [
        "\n",
        "Calculating new partition value: latitude 4889\n",
        "Partitioning with latitude value=18,list_length=4889"
       ]
      },
      {
       "output_type": "stream",
       "stream": "stdout",
       "text": [
        "\n",
        "Partitioning with latitude value=23,list_length=4889"
       ]
      },
      {
       "output_type": "stream",
       "stream": "stdout",
       "text": [
        "\n",
        "Partitioning with latitude value=28,list_length=4889"
       ]
      },
      {
       "output_type": "stream",
       "stream": "stdout",
       "text": [
        "\n",
        "Partitioning with latitude value=33,list_length=4889"
       ]
      },
      {
       "output_type": "stream",
       "stream": "stdout",
       "text": [
        "\n",
        "Partitioning with latitude value=38,list_length=4889"
       ]
      },
      {
       "output_type": "stream",
       "stream": "stdout",
       "text": [
        "\n",
        "Partitioning with latitude value=43,list_length=4889"
       ]
      },
      {
       "output_type": "stream",
       "stream": "stdout",
       "text": [
        "\n",
        "Partitioning with latitude value=48,list_length=4889"
       ]
      },
      {
       "output_type": "stream",
       "stream": "stdout",
       "text": [
        "\n",
        "Partitioning with latitude value=43,list_length=4889"
       ]
      },
      {
       "output_type": "stream",
       "stream": "stdout",
       "text": [
        "\n",
        "STUCK IN LOOP.TRYING TO EXIT."
       ]
      },
      {
       "output_type": "stream",
       "stream": "stdout",
       "text": [
        "\n",
        "Partitioning with latitude value=43.25,list_length=4889\n",
        "Partitioning with latitude value=43.5,list_length=4889"
       ]
      },
      {
       "output_type": "stream",
       "stream": "stdout",
       "text": [
        "\n",
        "Partitioning with latitude value=43.75,list_length=4889"
       ]
      },
      {
       "output_type": "stream",
       "stream": "stdout",
       "text": [
        "\n",
        "Partitioning with latitude value=44.0,list_length=4889"
       ]
      },
      {
       "output_type": "stream",
       "stream": "stdout",
       "text": [
        "\n",
        "Partitioning with latitude value=44.25,list_length=4889"
       ]
      },
      {
       "output_type": "stream",
       "stream": "stdout",
       "text": [
        "\n",
        "Partitioning with latitude value=44.5,list_length=4889"
       ]
      },
      {
       "output_type": "stream",
       "stream": "stdout",
       "text": [
        "\n",
        "Partitioning with latitude value=44.75,list_length=4889"
       ]
      },
      {
       "output_type": "stream",
       "stream": "stdout",
       "text": [
        "\n",
        "Partitioning with latitude value=45.0,list_length=4889"
       ]
      },
      {
       "output_type": "stream",
       "stream": "stdout",
       "text": [
        "\n",
        "Partitioning with latitude value=45.25,list_length=4889"
       ]
      },
      {
       "output_type": "stream",
       "stream": "stdout",
       "text": [
        "\n",
        "Partitioning with latitude value=45.5,list_length=4889"
       ]
      },
      {
       "output_type": "stream",
       "stream": "stdout",
       "text": [
        "\n",
        "Partitioning with latitude value=45.75,list_length=4889"
       ]
      },
      {
       "output_type": "stream",
       "stream": "stdout",
       "text": [
        "\n",
        "Partitioning with latitude value=46.0,list_length=4889"
       ]
      },
      {
       "output_type": "stream",
       "stream": "stdout",
       "text": [
        "\n",
        "Recording a successful partition for latitude:46.0"
       ]
      },
      {
       "output_type": "stream",
       "stream": "stdout",
       "text": [
        "\n",
        "Calculating new partition value: longitude 2609\n",
        "Partitioning with longitude value=10,list_length=2609"
       ]
      },
      {
       "output_type": "stream",
       "stream": "stdout",
       "text": [
        "\n",
        "Partitioning with longitude value=5,list_length=2609"
       ]
      },
      {
       "output_type": "stream",
       "stream": "stdout",
       "text": [
        "\n",
        "Partitioning with longitude value=0,list_length=2609"
       ]
      },
      {
       "output_type": "stream",
       "stream": "stdout",
       "text": [
        "\n",
        "Partitioning with longitude value=-5,list_length=2609"
       ]
      },
      {
       "output_type": "stream",
       "stream": "stdout",
       "text": [
        "\n",
        "Partitioning with longitude value=-10,list_length=2609"
       ]
      },
      {
       "output_type": "stream",
       "stream": "stdout",
       "text": [
        "\n",
        "Partitioning with longitude value=-15,list_length=2609"
       ]
      },
      {
       "output_type": "stream",
       "stream": "stdout",
       "text": [
        "\n",
        "Partitioning with longitude value=-20,list_length=2609"
       ]
      },
      {
       "output_type": "stream",
       "stream": "stdout",
       "text": [
        "\n",
        "Partitioning with longitude value=-25,list_length=2609"
       ]
      },
      {
       "output_type": "stream",
       "stream": "stdout",
       "text": [
        "\n",
        "Partitioning with longitude value=-30,list_length=2609"
       ]
      },
      {
       "output_type": "stream",
       "stream": "stdout",
       "text": [
        "\n",
        "Partitioning with longitude value=-35,list_length=2609"
       ]
      },
      {
       "output_type": "stream",
       "stream": "stdout",
       "text": [
        "\n",
        "Partitioning with longitude value=-40,list_length=2609"
       ]
      },
      {
       "output_type": "stream",
       "stream": "stdout",
       "text": [
        "\n",
        "Partitioning with longitude value=-45,list_length=2609"
       ]
      },
      {
       "output_type": "stream",
       "stream": "stdout",
       "text": [
        "\n",
        "Partitioning with longitude value=-50,list_length=2609"
       ]
      },
      {
       "output_type": "stream",
       "stream": "stdout",
       "text": [
        "\n",
        "Partitioning with longitude value=-55,list_length=2609"
       ]
      },
      {
       "output_type": "stream",
       "stream": "stdout",
       "text": [
        "\n",
        "Partitioning with longitude value=-60,list_length=2609"
       ]
      },
      {
       "output_type": "stream",
       "stream": "stdout",
       "text": [
        "\n",
        "Partitioning with longitude value=-65,list_length=2609"
       ]
      },
      {
       "output_type": "stream",
       "stream": "stdout",
       "text": [
        "\n",
        "Partitioning with longitude value=-70,list_length=2609"
       ]
      },
      {
       "output_type": "stream",
       "stream": "stdout",
       "text": [
        "\n",
        "Partitioning with longitude value=-75,list_length=2609"
       ]
      },
      {
       "output_type": "stream",
       "stream": "stdout",
       "text": [
        "\n",
        "Partitioning with longitude value=-80,list_length=2609"
       ]
      },
      {
       "output_type": "stream",
       "stream": "stdout",
       "text": [
        "\n",
        "Partitioning with longitude value=-85,list_length=2609"
       ]
      },
      {
       "output_type": "stream",
       "stream": "stdout",
       "text": [
        "\n",
        "Partitioning with longitude value=-90,list_length=2609"
       ]
      },
      {
       "output_type": "stream",
       "stream": "stdout",
       "text": [
        "\n",
        "Partitioning with longitude value=-95,list_length=2609"
       ]
      },
      {
       "output_type": "stream",
       "stream": "stdout",
       "text": [
        "\n",
        "Partitioning with longitude value=-100,list_length=2609"
       ]
      },
      {
       "output_type": "stream",
       "stream": "stdout",
       "text": [
        "\n",
        "Recording a successful partition for longitude:-100"
       ]
      },
      {
       "output_type": "stream",
       "stream": "stdout",
       "text": [
        "\n",
        "Calculating new partition value: latitude 1310\n",
        "Partitioning with latitude value=2,list_length=1310"
       ]
      },
      {
       "output_type": "stream",
       "stream": "stdout",
       "text": [
        "\n",
        "Calculating new partition value: latitude 1299\n",
        "Partitioning with latitude value=2,list_length=1299"
       ]
      },
      {
       "output_type": "stream",
       "stream": "stdout",
       "text": [
        "\n",
        "Calculating new partition value: longitude 2280\n",
        "Partitioning with longitude value=10,list_length=2280"
       ]
      },
      {
       "output_type": "stream",
       "stream": "stdout",
       "text": [
        "\n",
        "Calculating new partition value: latitude 53781\n",
        "Partitioning with latitude value=86,list_length=53781"
       ]
      },
      {
       "output_type": "stream",
       "stream": "stdout",
       "text": [
        "\n",
        "Partitioning with latitude value=81,list_length=53781"
       ]
      },
      {
       "output_type": "stream",
       "stream": "stdout",
       "text": [
        "\n",
        "Partitioning with latitude value=76,list_length=53781"
       ]
      },
      {
       "output_type": "stream",
       "stream": "stdout",
       "text": [
        "\n",
        "Partitioning with latitude value=71,list_length=53781"
       ]
      },
      {
       "output_type": "stream",
       "stream": "stdout",
       "text": [
        "\n",
        "Partitioning with latitude value=66,list_length=53781"
       ]
      },
      {
       "output_type": "stream",
       "stream": "stdout",
       "text": [
        "\n",
        "Partitioning with latitude value=61,list_length=53781"
       ]
      },
      {
       "output_type": "stream",
       "stream": "stdout",
       "text": [
        "\n",
        "Partitioning with latitude value=56,list_length=53781"
       ]
      },
      {
       "output_type": "stream",
       "stream": "stdout",
       "text": [
        "\n",
        "Partitioning with latitude value=51,list_length=53781"
       ]
      },
      {
       "output_type": "stream",
       "stream": "stdout",
       "text": [
        "\n",
        "Partitioning with latitude value=46,list_length=53781"
       ]
      },
      {
       "output_type": "stream",
       "stream": "stdout",
       "text": [
        "\n",
        "Partitioning with latitude value=41,list_length=53781"
       ]
      },
      {
       "output_type": "stream",
       "stream": "stdout",
       "text": [
        "\n",
        "Recording a successful partition for latitude:41"
       ]
      },
      {
       "output_type": "stream",
       "stream": "stdout",
       "text": [
        "\n",
        "Calculating new partition value: longitude 42418\n",
        "Partitioning with longitude value=134,list_length=42418"
       ]
      },
      {
       "output_type": "stream",
       "stream": "stdout",
       "text": [
        "\n",
        "Partitioning with longitude value=129,list_length=42418"
       ]
      },
      {
       "output_type": "stream",
       "stream": "stdout",
       "text": [
        "\n",
        "Partitioning with longitude value=124,list_length=42418"
       ]
      },
      {
       "output_type": "stream",
       "stream": "stdout",
       "text": [
        "\n",
        "Partitioning with longitude value=119,list_length=42418"
       ]
      },
      {
       "output_type": "stream",
       "stream": "stdout",
       "text": [
        "\n",
        "Partitioning with longitude value=114,list_length=42418"
       ]
      },
      {
       "output_type": "stream",
       "stream": "stdout",
       "text": [
        "\n",
        "Partitioning with longitude value=109,list_length=42418"
       ]
      },
      {
       "output_type": "stream",
       "stream": "stdout",
       "text": [
        "\n",
        "Partitioning with longitude value=104,list_length=42418"
       ]
      },
      {
       "output_type": "stream",
       "stream": "stdout",
       "text": [
        "\n",
        "Partitioning with longitude value=99,list_length=42418"
       ]
      },
      {
       "output_type": "stream",
       "stream": "stdout",
       "text": [
        "\n",
        "Partitioning with longitude value=94,list_length=42418"
       ]
      },
      {
       "output_type": "stream",
       "stream": "stdout",
       "text": [
        "\n",
        "Partitioning with longitude value=89,list_length=42418"
       ]
      },
      {
       "output_type": "stream",
       "stream": "stdout",
       "text": [
        "\n",
        "Partitioning with longitude value=84,list_length=42418"
       ]
      },
      {
       "output_type": "stream",
       "stream": "stdout",
       "text": [
        "\n",
        "Partitioning with longitude value=79,list_length=42418"
       ]
      },
      {
       "output_type": "stream",
       "stream": "stdout",
       "text": [
        "\n",
        "Partitioning with longitude value=74,list_length=42418"
       ]
      },
      {
       "output_type": "stream",
       "stream": "stdout",
       "text": [
        "\n",
        "Partitioning with longitude value=69,list_length=42418"
       ]
      },
      {
       "output_type": "stream",
       "stream": "stdout",
       "text": [
        "\n",
        "Partitioning with longitude value=64,list_length=42418"
       ]
      },
      {
       "output_type": "stream",
       "stream": "stdout",
       "text": [
        "\n",
        "Partitioning with longitude value=59,list_length=42418"
       ]
      },
      {
       "output_type": "stream",
       "stream": "stdout",
       "text": [
        "\n",
        "Partitioning with longitude value=54,list_length=42418"
       ]
      },
      {
       "output_type": "stream",
       "stream": "stdout",
       "text": [
        "\n",
        "Partitioning with longitude value=49,list_length=42418"
       ]
      },
      {
       "output_type": "stream",
       "stream": "stdout",
       "text": [
        "\n",
        "Partitioning with longitude value=44,list_length=42418"
       ]
      },
      {
       "output_type": "stream",
       "stream": "stdout",
       "text": [
        "\n",
        "Partitioning with longitude value=39,list_length=42418"
       ]
      },
      {
       "output_type": "stream",
       "stream": "stdout",
       "text": [
        "\n",
        "Partitioning with longitude value=34,list_length=42418"
       ]
      },
      {
       "output_type": "stream",
       "stream": "stdout",
       "text": [
        "\n",
        "Partitioning with longitude value=29,list_length=42418"
       ]
      },
      {
       "output_type": "stream",
       "stream": "stdout",
       "text": [
        "\n",
        "Partitioning with longitude value=24,list_length=42418"
       ]
      },
      {
       "output_type": "stream",
       "stream": "stdout",
       "text": [
        "\n",
        "Partitioning with longitude value=19,list_length=42418"
       ]
      },
      {
       "output_type": "stream",
       "stream": "stdout",
       "text": [
        "\n",
        "Partitioning with longitude value=14,list_length=42418"
       ]
      },
      {
       "output_type": "stream",
       "stream": "stdout",
       "text": [
        "\n",
        "Partitioning with longitude value=9,list_length=42418"
       ]
      },
      {
       "output_type": "stream",
       "stream": "stdout",
       "text": [
        "\n",
        "Partitioning with longitude value=4,list_length=42418"
       ]
      },
      {
       "output_type": "stream",
       "stream": "stdout",
       "text": [
        "\n",
        "Partitioning with longitude value=-1,list_length=42418"
       ]
      },
      {
       "output_type": "stream",
       "stream": "stdout",
       "text": [
        "\n",
        "Partitioning with longitude value=-6,list_length=42418"
       ]
      },
      {
       "output_type": "stream",
       "stream": "stdout",
       "text": [
        "\n",
        "Partitioning with longitude value=-11,list_length=42418"
       ]
      },
      {
       "output_type": "stream",
       "stream": "stdout",
       "text": [
        "\n",
        "Partitioning with longitude value=-16,list_length=42418"
       ]
      },
      {
       "output_type": "stream",
       "stream": "stdout",
       "text": [
        "\n",
        "Partitioning with longitude value=-21,list_length=42418"
       ]
      },
      {
       "output_type": "stream",
       "stream": "stdout",
       "text": [
        "\n",
        "Partitioning with longitude value=-26,list_length=42418"
       ]
      },
      {
       "output_type": "stream",
       "stream": "stdout",
       "text": [
        "\n",
        "Partitioning with longitude value=-31,list_length=42418"
       ]
      },
      {
       "output_type": "stream",
       "stream": "stdout",
       "text": [
        "\n",
        "Partitioning with longitude value=-36,list_length=42418"
       ]
      },
      {
       "output_type": "stream",
       "stream": "stdout",
       "text": [
        "\n",
        "Partitioning with longitude value=-41,list_length=42418"
       ]
      },
      {
       "output_type": "stream",
       "stream": "stdout",
       "text": [
        "\n",
        "Partitioning with longitude value=-46,list_length=42418"
       ]
      },
      {
       "output_type": "stream",
       "stream": "stdout",
       "text": [
        "\n",
        "Partitioning with longitude value=-51,list_length=42418"
       ]
      },
      {
       "output_type": "stream",
       "stream": "stdout",
       "text": [
        "\n",
        "Partitioning with longitude value=-56,list_length=42418"
       ]
      },
      {
       "output_type": "stream",
       "stream": "stdout",
       "text": [
        "\n",
        "Partitioning with longitude value=-61,list_length=42418"
       ]
      },
      {
       "output_type": "stream",
       "stream": "stdout",
       "text": [
        "\n",
        "Partitioning with longitude value=-66,list_length=42418"
       ]
      },
      {
       "output_type": "stream",
       "stream": "stdout",
       "text": [
        "\n",
        "Partitioning with longitude value=-71,list_length=42418"
       ]
      },
      {
       "output_type": "stream",
       "stream": "stdout",
       "text": [
        "\n",
        "Partitioning with longitude value=-76,list_length=42418"
       ]
      },
      {
       "output_type": "stream",
       "stream": "stdout",
       "text": [
        "\n",
        "Partitioning with longitude value=-81,list_length=42418"
       ]
      },
      {
       "output_type": "stream",
       "stream": "stdout",
       "text": [
        "\n",
        "Partitioning with longitude value=-76,list_length=42418"
       ]
      },
      {
       "output_type": "stream",
       "stream": "stdout",
       "text": [
        "\n",
        "STUCK IN LOOP.TRYING TO EXIT."
       ]
      },
      {
       "output_type": "stream",
       "stream": "stdout",
       "text": [
        "\n",
        "Partitioning with longitude value=-76.25,list_length=42418\n",
        "Recording a successful partition for longitude:-76.25"
       ]
      },
      {
       "output_type": "stream",
       "stream": "stdout",
       "text": [
        "\n",
        "Calculating new partition value: latitude 11179\n",
        "Partitioning with latitude value=58,list_length=11179"
       ]
      },
      {
       "output_type": "stream",
       "stream": "stdout",
       "text": [
        "\n",
        "Partitioning with latitude value=53,list_length=11179"
       ]
      },
      {
       "output_type": "stream",
       "stream": "stdout",
       "text": [
        "\n",
        "Partitioning with latitude value=48,list_length=11179"
       ]
      },
      {
       "output_type": "stream",
       "stream": "stdout",
       "text": [
        "\n",
        "Partitioning with latitude value=43,list_length=11179"
       ]
      },
      {
       "output_type": "stream",
       "stream": "stdout",
       "text": [
        "\n",
        "Partitioning with latitude value=38,list_length=11179"
       ]
      },
      {
       "output_type": "stream",
       "stream": "stdout",
       "text": [
        "\n",
        "Partitioning with latitude value=33,list_length=11179"
       ]
      },
      {
       "output_type": "stream",
       "stream": "stdout",
       "text": [
        "\n",
        "Partitioning with latitude value=38,list_length=11179"
       ]
      },
      {
       "output_type": "stream",
       "stream": "stdout",
       "text": [
        "\n",
        "STUCK IN LOOP.TRYING TO EXIT."
       ]
      },
      {
       "output_type": "stream",
       "stream": "stdout",
       "text": [
        "\n",
        "Partitioning with latitude value=37.75,list_length=11179\n",
        "Partitioning with latitude value=37.5,list_length=11179"
       ]
      },
      {
       "output_type": "stream",
       "stream": "stdout",
       "text": [
        "\n",
        "Partitioning with latitude value=37.25,list_length=11179"
       ]
      },
      {
       "output_type": "stream",
       "stream": "stdout",
       "text": [
        "\n",
        "Partitioning with latitude value=37.0,list_length=11179"
       ]
      },
      {
       "output_type": "stream",
       "stream": "stdout",
       "text": [
        "\n",
        "Partitioning with latitude value=36.75,list_length=11179"
       ]
      },
      {
       "output_type": "stream",
       "stream": "stdout",
       "text": [
        "\n",
        "Recording a successful partition for latitude:36.75"
       ]
      },
      {
       "output_type": "stream",
       "stream": "stdout",
       "text": [
        "\n",
        "Calculating new partition value: longitude 6593\n",
        "Partitioning with longitude value=6,list_length=6593"
       ]
      },
      {
       "output_type": "stream",
       "stream": "stdout",
       "text": [
        "\n",
        "Partitioning with longitude value=1,list_length=6593"
       ]
      },
      {
       "output_type": "stream",
       "stream": "stdout",
       "text": [
        "\n",
        "Partitioning with longitude value=-4,list_length=6593"
       ]
      },
      {
       "output_type": "stream",
       "stream": "stdout",
       "text": [
        "\n",
        "Partitioning with longitude value=-9,list_length=6593"
       ]
      },
      {
       "output_type": "stream",
       "stream": "stdout",
       "text": [
        "\n",
        "Partitioning with longitude value=-14,list_length=6593"
       ]
      },
      {
       "output_type": "stream",
       "stream": "stdout",
       "text": [
        "\n",
        "Partitioning with longitude value=-19,list_length=6593"
       ]
      },
      {
       "output_type": "stream",
       "stream": "stdout",
       "text": [
        "\n",
        "Partitioning with longitude value=-24,list_length=6593"
       ]
      },
      {
       "output_type": "stream",
       "stream": "stdout",
       "text": [
        "\n",
        "Partitioning with longitude value=-29,list_length=6593"
       ]
      },
      {
       "output_type": "stream",
       "stream": "stdout",
       "text": [
        "\n",
        "Partitioning with longitude value=-34,list_length=6593"
       ]
      },
      {
       "output_type": "stream",
       "stream": "stdout",
       "text": [
        "\n",
        "Partitioning with longitude value=-39,list_length=6593"
       ]
      },
      {
       "output_type": "stream",
       "stream": "stdout",
       "text": [
        "\n",
        "Partitioning with longitude value=-44,list_length=6593"
       ]
      },
      {
       "output_type": "stream",
       "stream": "stdout",
       "text": [
        "\n",
        "Partitioning with longitude value=-49,list_length=6593"
       ]
      },
      {
       "output_type": "stream",
       "stream": "stdout",
       "text": [
        "\n",
        "Partitioning with longitude value=-54,list_length=6593"
       ]
      },
      {
       "output_type": "stream",
       "stream": "stdout",
       "text": [
        "\n",
        "Partitioning with longitude value=-59,list_length=6593"
       ]
      },
      {
       "output_type": "stream",
       "stream": "stdout",
       "text": [
        "\n",
        "Partitioning with longitude value=-64,list_length=6593"
       ]
      },
      {
       "output_type": "stream",
       "stream": "stdout",
       "text": [
        "\n",
        "Partitioning with longitude value=-69,list_length=6593"
       ]
      },
      {
       "output_type": "stream",
       "stream": "stdout",
       "text": [
        "\n",
        "Partitioning with longitude value=-74,list_length=6593"
       ]
      },
      {
       "output_type": "stream",
       "stream": "stdout",
       "text": [
        "\n",
        "Partitioning with longitude value=-79,list_length=6593"
       ]
      },
      {
       "output_type": "stream",
       "stream": "stdout",
       "text": [
        "\n",
        "Partitioning with longitude value=-84,list_length=6593"
       ]
      },
      {
       "output_type": "stream",
       "stream": "stdout",
       "text": [
        "\n",
        "Partitioning with longitude value=-79,list_length=6593"
       ]
      },
      {
       "output_type": "stream",
       "stream": "stdout",
       "text": [
        "\n",
        "STUCK IN LOOP.TRYING TO EXIT."
       ]
      },
      {
       "output_type": "stream",
       "stream": "stdout",
       "text": [
        "\n",
        "Partitioning with longitude value=-79.25,list_length=6593\n",
        "Partitioning with longitude value=-79.5,list_length=6593"
       ]
      },
      {
       "output_type": "stream",
       "stream": "stdout",
       "text": [
        "\n",
        "Partitioning with longitude value=-79.75,list_length=6593"
       ]
      },
      {
       "output_type": "stream",
       "stream": "stdout",
       "text": [
        "\n",
        "Partitioning with longitude value=-80.0,list_length=6593"
       ]
      },
      {
       "output_type": "stream",
       "stream": "stdout",
       "text": [
        "\n",
        "Partitioning with longitude value=-80.25,list_length=6593"
       ]
      },
      {
       "output_type": "stream",
       "stream": "stdout",
       "text": [
        "\n",
        "Partitioning with longitude value=-80.5,list_length=6593"
       ]
      },
      {
       "output_type": "stream",
       "stream": "stdout",
       "text": [
        "\n",
        "Partitioning with longitude value=-80.75,list_length=6593"
       ]
      },
      {
       "output_type": "stream",
       "stream": "stdout",
       "text": [
        "\n",
        "Partitioning with longitude value=-81.0,list_length=6593"
       ]
      },
      {
       "output_type": "stream",
       "stream": "stdout",
       "text": [
        "\n",
        "Partitioning with longitude value=-81.25,list_length=6593"
       ]
      },
      {
       "output_type": "stream",
       "stream": "stdout",
       "text": [
        "\n",
        "Partitioning with longitude value=-81.5,list_length=6593"
       ]
      },
      {
       "output_type": "stream",
       "stream": "stdout",
       "text": [
        "\n",
        "Partitioning with longitude value=-81.75,list_length=6593"
       ]
      },
      {
       "output_type": "stream",
       "stream": "stdout",
       "text": [
        "\n",
        "Partitioning with longitude value=-82.0,list_length=6593"
       ]
      },
      {
       "output_type": "stream",
       "stream": "stdout",
       "text": [
        "\n",
        "Partitioning with longitude value=-82.25,list_length=6593"
       ]
      },
      {
       "output_type": "stream",
       "stream": "stdout",
       "text": [
        "\n",
        "Partitioning with longitude value=-82.5,list_length=6593"
       ]
      },
      {
       "output_type": "stream",
       "stream": "stdout",
       "text": [
        "\n",
        "Partitioning with longitude value=-82.75,list_length=6593"
       ]
      },
      {
       "output_type": "stream",
       "stream": "stdout",
       "text": [
        "\n",
        "Recording a successful partition for longitude:-82.75"
       ]
      },
      {
       "output_type": "stream",
       "stream": "stdout",
       "text": [
        "\n",
        "Calculating new partition value: latitude 3713\n",
        "Partitioning with latitude value=55,list_length=3713"
       ]
      },
      {
       "output_type": "stream",
       "stream": "stdout",
       "text": [
        "\n",
        "Partitioning with latitude value=50,list_length=3713"
       ]
      },
      {
       "output_type": "stream",
       "stream": "stdout",
       "text": [
        "\n",
        "Partitioning with latitude value=45,list_length=3713"
       ]
      },
      {
       "output_type": "stream",
       "stream": "stdout",
       "text": [
        "\n",
        "Partitioning with latitude value=40,list_length=3713"
       ]
      },
      {
       "output_type": "stream",
       "stream": "stdout",
       "text": [
        "\n",
        "Partitioning with latitude value=35,list_length=3713"
       ]
      },
      {
       "output_type": "stream",
       "stream": "stdout",
       "text": [
        "\n",
        "Partitioning with latitude value=30,list_length=3713"
       ]
      },
      {
       "output_type": "stream",
       "stream": "stdout",
       "text": [
        "\n",
        "Partitioning with latitude value=35,list_length=3713"
       ]
      },
      {
       "output_type": "stream",
       "stream": "stdout",
       "text": [
        "\n",
        "STUCK IN LOOP.TRYING TO EXIT."
       ]
      },
      {
       "output_type": "stream",
       "stream": "stdout",
       "text": [
        "\n",
        "Partitioning with latitude value=34.75,list_length=3713\n",
        "Partitioning with latitude value=34.5,list_length=3713"
       ]
      },
      {
       "output_type": "stream",
       "stream": "stdout",
       "text": [
        "\n",
        "Partitioning with latitude value=34.25,list_length=3713"
       ]
      },
      {
       "output_type": "stream",
       "stream": "stdout",
       "text": [
        "\n",
        "Partitioning with latitude value=34.0,list_length=3713"
       ]
      },
      {
       "output_type": "stream",
       "stream": "stdout",
       "text": [
        "\n",
        "Recording a successful partition for latitude:34.0"
       ]
      },
      {
       "output_type": "stream",
       "stream": "stdout",
       "text": [
        "\n",
        "Calculating new partition value: longitude 1601\n",
        "Partitioning with longitude value=3,list_length=1601"
       ]
      },
      {
       "output_type": "stream",
       "stream": "stdout",
       "text": [
        "\n",
        "Calculating new partition value: longitude 2112\n",
        "Partitioning with longitude value=3,list_length=2112"
       ]
      },
      {
       "output_type": "stream",
       "stream": "stdout",
       "text": [
        "\n",
        "Calculating new partition value: latitude 2880\n",
        "Partitioning with latitude value=55,list_length=2880"
       ]
      },
      {
       "output_type": "stream",
       "stream": "stdout",
       "text": [
        "\n",
        "Partitioning with latitude value=50,list_length=2880"
       ]
      },
      {
       "output_type": "stream",
       "stream": "stdout",
       "text": [
        "\n",
        "Partitioning with latitude value=45,list_length=2880"
       ]
      },
      {
       "output_type": "stream",
       "stream": "stdout",
       "text": [
        "\n",
        "Partitioning with latitude value=40,list_length=2880"
       ]
      },
      {
       "output_type": "stream",
       "stream": "stdout",
       "text": [
        "\n",
        "Partitioning with latitude value=35,list_length=2880"
       ]
      },
      {
       "output_type": "stream",
       "stream": "stdout",
       "text": [
        "\n",
        "Partitioning with latitude value=30,list_length=2880"
       ]
      },
      {
       "output_type": "stream",
       "stream": "stdout",
       "text": [
        "\n",
        "Partitioning with latitude value=35,list_length=2880"
       ]
      },
      {
       "output_type": "stream",
       "stream": "stdout",
       "text": [
        "\n",
        "STUCK IN LOOP.TRYING TO EXIT."
       ]
      },
      {
       "output_type": "stream",
       "stream": "stdout",
       "text": [
        "\n",
        "Partitioning with latitude value=34.75,list_length=2880\n",
        "Partitioning with latitude value=34.5,list_length=2880"
       ]
      },
      {
       "output_type": "stream",
       "stream": "stdout",
       "text": [
        "\n",
        "Partitioning with latitude value=34.25,list_length=2880"
       ]
      },
      {
       "output_type": "stream",
       "stream": "stdout",
       "text": [
        "\n",
        "Recording a successful partition for latitude:34.25"
       ]
      },
      {
       "output_type": "stream",
       "stream": "stdout",
       "text": [
        "\n",
        "Calculating new partition value: longitude 1480\n",
        "Partitioning with longitude value=3,list_length=1480"
       ]
      },
      {
       "output_type": "stream",
       "stream": "stdout",
       "text": [
        "\n",
        "Calculating new partition value: longitude 1400\n",
        "Partitioning with longitude value=3,list_length=1400"
       ]
      },
      {
       "output_type": "stream",
       "stream": "stdout",
       "text": [
        "\n",
        "Calculating new partition value: longitude 4586\n",
        "Partitioning with longitude value=6,list_length=4586"
       ]
      },
      {
       "output_type": "stream",
       "stream": "stdout",
       "text": [
        "\n",
        "Partitioning with longitude value=1,list_length=4586"
       ]
      },
      {
       "output_type": "stream",
       "stream": "stdout",
       "text": [
        "\n",
        "Partitioning with longitude value=-4,list_length=4586"
       ]
      },
      {
       "output_type": "stream",
       "stream": "stdout",
       "text": [
        "\n",
        "Partitioning with longitude value=-9,list_length=4586"
       ]
      },
      {
       "output_type": "stream",
       "stream": "stdout",
       "text": [
        "\n",
        "Partitioning with longitude value=-14,list_length=4586"
       ]
      },
      {
       "output_type": "stream",
       "stream": "stdout",
       "text": [
        "\n",
        "Partitioning with longitude value=-19,list_length=4586"
       ]
      },
      {
       "output_type": "stream",
       "stream": "stdout",
       "text": [
        "\n",
        "Partitioning with longitude value=-24,list_length=4586"
       ]
      },
      {
       "output_type": "stream",
       "stream": "stdout",
       "text": [
        "\n",
        "Partitioning with longitude value=-29,list_length=4586"
       ]
      },
      {
       "output_type": "stream",
       "stream": "stdout",
       "text": [
        "\n",
        "Partitioning with longitude value=-34,list_length=4586"
       ]
      },
      {
       "output_type": "stream",
       "stream": "stdout",
       "text": [
        "\n",
        "Partitioning with longitude value=-39,list_length=4586"
       ]
      },
      {
       "output_type": "stream",
       "stream": "stdout",
       "text": [
        "\n",
        "Partitioning with longitude value=-44,list_length=4586"
       ]
      },
      {
       "output_type": "stream",
       "stream": "stdout",
       "text": [
        "\n",
        "Partitioning with longitude value=-49,list_length=4586"
       ]
      },
      {
       "output_type": "stream",
       "stream": "stdout",
       "text": [
        "\n",
        "Partitioning with longitude value=-54,list_length=4586"
       ]
      },
      {
       "output_type": "stream",
       "stream": "stdout",
       "text": [
        "\n",
        "Partitioning with longitude value=-59,list_length=4586"
       ]
      },
      {
       "output_type": "stream",
       "stream": "stdout",
       "text": [
        "\n",
        "Partitioning with longitude value=-64,list_length=4586"
       ]
      },
      {
       "output_type": "stream",
       "stream": "stdout",
       "text": [
        "\n",
        "Partitioning with longitude value=-69,list_length=4586"
       ]
      },
      {
       "output_type": "stream",
       "stream": "stdout",
       "text": [
        "\n",
        "Partitioning with longitude value=-74,list_length=4586"
       ]
      },
      {
       "output_type": "stream",
       "stream": "stdout",
       "text": [
        "\n",
        "Partitioning with longitude value=-79,list_length=4586"
       ]
      },
      {
       "output_type": "stream",
       "stream": "stdout",
       "text": [
        "\n",
        "Partitioning with longitude value=-84,list_length=4586"
       ]
      },
      {
       "output_type": "stream",
       "stream": "stdout",
       "text": [
        "\n",
        "Partitioning with longitude value=-79,list_length=4586"
       ]
      },
      {
       "output_type": "stream",
       "stream": "stdout",
       "text": [
        "\n",
        "STUCK IN LOOP.TRYING TO EXIT."
       ]
      },
      {
       "output_type": "stream",
       "stream": "stdout",
       "text": [
        "\n",
        "Partitioning with longitude value=-79.25,list_length=4586\n",
        "Partitioning with longitude value=-79.5,list_length=4586"
       ]
      },
      {
       "output_type": "stream",
       "stream": "stdout",
       "text": [
        "\n",
        "Partitioning with longitude value=-79.75,list_length=4586"
       ]
      },
      {
       "output_type": "stream",
       "stream": "stdout",
       "text": [
        "\n",
        "Partitioning with longitude value=-80.0,list_length=4586"
       ]
      },
      {
       "output_type": "stream",
       "stream": "stdout",
       "text": [
        "\n",
        "Partitioning with longitude value=-80.25,list_length=4586"
       ]
      },
      {
       "output_type": "stream",
       "stream": "stdout",
       "text": [
        "\n",
        "Partitioning with longitude value=-80.5,list_length=4586"
       ]
      },
      {
       "output_type": "stream",
       "stream": "stdout",
       "text": [
        "\n",
        "Partitioning with longitude value=-80.75,list_length=4586"
       ]
      },
      {
       "output_type": "stream",
       "stream": "stdout",
       "text": [
        "\n",
        "Partitioning with longitude value=-81.0,list_length=4586"
       ]
      },
      {
       "output_type": "stream",
       "stream": "stdout",
       "text": [
        "\n",
        "Partitioning with longitude value=-81.25,list_length=4586"
       ]
      },
      {
       "output_type": "stream",
       "stream": "stdout",
       "text": [
        "\n",
        "Partitioning with longitude value=-81.5,list_length=4586"
       ]
      },
      {
       "output_type": "stream",
       "stream": "stdout",
       "text": [
        "\n",
        "Partitioning with longitude value=-81.75,list_length=4586"
       ]
      },
      {
       "output_type": "stream",
       "stream": "stdout",
       "text": [
        "\n",
        "Recording a successful partition for longitude:-81.75"
       ]
      },
      {
       "output_type": "stream",
       "stream": "stdout",
       "text": [
        "\n",
        "Calculating new partition value: latitude 2717\n",
        "Partitioning with latitude value=2,list_length=2717"
       ]
      },
      {
       "output_type": "stream",
       "stream": "stdout",
       "text": [
        "\n",
        "Partitioning with latitude value=7,list_length=2717"
       ]
      },
      {
       "output_type": "stream",
       "stream": "stdout",
       "text": [
        "\n",
        "Partitioning with latitude value=12,list_length=2717"
       ]
      },
      {
       "output_type": "stream",
       "stream": "stdout",
       "text": [
        "\n",
        "Partitioning with latitude value=17,list_length=2717"
       ]
      },
      {
       "output_type": "stream",
       "stream": "stdout",
       "text": [
        "\n",
        "Partitioning with latitude value=22,list_length=2717"
       ]
      },
      {
       "output_type": "stream",
       "stream": "stdout",
       "text": [
        "\n",
        "Partitioning with latitude value=27,list_length=2717"
       ]
      },
      {
       "output_type": "stream",
       "stream": "stdout",
       "text": [
        "\n",
        "Partitioning with latitude value=32,list_length=2717"
       ]
      },
      {
       "output_type": "stream",
       "stream": "stdout",
       "text": [
        "\n",
        "Partitioning with latitude value=37,list_length=2717"
       ]
      },
      {
       "output_type": "stream",
       "stream": "stdout",
       "text": [
        "\n",
        "Partitioning with latitude value=42,list_length=2717"
       ]
      },
      {
       "output_type": "stream",
       "stream": "stdout",
       "text": [
        "\n",
        "Partitioning with latitude value=37,list_length=2717"
       ]
      },
      {
       "output_type": "stream",
       "stream": "stdout",
       "text": [
        "\n",
        "STUCK IN LOOP.TRYING TO EXIT."
       ]
      },
      {
       "output_type": "stream",
       "stream": "stdout",
       "text": [
        "\n",
        "Partitioning with latitude value=37.25,list_length=2717\n",
        "Partitioning with latitude value=37.5,list_length=2717"
       ]
      },
      {
       "output_type": "stream",
       "stream": "stdout",
       "text": [
        "\n",
        "Partitioning with latitude value=37.75,list_length=2717"
       ]
      },
      {
       "output_type": "stream",
       "stream": "stdout",
       "text": [
        "\n",
        "Partitioning with latitude value=38.0,list_length=2717"
       ]
      },
      {
       "output_type": "stream",
       "stream": "stdout",
       "text": [
        "\n",
        "Partitioning with latitude value=38.25,list_length=2717"
       ]
      },
      {
       "output_type": "stream",
       "stream": "stdout",
       "text": [
        "\n",
        "Partitioning with latitude value=38.5,list_length=2717"
       ]
      },
      {
       "output_type": "stream",
       "stream": "stdout",
       "text": [
        "\n",
        "Partitioning with latitude value=38.75,list_length=2717"
       ]
      },
      {
       "output_type": "stream",
       "stream": "stdout",
       "text": [
        "\n",
        "Partitioning with latitude value=39.0,list_length=2717"
       ]
      },
      {
       "output_type": "stream",
       "stream": "stdout",
       "text": [
        "\n",
        "Recording a successful partition for latitude:39.0"
       ]
      },
      {
       "output_type": "stream",
       "stream": "stdout",
       "text": [
        "\n",
        "Calculating new partition value: longitude 1222\n",
        "Partitioning with longitude value=4,list_length=1222"
       ]
      },
      {
       "output_type": "stream",
       "stream": "stdout",
       "text": [
        "\n",
        "Calculating new partition value: longitude 1495\n",
        "Partitioning with longitude value=4,list_length=1495"
       ]
      },
      {
       "output_type": "stream",
       "stream": "stdout",
       "text": [
        "\n",
        "Calculating new partition value: latitude 1869\n",
        "Partitioning with latitude value=2,list_length=1869"
       ]
      },
      {
       "output_type": "stream",
       "stream": "stdout",
       "text": [
        "\n",
        "Calculating new partition value: latitude 31239\n",
        "Partitioning with latitude value=65,list_length=31239"
       ]
      },
      {
       "output_type": "stream",
       "stream": "stdout",
       "text": [
        "\n",
        "Partitioning with latitude value=60,list_length=31239"
       ]
      },
      {
       "output_type": "stream",
       "stream": "stdout",
       "text": [
        "\n",
        "Partitioning with latitude value=55,list_length=31239"
       ]
      },
      {
       "output_type": "stream",
       "stream": "stdout",
       "text": [
        "\n",
        "Partitioning with latitude value=50,list_length=31239"
       ]
      },
      {
       "output_type": "stream",
       "stream": "stdout",
       "text": [
        "\n",
        "Partitioning with latitude value=45,list_length=31239"
       ]
      },
      {
       "output_type": "stream",
       "stream": "stdout",
       "text": [
        "\n",
        "Partitioning with latitude value=40,list_length=31239"
       ]
      },
      {
       "output_type": "stream",
       "stream": "stdout",
       "text": [
        "\n",
        "Partitioning with latitude value=35,list_length=31239"
       ]
      },
      {
       "output_type": "stream",
       "stream": "stdout",
       "text": [
        "\n",
        "Partitioning with latitude value=30,list_length=31239"
       ]
      },
      {
       "output_type": "stream",
       "stream": "stdout",
       "text": [
        "\n",
        "Partitioning with latitude value=25,list_length=31239"
       ]
      },
      {
       "output_type": "stream",
       "stream": "stdout",
       "text": [
        "\n",
        "Partitioning with latitude value=20,list_length=31239"
       ]
      },
      {
       "output_type": "stream",
       "stream": "stdout",
       "text": [
        "\n",
        "Partitioning with latitude value=15,list_length=31239"
       ]
      },
      {
       "output_type": "stream",
       "stream": "stdout",
       "text": [
        "\n",
        "Partitioning with latitude value=10,list_length=31239"
       ]
      },
      {
       "output_type": "stream",
       "stream": "stdout",
       "text": [
        "\n",
        "Recording a successful partition for latitude:10"
       ]
      },
      {
       "output_type": "stream",
       "stream": "stdout",
       "text": [
        "\n",
        "Calculating new partition value: longitude 25239\n",
        "Partitioning with longitude value=127,list_length=25239"
       ]
      },
      {
       "output_type": "stream",
       "stream": "stdout",
       "text": [
        "\n",
        "Partitioning with longitude value=132,list_length=25239"
       ]
      },
      {
       "output_type": "stream",
       "stream": "stdout",
       "text": [
        "\n",
        "Partitioning with longitude value=137,list_length=25239"
       ]
      },
      {
       "output_type": "stream",
       "stream": "stdout",
       "text": [
        "\n",
        "Partitioning with longitude value=142,list_length=25239"
       ]
      },
      {
       "output_type": "stream",
       "stream": "stdout",
       "text": [
        "\n",
        "Recording a successful partition for longitude:142"
       ]
      },
      {
       "output_type": "stream",
       "stream": "stdout",
       "text": [
        "\n",
        "Calculating new partition value: latitude 13626\n",
        "Partitioning with latitude value=50,list_length=13626"
       ]
      },
      {
       "output_type": "stream",
       "stream": "stdout",
       "text": [
        "\n",
        "Partitioning with latitude value=45,list_length=13626"
       ]
      },
      {
       "output_type": "stream",
       "stream": "stdout",
       "text": [
        "\n",
        "Partitioning with latitude value=40,list_length=13626"
       ]
      },
      {
       "output_type": "stream",
       "stream": "stdout",
       "text": [
        "\n",
        "Partitioning with latitude value=35,list_length=13626"
       ]
      },
      {
       "output_type": "stream",
       "stream": "stdout",
       "text": [
        "\n",
        "Partitioning with latitude value=30,list_length=13626"
       ]
      },
      {
       "output_type": "stream",
       "stream": "stdout",
       "text": [
        "\n",
        "Partitioning with latitude value=25,list_length=13626"
       ]
      },
      {
       "output_type": "stream",
       "stream": "stdout",
       "text": [
        "\n",
        "Partitioning with latitude value=20,list_length=13626"
       ]
      },
      {
       "output_type": "stream",
       "stream": "stdout",
       "text": [
        "\n",
        "Partitioning with latitude value=15,list_length=13626"
       ]
      },
      {
       "output_type": "stream",
       "stream": "stdout",
       "text": [
        "\n",
        "Partitioning with latitude value=10,list_length=13626"
       ]
      },
      {
       "output_type": "stream",
       "stream": "stdout",
       "text": [
        "\n",
        "Partitioning with latitude value=5,list_length=13626"
       ]
      },
      {
       "output_type": "stream",
       "stream": "stdout",
       "text": [
        "\n",
        "Partitioning with latitude value=0,list_length=13626"
       ]
      },
      {
       "output_type": "stream",
       "stream": "stdout",
       "text": [
        "\n",
        "Partitioning with latitude value=-5,list_length=13626"
       ]
      },
      {
       "output_type": "stream",
       "stream": "stdout",
       "text": [
        "\n",
        "Partitioning with latitude value=-10,list_length=13626"
       ]
      },
      {
       "output_type": "stream",
       "stream": "stdout",
       "text": [
        "\n",
        "Partitioning with latitude value=-15,list_length=13626"
       ]
      },
      {
       "output_type": "stream",
       "stream": "stdout",
       "text": [
        "\n",
        "Partitioning with latitude value=-20,list_length=13626"
       ]
      },
      {
       "output_type": "stream",
       "stream": "stdout",
       "text": [
        "\n",
        "Partitioning with latitude value=-25,list_length=13626"
       ]
      },
      {
       "output_type": "stream",
       "stream": "stdout",
       "text": [
        "\n",
        "Recording a successful partition for latitude:-25"
       ]
      },
      {
       "output_type": "stream",
       "stream": "stdout",
       "text": [
        "\n",
        "Calculating new partition value: longitude 5955\n",
        "Partitioning with longitude value=108,list_length=5955"
       ]
      },
      {
       "output_type": "stream",
       "stream": "stdout",
       "text": [
        "\n",
        "Partitioning with longitude value=113,list_length=5955"
       ]
      },
      {
       "output_type": "stream",
       "stream": "stdout",
       "text": [
        "\n",
        "Partitioning with longitude value=118,list_length=5955"
       ]
      },
      {
       "output_type": "stream",
       "stream": "stdout",
       "text": [
        "\n",
        "Recording a successful partition for longitude:118"
       ]
      },
      {
       "output_type": "stream",
       "stream": "stdout",
       "text": [
        "\n",
        "Calculating new partition value: latitude 3280\n",
        "Partitioning with latitude value=32,list_length=3280"
       ]
      },
      {
       "output_type": "stream",
       "stream": "stdout",
       "text": [
        "\n",
        "Partitioning with latitude value=27,list_length=3280"
       ]
      },
      {
       "output_type": "stream",
       "stream": "stdout",
       "text": [
        "\n",
        "Partitioning with latitude value=22,list_length=3280"
       ]
      },
      {
       "output_type": "stream",
       "stream": "stdout",
       "text": [
        "\n",
        "Partitioning with latitude value=17,list_length=3280"
       ]
      },
      {
       "output_type": "stream",
       "stream": "stdout",
       "text": [
        "\n",
        "Partitioning with latitude value=12,list_length=3280"
       ]
      },
      {
       "output_type": "stream",
       "stream": "stdout",
       "text": [
        "\n",
        "Partitioning with latitude value=7,list_length=3280"
       ]
      },
      {
       "output_type": "stream",
       "stream": "stdout",
       "text": [
        "\n",
        "Partitioning with latitude value=2,list_length=3280"
       ]
      },
      {
       "output_type": "stream",
       "stream": "stdout",
       "text": [
        "\n",
        "Partitioning with latitude value=-3,list_length=3280"
       ]
      },
      {
       "output_type": "stream",
       "stream": "stdout",
       "text": [
        "\n",
        "Partitioning with latitude value=-8,list_length=3280"
       ]
      },
      {
       "output_type": "stream",
       "stream": "stdout",
       "text": [
        "\n",
        "Partitioning with latitude value=-13,list_length=3280"
       ]
      },
      {
       "output_type": "stream",
       "stream": "stdout",
       "text": [
        "\n",
        "Partitioning with latitude value=-18,list_length=3280"
       ]
      },
      {
       "output_type": "stream",
       "stream": "stdout",
       "text": [
        "\n",
        "Partitioning with latitude value=-23,list_length=3280"
       ]
      },
      {
       "output_type": "stream",
       "stream": "stdout",
       "text": [
        "\n",
        "Partitioning with latitude value=-28,list_length=3280"
       ]
      },
      {
       "output_type": "stream",
       "stream": "stdout",
       "text": [
        "\n",
        "Partitioning with latitude value=-33,list_length=3280"
       ]
      },
      {
       "output_type": "stream",
       "stream": "stdout",
       "text": [
        "\n",
        "Partitioning with latitude value=-28,list_length=3280"
       ]
      },
      {
       "output_type": "stream",
       "stream": "stdout",
       "text": [
        "\n",
        "STUCK IN LOOP.TRYING TO EXIT."
       ]
      },
      {
       "output_type": "stream",
       "stream": "stdout",
       "text": [
        "\n",
        "Partitioning with latitude value=-28.25,list_length=3280\n",
        "Partitioning with latitude value=-28.5,list_length=3280"
       ]
      },
      {
       "output_type": "stream",
       "stream": "stdout",
       "text": [
        "\n",
        "Partitioning with latitude value=-28.75,list_length=3280"
       ]
      },
      {
       "output_type": "stream",
       "stream": "stdout",
       "text": [
        "\n",
        "Partitioning with latitude value=-29.0,list_length=3280"
       ]
      },
      {
       "output_type": "stream",
       "stream": "stdout",
       "text": [
        "\n",
        "Partitioning with latitude value=-29.25,list_length=3280"
       ]
      },
      {
       "output_type": "stream",
       "stream": "stdout",
       "text": [
        "\n",
        "Partitioning with latitude value=-29.5,list_length=3280"
       ]
      },
      {
       "output_type": "stream",
       "stream": "stdout",
       "text": [
        "\n",
        "Partitioning with latitude value=-29.75,list_length=3280"
       ]
      },
      {
       "output_type": "stream",
       "stream": "stdout",
       "text": [
        "\n",
        "Partitioning with latitude value=-30.0,list_length=3280"
       ]
      },
      {
       "output_type": "stream",
       "stream": "stdout",
       "text": [
        "\n",
        "Partitioning with latitude value=-30.25,list_length=3280"
       ]
      },
      {
       "output_type": "stream",
       "stream": "stdout",
       "text": [
        "\n",
        "Partitioning with latitude value=-30.5,list_length=3280"
       ]
      },
      {
       "output_type": "stream",
       "stream": "stdout",
       "text": [
        "\n",
        "Partitioning with latitude value=-30.75,list_length=3280"
       ]
      },
      {
       "output_type": "stream",
       "stream": "stdout",
       "text": [
        "\n",
        "Partitioning with latitude value=-31.0,list_length=3280"
       ]
      },
      {
       "output_type": "stream",
       "stream": "stdout",
       "text": [
        "\n",
        "Partitioning with latitude value=-31.25,list_length=3280"
       ]
      },
      {
       "output_type": "stream",
       "stream": "stdout",
       "text": [
        "\n",
        "Partitioning with latitude value=-31.5,list_length=3280"
       ]
      },
      {
       "output_type": "stream",
       "stream": "stdout",
       "text": [
        "\n",
        "Partitioning with latitude value=-31.75,list_length=3280"
       ]
      },
      {
       "output_type": "stream",
       "stream": "stdout",
       "text": [
        "\n",
        "Partitioning with latitude value=-32.0,list_length=3280"
       ]
      },
      {
       "output_type": "stream",
       "stream": "stdout",
       "text": [
        "\n",
        "Partitioning with latitude value=-32.25,list_length=3280"
       ]
      },
      {
       "output_type": "stream",
       "stream": "stdout",
       "text": [
        "\n",
        "Recording a successful partition for latitude:-32.25"
       ]
      },
      {
       "output_type": "stream",
       "stream": "stdout",
       "text": [
        "\n",
        "Calculating new partition value: longitude 939\n",
        "Partitioning with longitude value=96,list_length=939"
       ]
      },
      {
       "output_type": "stream",
       "stream": "stdout",
       "text": [
        "\n",
        "Calculating new partition value: longitude 2341\n",
        "Partitioning with longitude value=94,list_length=2341"
       ]
      },
      {
       "output_type": "stream",
       "stream": "stdout",
       "text": [
        "\n",
        "Calculating new partition value: latitude 2675\n",
        "Partitioning with latitude value=6,list_length=2675"
       ]
      },
      {
       "output_type": "stream",
       "stream": "stdout",
       "text": [
        "\n",
        "Partitioning with latitude value=1,list_length=2675"
       ]
      },
      {
       "output_type": "stream",
       "stream": "stdout",
       "text": [
        "\n",
        "Partitioning with latitude value=-4,list_length=2675"
       ]
      },
      {
       "output_type": "stream",
       "stream": "stdout",
       "text": [
        "\n",
        "Partitioning with latitude value=-9,list_length=2675"
       ]
      },
      {
       "output_type": "stream",
       "stream": "stdout",
       "text": [
        "\n",
        "Partitioning with latitude value=-14,list_length=2675"
       ]
      },
      {
       "output_type": "stream",
       "stream": "stdout",
       "text": [
        "\n",
        "Partitioning with latitude value=-19,list_length=2675"
       ]
      },
      {
       "output_type": "stream",
       "stream": "stdout",
       "text": [
        "\n",
        "Partitioning with latitude value=-24,list_length=2675"
       ]
      },
      {
       "output_type": "stream",
       "stream": "stdout",
       "text": [
        "\n",
        "Partitioning with latitude value=-29,list_length=2675"
       ]
      },
      {
       "output_type": "stream",
       "stream": "stdout",
       "text": [
        "\n",
        "Partitioning with latitude value=-34,list_length=2675"
       ]
      },
      {
       "output_type": "stream",
       "stream": "stdout",
       "text": [
        "\n",
        "Partitioning with latitude value=-29,list_length=2675"
       ]
      },
      {
       "output_type": "stream",
       "stream": "stdout",
       "text": [
        "\n",
        "STUCK IN LOOP.TRYING TO EXIT."
       ]
      },
      {
       "output_type": "stream",
       "stream": "stdout",
       "text": [
        "\n",
        "Partitioning with latitude value=-29.25,list_length=2675\n",
        "Partitioning with latitude value=-29.5,list_length=2675"
       ]
      },
      {
       "output_type": "stream",
       "stream": "stdout",
       "text": [
        "\n",
        "Partitioning with latitude value=-29.75,list_length=2675"
       ]
      },
      {
       "output_type": "stream",
       "stream": "stdout",
       "text": [
        "\n",
        "Partitioning with latitude value=-30.0,list_length=2675"
       ]
      },
      {
       "output_type": "stream",
       "stream": "stdout",
       "text": [
        "\n",
        "Partitioning with latitude value=-30.25,list_length=2675"
       ]
      },
      {
       "output_type": "stream",
       "stream": "stdout",
       "text": [
        "\n",
        "Partitioning with latitude value=-30.5,list_length=2675"
       ]
      },
      {
       "output_type": "stream",
       "stream": "stdout",
       "text": [
        "\n",
        "Partitioning with latitude value=-30.75,list_length=2675"
       ]
      },
      {
       "output_type": "stream",
       "stream": "stdout",
       "text": [
        "\n",
        "Partitioning with latitude value=-31.0,list_length=2675"
       ]
      },
      {
       "output_type": "stream",
       "stream": "stdout",
       "text": [
        "\n",
        "Partitioning with latitude value=-31.25,list_length=2675"
       ]
      },
      {
       "output_type": "stream",
       "stream": "stdout",
       "text": [
        "\n",
        "Partitioning with latitude value=-31.5,list_length=2675"
       ]
      },
      {
       "output_type": "stream",
       "stream": "stdout",
       "text": [
        "\n",
        "Partitioning with latitude value=-31.75,list_length=2675"
       ]
      },
      {
       "output_type": "stream",
       "stream": "stdout",
       "text": [
        "\n",
        "Partitioning with latitude value=-32.0,list_length=2675"
       ]
      },
      {
       "output_type": "stream",
       "stream": "stdout",
       "text": [
        "\n",
        "Partitioning with latitude value=-32.25,list_length=2675"
       ]
      },
      {
       "output_type": "stream",
       "stream": "stdout",
       "text": [
        "\n",
        "Partitioning with latitude value=-32.5,list_length=2675"
       ]
      },
      {
       "output_type": "stream",
       "stream": "stdout",
       "text": [
        "\n",
        "Partitioning with latitude value=-32.75,list_length=2675"
       ]
      },
      {
       "output_type": "stream",
       "stream": "stdout",
       "text": [
        "\n",
        "Partitioning with latitude value=-33.0,list_length=2675"
       ]
      },
      {
       "output_type": "stream",
       "stream": "stdout",
       "text": [
        "\n",
        "Partitioning with latitude value=-33.25,list_length=2675"
       ]
      },
      {
       "output_type": "stream",
       "stream": "stdout",
       "text": [
        "\n",
        "Partitioning with latitude value=-33.5,list_length=2675"
       ]
      },
      {
       "output_type": "stream",
       "stream": "stdout",
       "text": [
        "\n",
        "Recording a successful partition for latitude:-33.5"
       ]
      },
      {
       "output_type": "stream",
       "stream": "stdout",
       "text": [
        "\n",
        "Calculating new partition value: longitude 1392\n",
        "Partitioning with longitude value=12,list_length=1392"
       ]
      },
      {
       "output_type": "stream",
       "stream": "stdout",
       "text": [
        "\n",
        "Calculating new partition value: longitude 1283\n",
        "Partitioning with longitude value=12,list_length=1283"
       ]
      },
      {
       "output_type": "stream",
       "stream": "stdout",
       "text": [
        "\n",
        "Calculating new partition value: longitude 7671\n",
        "Partitioning with longitude value=108,list_length=7671"
       ]
      },
      {
       "output_type": "stream",
       "stream": "stdout",
       "text": [
        "\n",
        "Recording a successful partition for longitude:108"
       ]
      },
      {
       "output_type": "stream",
       "stream": "stdout",
       "text": [
        "\n",
        "Calculating new partition value: latitude 6286\n",
        "Partitioning with latitude value=17,list_length=6286"
       ]
      },
      {
       "output_type": "stream",
       "stream": "stdout",
       "text": [
        "\n",
        "Partitioning with latitude value=12,list_length=6286"
       ]
      },
      {
       "output_type": "stream",
       "stream": "stdout",
       "text": [
        "\n",
        "Partitioning with latitude value=7,list_length=6286"
       ]
      },
      {
       "output_type": "stream",
       "stream": "stdout",
       "text": [
        "\n",
        "Partitioning with latitude value=2,list_length=6286"
       ]
      },
      {
       "output_type": "stream",
       "stream": "stdout",
       "text": [
        "\n",
        "Partitioning with latitude value=-3,list_length=6286"
       ]
      },
      {
       "output_type": "stream",
       "stream": "stdout",
       "text": [
        "\n",
        "Recording a successful partition for latitude:-3"
       ]
      },
      {
       "output_type": "stream",
       "stream": "stdout",
       "text": [
        "\n",
        "Calculating new partition value: longitude 5776\n",
        "Partitioning with longitude value=90,list_length=5776"
       ]
      },
      {
       "output_type": "stream",
       "stream": "stdout",
       "text": [
        "\n",
        "Partitioning with longitude value=85,list_length=5776"
       ]
      },
      {
       "output_type": "stream",
       "stream": "stdout",
       "text": [
        "\n",
        "Partitioning with longitude value=80,list_length=5776"
       ]
      },
      {
       "output_type": "stream",
       "stream": "stdout",
       "text": [
        "\n",
        "Partitioning with longitude value=75,list_length=5776"
       ]
      },
      {
       "output_type": "stream",
       "stream": "stdout",
       "text": [
        "\n",
        "Partitioning with longitude value=70,list_length=5776"
       ]
      },
      {
       "output_type": "stream",
       "stream": "stdout",
       "text": [
        "\n",
        "Partitioning with longitude value=65,list_length=5776"
       ]
      },
      {
       "output_type": "stream",
       "stream": "stdout",
       "text": [
        "\n",
        "Partitioning with longitude value=60,list_length=5776"
       ]
      },
      {
       "output_type": "stream",
       "stream": "stdout",
       "text": [
        "\n",
        "Partitioning with longitude value=55,list_length=5776"
       ]
      },
      {
       "output_type": "stream",
       "stream": "stdout",
       "text": [
        "\n",
        "Partitioning with longitude value=50,list_length=5776"
       ]
      },
      {
       "output_type": "stream",
       "stream": "stdout",
       "text": [
        "\n",
        "Partitioning with longitude value=45,list_length=5776"
       ]
      },
      {
       "output_type": "stream",
       "stream": "stdout",
       "text": [
        "\n",
        "Partitioning with longitude value=40,list_length=5776"
       ]
      },
      {
       "output_type": "stream",
       "stream": "stdout",
       "text": [
        "\n",
        "Partitioning with longitude value=35,list_length=5776"
       ]
      },
      {
       "output_type": "stream",
       "stream": "stdout",
       "text": [
        "\n",
        "Partitioning with longitude value=30,list_length=5776"
       ]
      },
      {
       "output_type": "stream",
       "stream": "stdout",
       "text": [
        "\n",
        "Partitioning with longitude value=25,list_length=5776"
       ]
      },
      {
       "output_type": "stream",
       "stream": "stdout",
       "text": [
        "\n",
        "Partitioning with longitude value=30,list_length=5776"
       ]
      },
      {
       "output_type": "stream",
       "stream": "stdout",
       "text": [
        "\n",
        "STUCK IN LOOP.TRYING TO EXIT."
       ]
      },
      {
       "output_type": "stream",
       "stream": "stdout",
       "text": [
        "\n",
        "Partitioning with longitude value=29.75,list_length=5776\n",
        "Partitioning with longitude value=29.5,list_length=5776"
       ]
      },
      {
       "output_type": "stream",
       "stream": "stdout",
       "text": [
        "\n",
        "Recording a successful partition for longitude:29.5"
       ]
      },
      {
       "output_type": "stream",
       "stream": "stdout",
       "text": [
        "\n",
        "Calculating new partition value: latitude 5649\n",
        "Partitioning with latitude value=10,list_length=5649"
       ]
      },
      {
       "output_type": "stream",
       "stream": "stdout",
       "text": [
        "\n",
        "Partitioning with latitude value=5,list_length=5649"
       ]
      },
      {
       "output_type": "stream",
       "stream": "stdout",
       "text": [
        "\n",
        "Partitioning with latitude value=0,list_length=5649"
       ]
      },
      {
       "output_type": "stream",
       "stream": "stdout",
       "text": [
        "\n",
        "Partitioning with latitude value=-5,list_length=5649"
       ]
      },
      {
       "output_type": "stream",
       "stream": "stdout",
       "text": [
        "\n",
        "Partitioning with latitude value=-10,list_length=5649"
       ]
      },
      {
       "output_type": "stream",
       "stream": "stdout",
       "text": [
        "\n",
        "Partitioning with latitude value=-15,list_length=5649"
       ]
      },
      {
       "output_type": "stream",
       "stream": "stdout",
       "text": [
        "\n",
        "Partitioning with latitude value=-20,list_length=5649"
       ]
      },
      {
       "output_type": "stream",
       "stream": "stdout",
       "text": [
        "\n",
        "Partitioning with latitude value=-15,list_length=5649"
       ]
      },
      {
       "output_type": "stream",
       "stream": "stdout",
       "text": [
        "\n",
        "STUCK IN LOOP.TRYING TO EXIT."
       ]
      },
      {
       "output_type": "stream",
       "stream": "stdout",
       "text": [
        "\n",
        "Partitioning with latitude value=-15.25,list_length=5649\n",
        "Partitioning with latitude value=-15.5,list_length=5649"
       ]
      },
      {
       "output_type": "stream",
       "stream": "stdout",
       "text": [
        "\n",
        "Partitioning with latitude value=-15.75,list_length=5649"
       ]
      },
      {
       "output_type": "stream",
       "stream": "stdout",
       "text": [
        "\n",
        "Partitioning with latitude value=-16.0,list_length=5649"
       ]
      },
      {
       "output_type": "stream",
       "stream": "stdout",
       "text": [
        "\n",
        "Partitioning with latitude value=-16.25,list_length=5649"
       ]
      },
      {
       "output_type": "stream",
       "stream": "stdout",
       "text": [
        "\n",
        "Partitioning with latitude value=-16.5,list_length=5649"
       ]
      },
      {
       "output_type": "stream",
       "stream": "stdout",
       "text": [
        "\n",
        "Partitioning with latitude value=-16.75,list_length=5649"
       ]
      },
      {
       "output_type": "stream",
       "stream": "stdout",
       "text": [
        "\n",
        "Partitioning with latitude value=-17.0,list_length=5649"
       ]
      },
      {
       "output_type": "stream",
       "stream": "stdout",
       "text": [
        "\n",
        "Partitioning with latitude value=-17.25,list_length=5649"
       ]
      },
      {
       "output_type": "stream",
       "stream": "stdout",
       "text": [
        "\n",
        "Partitioning with latitude value=-17.5,list_length=5649"
       ]
      },
      {
       "output_type": "stream",
       "stream": "stdout",
       "text": [
        "\n",
        "Partitioning with latitude value=-17.75,list_length=5649"
       ]
      },
      {
       "output_type": "stream",
       "stream": "stdout",
       "text": [
        "\n",
        "Partitioning with latitude value=-18.0,list_length=5649"
       ]
      },
      {
       "output_type": "stream",
       "stream": "stdout",
       "text": [
        "\n",
        "Partitioning with latitude value=-18.25,list_length=5649"
       ]
      },
      {
       "output_type": "stream",
       "stream": "stdout",
       "text": [
        "\n",
        "Recording a successful partition for latitude:-18.25"
       ]
      },
      {
       "output_type": "stream",
       "stream": "stdout",
       "text": [
        "\n",
        "Calculating new partition value: longitude 2593\n",
        "Partitioning with longitude value=49,list_length=2593"
       ]
      },
      {
       "output_type": "stream",
       "stream": "stdout",
       "text": [
        "\n",
        "Partitioning with longitude value=44,list_length=2593"
       ]
      },
      {
       "output_type": "stream",
       "stream": "stdout",
       "text": [
        "\n",
        "Partitioning with longitude value=39,list_length=2593"
       ]
      },
      {
       "output_type": "stream",
       "stream": "stdout",
       "text": [
        "\n",
        "Partitioning with longitude value=34,list_length=2593"
       ]
      },
      {
       "output_type": "stream",
       "stream": "stdout",
       "text": [
        "\n",
        "Partitioning with longitude value=29,list_length=2593"
       ]
      },
      {
       "output_type": "stream",
       "stream": "stdout",
       "text": [
        "\n",
        "Partitioning with longitude value=24,list_length=2593"
       ]
      },
      {
       "output_type": "stream",
       "stream": "stdout",
       "text": [
        "\n",
        "Partitioning with longitude value=19,list_length=2593"
       ]
      },
      {
       "output_type": "stream",
       "stream": "stdout",
       "text": [
        "\n",
        "Partitioning with longitude value=14,list_length=2593"
       ]
      },
      {
       "output_type": "stream",
       "stream": "stdout",
       "text": [
        "\n",
        "Recording a successful partition for longitude:14"
       ]
      },
      {
       "output_type": "stream",
       "stream": "stdout",
       "text": [
        "\n",
        "Calculating new partition value: latitude 2329\n",
        "Partitioning with latitude value=3,list_length=2329"
       ]
      },
      {
       "output_type": "stream",
       "stream": "stdout",
       "text": [
        "\n",
        "Calculating new partition value: latitude 264\n",
        "Partitioning with latitude value=3,list_length=264"
       ]
      },
      {
       "output_type": "stream",
       "stream": "stdout",
       "text": [
        "\n",
        "Calculating new partition value: longitude 3056\n",
        "Partitioning with longitude value=52,list_length=3056"
       ]
      },
      {
       "output_type": "stream",
       "stream": "stdout",
       "text": [
        "\n",
        "Partitioning with longitude value=47,list_length=3056"
       ]
      },
      {
       "output_type": "stream",
       "stream": "stdout",
       "text": [
        "\n",
        "Partitioning with longitude value=42,list_length=3056"
       ]
      },
      {
       "output_type": "stream",
       "stream": "stdout",
       "text": [
        "\n",
        "Partitioning with longitude value=37,list_length=3056"
       ]
      },
      {
       "output_type": "stream",
       "stream": "stdout",
       "text": [
        "\n",
        "Partitioning with longitude value=32,list_length=3056"
       ]
      },
      {
       "output_type": "stream",
       "stream": "stdout",
       "text": [
        "\n",
        "Partitioning with longitude value=27,list_length=3056"
       ]
      },
      {
       "output_type": "stream",
       "stream": "stdout",
       "text": [
        "\n",
        "Partitioning with longitude value=22,list_length=3056"
       ]
      },
      {
       "output_type": "stream",
       "stream": "stdout",
       "text": [
        "\n",
        "Partitioning with longitude value=17,list_length=3056"
       ]
      },
      {
       "output_type": "stream",
       "stream": "stdout",
       "text": [
        "\n",
        "Partitioning with longitude value=12,list_length=3056"
       ]
      },
      {
       "output_type": "stream",
       "stream": "stdout",
       "text": [
        "\n",
        "Partitioning with longitude value=7,list_length=3056"
       ]
      },
      {
       "output_type": "stream",
       "stream": "stdout",
       "text": [
        "\n",
        "Recording a successful partition for longitude:7"
       ]
      },
      {
       "output_type": "stream",
       "stream": "stdout",
       "text": [
        "\n",
        "Calculating new partition value: latitude 3012\n",
        "Partitioning with latitude value=7,list_length=3012"
       ]
      },
      {
       "output_type": "stream",
       "stream": "stdout",
       "text": [
        "\n",
        "Partitioning with latitude value=2,list_length=3012"
       ]
      },
      {
       "output_type": "stream",
       "stream": "stdout",
       "text": [
        "\n",
        "Partitioning with latitude value=-3,list_length=3012"
       ]
      },
      {
       "output_type": "stream",
       "stream": "stdout",
       "text": [
        "\n",
        "Partitioning with latitude value=-8,list_length=3012"
       ]
      },
      {
       "output_type": "stream",
       "stream": "stdout",
       "text": [
        "\n",
        "Partitioning with latitude value=-13,list_length=3012"
       ]
      },
      {
       "output_type": "stream",
       "stream": "stdout",
       "text": [
        "\n",
        "Partitioning with latitude value=-8,list_length=3012"
       ]
      },
      {
       "output_type": "stream",
       "stream": "stdout",
       "text": [
        "\n",
        "STUCK IN LOOP.TRYING TO EXIT."
       ]
      },
      {
       "output_type": "stream",
       "stream": "stdout",
       "text": [
        "\n",
        "Partitioning with latitude value=-8.25,list_length=3012\n",
        "Partitioning with latitude value=-8.5,list_length=3012"
       ]
      },
      {
       "output_type": "stream",
       "stream": "stdout",
       "text": [
        "\n",
        "Partitioning with latitude value=-8.75,list_length=3012"
       ]
      },
      {
       "output_type": "stream",
       "stream": "stdout",
       "text": [
        "\n",
        "Partitioning with latitude value=-9.0,list_length=3012"
       ]
      },
      {
       "output_type": "stream",
       "stream": "stdout",
       "text": [
        "\n",
        "Partitioning with latitude value=-9.25,list_length=3012"
       ]
      },
      {
       "output_type": "stream",
       "stream": "stdout",
       "text": [
        "\n",
        "Partitioning with latitude value=-9.5,list_length=3012"
       ]
      },
      {
       "output_type": "stream",
       "stream": "stdout",
       "text": [
        "\n",
        "Partitioning with latitude value=-9.75,list_length=3012"
       ]
      },
      {
       "output_type": "stream",
       "stream": "stdout",
       "text": [
        "\n",
        "Partitioning with latitude value=-10.0,list_length=3012"
       ]
      },
      {
       "output_type": "stream",
       "stream": "stdout",
       "text": [
        "\n",
        "Partitioning with latitude value=-10.25,list_length=3012"
       ]
      },
      {
       "output_type": "stream",
       "stream": "stdout",
       "text": [
        "\n",
        "Partitioning with latitude value=-10.5,list_length=3012"
       ]
      },
      {
       "output_type": "stream",
       "stream": "stdout",
       "text": [
        "\n",
        "Partitioning with latitude value=-10.75,list_length=3012"
       ]
      },
      {
       "output_type": "stream",
       "stream": "stdout",
       "text": [
        "\n",
        "Partitioning with latitude value=-11.0,list_length=3012"
       ]
      },
      {
       "output_type": "stream",
       "stream": "stdout",
       "text": [
        "\n",
        "Recording a successful partition for latitude:-11.0"
       ]
      },
      {
       "output_type": "stream",
       "stream": "stdout",
       "text": [
        "\n",
        "Calculating new partition value: longitude 1151\n",
        "Partitioning with longitude value=35,list_length=1151"
       ]
      },
      {
       "output_type": "stream",
       "stream": "stdout",
       "text": [
        "\n",
        "Calculating new partition value: longitude 1861\n",
        "Partitioning with longitude value=29,list_length=1861"
       ]
      },
      {
       "output_type": "stream",
       "stream": "stdout",
       "text": [
        "\n",
        "Calculating new partition value: latitude 44\n",
        "Partitioning with latitude value=7,list_length=44\n",
        "Calculating new partition value: latitude 127\n",
        "Partitioning with latitude value=10,list_length=127\n",
        "Calculating new partition value: longitude 510\n",
        "Partitioning with longitude value=90,list_length=510"
       ]
      },
      {
       "output_type": "stream",
       "stream": "stdout",
       "text": [
        "\n",
        "Calculating new partition value: latitude 1385\n",
        "Partitioning with latitude value=16,list_length=1385"
       ]
      },
      {
       "output_type": "stream",
       "stream": "stdout",
       "text": [
        "\n",
        "Calculating new partition value: latitude 11613\n",
        "Partitioning with latitude value=46,list_length=11613"
       ]
      },
      {
       "output_type": "stream",
       "stream": "stdout",
       "text": [
        "\n",
        "Partitioning with latitude value=41,list_length=11613"
       ]
      },
      {
       "output_type": "stream",
       "stream": "stdout",
       "text": [
        "\n",
        "Partitioning with latitude value=36,list_length=11613"
       ]
      },
      {
       "output_type": "stream",
       "stream": "stdout",
       "text": [
        "\n",
        "Partitioning with latitude value=31,list_length=11613"
       ]
      },
      {
       "output_type": "stream",
       "stream": "stdout",
       "text": [
        "\n",
        "Partitioning with latitude value=26,list_length=11613"
       ]
      },
      {
       "output_type": "stream",
       "stream": "stdout",
       "text": [
        "\n",
        "Partitioning with latitude value=21,list_length=11613"
       ]
      },
      {
       "output_type": "stream",
       "stream": "stdout",
       "text": [
        "\n",
        "Partitioning with latitude value=16,list_length=11613"
       ]
      },
      {
       "output_type": "stream",
       "stream": "stdout",
       "text": [
        "\n",
        "Partitioning with latitude value=11,list_length=11613"
       ]
      },
      {
       "output_type": "stream",
       "stream": "stdout",
       "text": [
        "\n",
        "Partitioning with latitude value=6,list_length=11613"
       ]
      },
      {
       "output_type": "stream",
       "stream": "stdout",
       "text": [
        "\n",
        "Partitioning with latitude value=1,list_length=11613"
       ]
      },
      {
       "output_type": "stream",
       "stream": "stdout",
       "text": [
        "\n",
        "Partitioning with latitude value=-4,list_length=11613"
       ]
      },
      {
       "output_type": "stream",
       "stream": "stdout",
       "text": [
        "\n",
        "Partitioning with latitude value=-9,list_length=11613"
       ]
      },
      {
       "output_type": "stream",
       "stream": "stdout",
       "text": [
        "\n",
        "Partitioning with latitude value=-14,list_length=11613"
       ]
      },
      {
       "output_type": "stream",
       "stream": "stdout",
       "text": [
        "\n",
        "Partitioning with latitude value=-19,list_length=11613"
       ]
      },
      {
       "output_type": "stream",
       "stream": "stdout",
       "text": [
        "\n",
        "Partitioning with latitude value=-24,list_length=11613"
       ]
      },
      {
       "output_type": "stream",
       "stream": "stdout",
       "text": [
        "\n",
        "Partitioning with latitude value=-29,list_length=11613"
       ]
      },
      {
       "output_type": "stream",
       "stream": "stdout",
       "text": [
        "\n",
        "Partitioning with latitude value=-34,list_length=11613"
       ]
      },
      {
       "output_type": "stream",
       "stream": "stdout",
       "text": [
        "\n",
        "Partitioning with latitude value=-29,list_length=11613"
       ]
      },
      {
       "output_type": "stream",
       "stream": "stdout",
       "text": [
        "\n",
        "STUCK IN LOOP.TRYING TO EXIT."
       ]
      },
      {
       "output_type": "stream",
       "stream": "stdout",
       "text": [
        "\n",
        "Partitioning with latitude value=-29.25,list_length=11613\n",
        "Partitioning with latitude value=-29.5,list_length=11613"
       ]
      },
      {
       "output_type": "stream",
       "stream": "stdout",
       "text": [
        "\n",
        "Partitioning with latitude value=-29.75,list_length=11613"
       ]
      },
      {
       "output_type": "stream",
       "stream": "stdout",
       "text": [
        "\n",
        "Partitioning with latitude value=-30.0,list_length=11613"
       ]
      },
      {
       "output_type": "stream",
       "stream": "stdout",
       "text": [
        "\n",
        "Partitioning with latitude value=-30.25,list_length=11613"
       ]
      },
      {
       "output_type": "stream",
       "stream": "stdout",
       "text": [
        "\n",
        "Partitioning with latitude value=-30.5,list_length=11613"
       ]
      },
      {
       "output_type": "stream",
       "stream": "stdout",
       "text": [
        "\n",
        "Partitioning with latitude value=-30.75,list_length=11613"
       ]
      },
      {
       "output_type": "stream",
       "stream": "stdout",
       "text": [
        "\n",
        "Partitioning with latitude value=-31.0,list_length=11613"
       ]
      },
      {
       "output_type": "stream",
       "stream": "stdout",
       "text": [
        "\n",
        "Partitioning with latitude value=-31.25,list_length=11613"
       ]
      },
      {
       "output_type": "stream",
       "stream": "stdout",
       "text": [
        "\n",
        "Partitioning with latitude value=-31.5,list_length=11613"
       ]
      },
      {
       "output_type": "stream",
       "stream": "stdout",
       "text": [
        "\n",
        "Partitioning with latitude value=-31.75,list_length=11613"
       ]
      },
      {
       "output_type": "stream",
       "stream": "stdout",
       "text": [
        "\n",
        "Partitioning with latitude value=-32.0,list_length=11613"
       ]
      },
      {
       "output_type": "stream",
       "stream": "stdout",
       "text": [
        "\n",
        "Partitioning with latitude value=-32.25,list_length=11613"
       ]
      },
      {
       "output_type": "stream",
       "stream": "stdout",
       "text": [
        "\n",
        "Partitioning with latitude value=-32.5,list_length=11613"
       ]
      },
      {
       "output_type": "stream",
       "stream": "stdout",
       "text": [
        "\n",
        "Partitioning with latitude value=-32.75,list_length=11613"
       ]
      },
      {
       "output_type": "stream",
       "stream": "stdout",
       "text": [
        "\n",
        "Recording a successful partition for latitude:-32.75"
       ]
      },
      {
       "output_type": "stream",
       "stream": "stdout",
       "text": [
        "\n",
        "Calculating new partition value: longitude 5519\n",
        "Partitioning with longitude value=17,list_length=5519"
       ]
      },
      {
       "output_type": "stream",
       "stream": "stdout",
       "text": [
        "\n",
        "Partitioning with longitude value=22,list_length=5519"
       ]
      },
      {
       "output_type": "stream",
       "stream": "stdout",
       "text": [
        "\n",
        "Partitioning with longitude value=27,list_length=5519"
       ]
      },
      {
       "output_type": "stream",
       "stream": "stdout",
       "text": [
        "\n",
        "Partitioning with longitude value=32,list_length=5519"
       ]
      },
      {
       "output_type": "stream",
       "stream": "stdout",
       "text": [
        "\n",
        "Partitioning with longitude value=37,list_length=5519"
       ]
      },
      {
       "output_type": "stream",
       "stream": "stdout",
       "text": [
        "\n",
        "Partitioning with longitude value=42,list_length=5519"
       ]
      },
      {
       "output_type": "stream",
       "stream": "stdout",
       "text": [
        "\n",
        "Partitioning with longitude value=47,list_length=5519"
       ]
      },
      {
       "output_type": "stream",
       "stream": "stdout",
       "text": [
        "\n",
        "Partitioning with longitude value=52,list_length=5519"
       ]
      },
      {
       "output_type": "stream",
       "stream": "stdout",
       "text": [
        "\n",
        "Partitioning with longitude value=57,list_length=5519"
       ]
      },
      {
       "output_type": "stream",
       "stream": "stdout",
       "text": [
        "\n",
        "Partitioning with longitude value=62,list_length=5519"
       ]
      },
      {
       "output_type": "stream",
       "stream": "stdout",
       "text": [
        "\n",
        "Partitioning with longitude value=67,list_length=5519"
       ]
      },
      {
       "output_type": "stream",
       "stream": "stdout",
       "text": [
        "\n",
        "Partitioning with longitude value=72,list_length=5519"
       ]
      },
      {
       "output_type": "stream",
       "stream": "stdout",
       "text": [
        "\n",
        "Partitioning with longitude value=77,list_length=5519"
       ]
      },
      {
       "output_type": "stream",
       "stream": "stdout",
       "text": [
        "\n",
        "Partitioning with longitude value=82,list_length=5519"
       ]
      },
      {
       "output_type": "stream",
       "stream": "stdout",
       "text": [
        "\n",
        "Partitioning with longitude value=87,list_length=5519"
       ]
      },
      {
       "output_type": "stream",
       "stream": "stdout",
       "text": [
        "\n",
        "Partitioning with longitude value=92,list_length=5519"
       ]
      },
      {
       "output_type": "stream",
       "stream": "stdout",
       "text": [
        "\n",
        "Partitioning with longitude value=97,list_length=5519"
       ]
      },
      {
       "output_type": "stream",
       "stream": "stdout",
       "text": [
        "\n",
        "Partitioning with longitude value=102,list_length=5519"
       ]
      },
      {
       "output_type": "stream",
       "stream": "stdout",
       "text": [
        "\n",
        "Partitioning with longitude value=107,list_length=5519"
       ]
      },
      {
       "output_type": "stream",
       "stream": "stdout",
       "text": [
        "\n",
        "Partitioning with longitude value=112,list_length=5519"
       ]
      },
      {
       "output_type": "stream",
       "stream": "stdout",
       "text": [
        "\n",
        "Partitioning with longitude value=117,list_length=5519"
       ]
      },
      {
       "output_type": "stream",
       "stream": "stdout",
       "text": [
        "\n",
        "Partitioning with longitude value=122,list_length=5519"
       ]
      },
      {
       "output_type": "stream",
       "stream": "stdout",
       "text": [
        "\n",
        "Partitioning with longitude value=127,list_length=5519"
       ]
      },
      {
       "output_type": "stream",
       "stream": "stdout",
       "text": [
        "\n",
        "Partitioning with longitude value=132,list_length=5519"
       ]
      },
      {
       "output_type": "stream",
       "stream": "stdout",
       "text": [
        "\n",
        "Partitioning with longitude value=137,list_length=5519"
       ]
      },
      {
       "output_type": "stream",
       "stream": "stdout",
       "text": [
        "\n",
        "Partitioning with longitude value=142,list_length=5519"
       ]
      },
      {
       "output_type": "stream",
       "stream": "stdout",
       "text": [
        "\n",
        "Partitioning with longitude value=147,list_length=5519"
       ]
      },
      {
       "output_type": "stream",
       "stream": "stdout",
       "text": [
        "\n",
        "Recording a successful partition for longitude:147"
       ]
      },
      {
       "output_type": "stream",
       "stream": "stdout",
       "text": [
        "\n",
        "Calculating new partition value: latitude 2774\n",
        "Partitioning with latitude value=5,list_length=2774"
       ]
      },
      {
       "output_type": "stream",
       "stream": "stdout",
       "text": [
        "\n",
        "Partitioning with latitude value=0,list_length=2774"
       ]
      },
      {
       "output_type": "stream",
       "stream": "stdout",
       "text": [
        "\n",
        "Partitioning with latitude value=-5,list_length=2774"
       ]
      },
      {
       "output_type": "stream",
       "stream": "stdout",
       "text": [
        "\n",
        "Partitioning with latitude value=-10,list_length=2774"
       ]
      },
      {
       "output_type": "stream",
       "stream": "stdout",
       "text": [
        "\n",
        "Partitioning with latitude value=-15,list_length=2774"
       ]
      },
      {
       "output_type": "stream",
       "stream": "stdout",
       "text": [
        "\n",
        "Partitioning with latitude value=-20,list_length=2774"
       ]
      },
      {
       "output_type": "stream",
       "stream": "stdout",
       "text": [
        "\n",
        "Partitioning with latitude value=-25,list_length=2774"
       ]
      },
      {
       "output_type": "stream",
       "stream": "stdout",
       "text": [
        "\n",
        "Partitioning with latitude value=-30,list_length=2774"
       ]
      },
      {
       "output_type": "stream",
       "stream": "stdout",
       "text": [
        "\n",
        "Partitioning with latitude value=-35,list_length=2774"
       ]
      },
      {
       "output_type": "stream",
       "stream": "stdout",
       "text": [
        "\n",
        "Partitioning with latitude value=-40,list_length=2774"
       ]
      },
      {
       "output_type": "stream",
       "stream": "stdout",
       "text": [
        "\n",
        "Partitioning with latitude value=-35,list_length=2774"
       ]
      },
      {
       "output_type": "stream",
       "stream": "stdout",
       "text": [
        "\n",
        "STUCK IN LOOP.TRYING TO EXIT."
       ]
      },
      {
       "output_type": "stream",
       "stream": "stdout",
       "text": [
        "\n",
        "Partitioning with latitude value=-35.25,list_length=2774\n",
        "Partitioning with latitude value=-35.5,list_length=2774"
       ]
      },
      {
       "output_type": "stream",
       "stream": "stdout",
       "text": [
        "\n",
        "Partitioning with latitude value=-35.75,list_length=2774"
       ]
      },
      {
       "output_type": "stream",
       "stream": "stdout",
       "text": [
        "\n",
        "Partitioning with latitude value=-36.0,list_length=2774"
       ]
      },
      {
       "output_type": "stream",
       "stream": "stdout",
       "text": [
        "\n",
        "Partitioning with latitude value=-36.25,list_length=2774"
       ]
      },
      {
       "output_type": "stream",
       "stream": "stdout",
       "text": [
        "\n",
        "Partitioning with latitude value=-36.5,list_length=2774"
       ]
      },
      {
       "output_type": "stream",
       "stream": "stdout",
       "text": [
        "\n",
        "Partitioning with latitude value=-36.75,list_length=2774"
       ]
      },
      {
       "output_type": "stream",
       "stream": "stdout",
       "text": [
        "\n",
        "Partitioning with latitude value=-37.0,list_length=2774"
       ]
      },
      {
       "output_type": "stream",
       "stream": "stdout",
       "text": [
        "\n",
        "Partitioning with latitude value=-37.25,list_length=2774"
       ]
      },
      {
       "output_type": "stream",
       "stream": "stdout",
       "text": [
        "\n",
        "Partitioning with latitude value=-37.5,list_length=2774"
       ]
      },
      {
       "output_type": "stream",
       "stream": "stdout",
       "text": [
        "\n",
        "Partitioning with latitude value=-37.75,list_length=2774"
       ]
      },
      {
       "output_type": "stream",
       "stream": "stdout",
       "text": [
        "\n",
        "Recording a successful partition for latitude:-37.75"
       ]
      },
      {
       "output_type": "stream",
       "stream": "stdout",
       "text": [
        "\n",
        "Calculating new partition value: longitude 1167\n",
        "Partitioning with longitude value=2,list_length=1167"
       ]
      },
      {
       "output_type": "stream",
       "stream": "stdout",
       "text": [
        "\n",
        "Calculating new partition value: longitude 1607\n",
        "Partitioning with longitude value=2,list_length=1607"
       ]
      },
      {
       "output_type": "stream",
       "stream": "stdout",
       "text": [
        "\n",
        "Calculating new partition value: latitude 2745\n",
        "Partitioning with latitude value=25,list_length=2745"
       ]
      },
      {
       "output_type": "stream",
       "stream": "stdout",
       "text": [
        "\n",
        "Partitioning with latitude value=20,list_length=2745"
       ]
      },
      {
       "output_type": "stream",
       "stream": "stdout",
       "text": [
        "\n",
        "Partitioning with latitude value=15,list_length=2745"
       ]
      },
      {
       "output_type": "stream",
       "stream": "stdout",
       "text": [
        "\n",
        "Partitioning with latitude value=10,list_length=2745"
       ]
      },
      {
       "output_type": "stream",
       "stream": "stdout",
       "text": [
        "\n",
        "Partitioning with latitude value=5,list_length=2745"
       ]
      },
      {
       "output_type": "stream",
       "stream": "stdout",
       "text": [
        "\n",
        "Partitioning with latitude value=0,list_length=2745"
       ]
      },
      {
       "output_type": "stream",
       "stream": "stdout",
       "text": [
        "\n",
        "Partitioning with latitude value=-5,list_length=2745"
       ]
      },
      {
       "output_type": "stream",
       "stream": "stdout",
       "text": [
        "\n",
        "Partitioning with latitude value=-10,list_length=2745"
       ]
      },
      {
       "output_type": "stream",
       "stream": "stdout",
       "text": [
        "\n",
        "Partitioning with latitude value=-15,list_length=2745"
       ]
      },
      {
       "output_type": "stream",
       "stream": "stdout",
       "text": [
        "\n",
        "Partitioning with latitude value=-20,list_length=2745"
       ]
      },
      {
       "output_type": "stream",
       "stream": "stdout",
       "text": [
        "\n",
        "Partitioning with latitude value=-25,list_length=2745"
       ]
      },
      {
       "output_type": "stream",
       "stream": "stdout",
       "text": [
        "\n",
        "Partitioning with latitude value=-30,list_length=2745"
       ]
      },
      {
       "output_type": "stream",
       "stream": "stdout",
       "text": [
        "\n",
        "Partitioning with latitude value=-35,list_length=2745"
       ]
      },
      {
       "output_type": "stream",
       "stream": "stdout",
       "text": [
        "\n",
        "Partitioning with latitude value=-40,list_length=2745"
       ]
      },
      {
       "output_type": "stream",
       "stream": "stdout",
       "text": [
        "\n",
        "Partitioning with latitude value=-35,list_length=2745"
       ]
      },
      {
       "output_type": "stream",
       "stream": "stdout",
       "text": [
        "\n",
        "STUCK IN LOOP.TRYING TO EXIT."
       ]
      },
      {
       "output_type": "stream",
       "stream": "stdout",
       "text": [
        "\n",
        "Partitioning with latitude value=-35.25,list_length=2745\n",
        "Recording a successful partition for latitude:-35.25"
       ]
      },
      {
       "output_type": "stream",
       "stream": "stdout",
       "text": [
        "\n",
        "Calculating new partition value: longitude 1294\n",
        "Partitioning with longitude value=15,list_length=1294"
       ]
      },
      {
       "output_type": "stream",
       "stream": "stdout",
       "text": [
        "\n",
        "Calculating new partition value: longitude 1451\n",
        "Partitioning with longitude value=13,list_length=1451"
       ]
      },
      {
       "output_type": "stream",
       "stream": "stdout",
       "text": [
        "\n",
        "Calculating new partition value: longitude 6094\n",
        "Partitioning with longitude value=18,list_length=6094"
       ]
      },
      {
       "output_type": "stream",
       "stream": "stdout",
       "text": [
        "\n",
        "Partitioning with longitude value=23,list_length=6094"
       ]
      },
      {
       "output_type": "stream",
       "stream": "stdout",
       "text": [
        "\n",
        "Partitioning with longitude value=28,list_length=6094"
       ]
      },
      {
       "output_type": "stream",
       "stream": "stdout",
       "text": [
        "\n",
        "Partitioning with longitude value=33,list_length=6094"
       ]
      },
      {
       "output_type": "stream",
       "stream": "stdout",
       "text": [
        "\n",
        "Partitioning with longitude value=38,list_length=6094"
       ]
      },
      {
       "output_type": "stream",
       "stream": "stdout",
       "text": [
        "\n",
        "Partitioning with longitude value=43,list_length=6094"
       ]
      },
      {
       "output_type": "stream",
       "stream": "stdout",
       "text": [
        "\n",
        "Partitioning with longitude value=48,list_length=6094"
       ]
      },
      {
       "output_type": "stream",
       "stream": "stdout",
       "text": [
        "\n",
        "Partitioning with longitude value=53,list_length=6094"
       ]
      },
      {
       "output_type": "stream",
       "stream": "stdout",
       "text": [
        "\n",
        "Partitioning with longitude value=58,list_length=6094"
       ]
      },
      {
       "output_type": "stream",
       "stream": "stdout",
       "text": [
        "\n",
        "Partitioning with longitude value=63,list_length=6094"
       ]
      },
      {
       "output_type": "stream",
       "stream": "stdout",
       "text": [
        "\n",
        "Partitioning with longitude value=68,list_length=6094"
       ]
      },
      {
       "output_type": "stream",
       "stream": "stdout",
       "text": [
        "\n",
        "Partitioning with longitude value=73,list_length=6094"
       ]
      },
      {
       "output_type": "stream",
       "stream": "stdout",
       "text": [
        "\n",
        "Partitioning with longitude value=78,list_length=6094"
       ]
      },
      {
       "output_type": "stream",
       "stream": "stdout",
       "text": [
        "\n",
        "Partitioning with longitude value=83,list_length=6094"
       ]
      },
      {
       "output_type": "stream",
       "stream": "stdout",
       "text": [
        "\n",
        "Partitioning with longitude value=88,list_length=6094"
       ]
      },
      {
       "output_type": "stream",
       "stream": "stdout",
       "text": [
        "\n",
        "Partitioning with longitude value=93,list_length=6094"
       ]
      },
      {
       "output_type": "stream",
       "stream": "stdout",
       "text": [
        "\n",
        "Partitioning with longitude value=98,list_length=6094"
       ]
      },
      {
       "output_type": "stream",
       "stream": "stdout",
       "text": [
        "\n",
        "Partitioning with longitude value=103,list_length=6094"
       ]
      },
      {
       "output_type": "stream",
       "stream": "stdout",
       "text": [
        "\n",
        "Partitioning with longitude value=108,list_length=6094"
       ]
      },
      {
       "output_type": "stream",
       "stream": "stdout",
       "text": [
        "\n",
        "Partitioning with longitude value=113,list_length=6094"
       ]
      },
      {
       "output_type": "stream",
       "stream": "stdout",
       "text": [
        "\n",
        "Partitioning with longitude value=118,list_length=6094"
       ]
      },
      {
       "output_type": "stream",
       "stream": "stdout",
       "text": [
        "\n",
        "Partitioning with longitude value=123,list_length=6094"
       ]
      },
      {
       "output_type": "stream",
       "stream": "stdout",
       "text": [
        "\n",
        "Partitioning with longitude value=128,list_length=6094"
       ]
      },
      {
       "output_type": "stream",
       "stream": "stdout",
       "text": [
        "\n",
        "Partitioning with longitude value=133,list_length=6094"
       ]
      },
      {
       "output_type": "stream",
       "stream": "stdout",
       "text": [
        "\n",
        "Partitioning with longitude value=138,list_length=6094"
       ]
      },
      {
       "output_type": "stream",
       "stream": "stdout",
       "text": [
        "\n",
        "Partitioning with longitude value=143,list_length=6094"
       ]
      },
      {
       "output_type": "stream",
       "stream": "stdout",
       "text": [
        "\n",
        "Partitioning with longitude value=148,list_length=6094"
       ]
      },
      {
       "output_type": "stream",
       "stream": "stdout",
       "text": [
        "\n",
        "Partitioning with longitude value=153,list_length=6094"
       ]
      },
      {
       "output_type": "stream",
       "stream": "stdout",
       "text": [
        "\n",
        "Partitioning with longitude value=148,list_length=6094"
       ]
      },
      {
       "output_type": "stream",
       "stream": "stdout",
       "text": [
        "\n",
        "STUCK IN LOOP.TRYING TO EXIT."
       ]
      },
      {
       "output_type": "stream",
       "stream": "stdout",
       "text": [
        "\n",
        "Partitioning with longitude value=148.25,list_length=6094\n",
        "Partitioning with longitude value=148.5,list_length=6094"
       ]
      },
      {
       "output_type": "stream",
       "stream": "stdout",
       "text": [
        "\n",
        "Partitioning with longitude value=148.75,list_length=6094"
       ]
      },
      {
       "output_type": "stream",
       "stream": "stdout",
       "text": [
        "\n",
        "Partitioning with longitude value=149.0,list_length=6094"
       ]
      },
      {
       "output_type": "stream",
       "stream": "stdout",
       "text": [
        "\n",
        "Partitioning with longitude value=149.25,list_length=6094"
       ]
      },
      {
       "output_type": "stream",
       "stream": "stdout",
       "text": [
        "\n",
        "Partitioning with longitude value=149.5,list_length=6094"
       ]
      },
      {
       "output_type": "stream",
       "stream": "stdout",
       "text": [
        "\n",
        "Recording a successful partition for longitude:149.5"
       ]
      },
      {
       "output_type": "stream",
       "stream": "stdout",
       "text": [
        "\n",
        "Calculating new partition value: latitude 2593\n",
        "Partitioning with latitude value=19,list_length=2593"
       ]
      },
      {
       "output_type": "stream",
       "stream": "stdout",
       "text": [
        "\n",
        "Partitioning with latitude value=14,list_length=2593"
       ]
      },
      {
       "output_type": "stream",
       "stream": "stdout",
       "text": [
        "\n",
        "Partitioning with latitude value=9,list_length=2593"
       ]
      },
      {
       "output_type": "stream",
       "stream": "stdout",
       "text": [
        "\n",
        "Partitioning with latitude value=4,list_length=2593"
       ]
      },
      {
       "output_type": "stream",
       "stream": "stdout",
       "text": [
        "\n",
        "Partitioning with latitude value=-1,list_length=2593"
       ]
      },
      {
       "output_type": "stream",
       "stream": "stdout",
       "text": [
        "\n",
        "Partitioning with latitude value=-6,list_length=2593"
       ]
      },
      {
       "output_type": "stream",
       "stream": "stdout",
       "text": [
        "\n",
        "Partitioning with latitude value=-11,list_length=2593"
       ]
      },
      {
       "output_type": "stream",
       "stream": "stdout",
       "text": [
        "\n",
        "Partitioning with latitude value=-16,list_length=2593"
       ]
      },
      {
       "output_type": "stream",
       "stream": "stdout",
       "text": [
        "\n",
        "Partitioning with latitude value=-21,list_length=2593"
       ]
      },
      {
       "output_type": "stream",
       "stream": "stdout",
       "text": [
        "\n",
        "Partitioning with latitude value=-26,list_length=2593"
       ]
      },
      {
       "output_type": "stream",
       "stream": "stdout",
       "text": [
        "\n",
        "Partitioning with latitude value=-21,list_length=2593"
       ]
      },
      {
       "output_type": "stream",
       "stream": "stdout",
       "text": [
        "\n",
        "STUCK IN LOOP.TRYING TO EXIT."
       ]
      },
      {
       "output_type": "stream",
       "stream": "stdout",
       "text": [
        "\n",
        "Partitioning with latitude value=-21.25,list_length=2593\n",
        "Recording a successful partition for latitude:-21.25"
       ]
      },
      {
       "output_type": "stream",
       "stream": "stdout",
       "text": [
        "\n",
        "Calculating new partition value: longitude 1752\n",
        "Partitioning with longitude value=3,list_length=1752"
       ]
      },
      {
       "output_type": "stream",
       "stream": "stdout",
       "text": [
        "\n",
        "Calculating new partition value: longitude 841\n",
        "Partitioning with longitude value=3,list_length=841"
       ]
      },
      {
       "output_type": "stream",
       "stream": "stdout",
       "text": [
        "\n",
        "Calculating new partition value: latitude 3501\n",
        "Partitioning with latitude value=20,list_length=3501"
       ]
      },
      {
       "output_type": "stream",
       "stream": "stdout",
       "text": [
        "\n",
        "Partitioning with latitude value=15,list_length=3501"
       ]
      },
      {
       "output_type": "stream",
       "stream": "stdout",
       "text": [
        "\n",
        "Partitioning with latitude value=10,list_length=3501"
       ]
      },
      {
       "output_type": "stream",
       "stream": "stdout",
       "text": [
        "\n",
        "Partitioning with latitude value=5,list_length=3501"
       ]
      },
      {
       "output_type": "stream",
       "stream": "stdout",
       "text": [
        "\n",
        "Partitioning with latitude value=0,list_length=3501"
       ]
      },
      {
       "output_type": "stream",
       "stream": "stdout",
       "text": [
        "\n",
        "Partitioning with latitude value=-5,list_length=3501"
       ]
      },
      {
       "output_type": "stream",
       "stream": "stdout",
       "text": [
        "\n",
        "Partitioning with latitude value=-10,list_length=3501"
       ]
      },
      {
       "output_type": "stream",
       "stream": "stdout",
       "text": [
        "\n",
        "Partitioning with latitude value=-15,list_length=3501"
       ]
      },
      {
       "output_type": "stream",
       "stream": "stdout",
       "text": [
        "\n",
        "Partitioning with latitude value=-20,list_length=3501"
       ]
      },
      {
       "output_type": "stream",
       "stream": "stdout",
       "text": [
        "\n",
        "Partitioning with latitude value=-25,list_length=3501"
       ]
      },
      {
       "output_type": "stream",
       "stream": "stdout",
       "text": [
        "\n",
        "Partitioning with latitude value=-30,list_length=3501"
       ]
      },
      {
       "output_type": "stream",
       "stream": "stdout",
       "text": [
        "\n",
        "Partitioning with latitude value=-25,list_length=3501"
       ]
      },
      {
       "output_type": "stream",
       "stream": "stdout",
       "text": [
        "\n",
        "STUCK IN LOOP.TRYING TO EXIT."
       ]
      },
      {
       "output_type": "stream",
       "stream": "stdout",
       "text": [
        "\n",
        "Partitioning with latitude value=-25.25,list_length=3501\n",
        "Partitioning with latitude value=-25.5,list_length=3501"
       ]
      },
      {
       "output_type": "stream",
       "stream": "stdout",
       "text": [
        "\n",
        "Partitioning with latitude value=-25.75,list_length=3501"
       ]
      },
      {
       "output_type": "stream",
       "stream": "stdout",
       "text": [
        "\n",
        "Partitioning with latitude value=-26.0,list_length=3501"
       ]
      },
      {
       "output_type": "stream",
       "stream": "stdout",
       "text": [
        "\n",
        "Partitioning with latitude value=-26.25,list_length=3501"
       ]
      },
      {
       "output_type": "stream",
       "stream": "stdout",
       "text": [
        "\n",
        "Partitioning with latitude value=-26.5,list_length=3501"
       ]
      },
      {
       "output_type": "stream",
       "stream": "stdout",
       "text": [
        "\n",
        "Partitioning with latitude value=-26.75,list_length=3501"
       ]
      },
      {
       "output_type": "stream",
       "stream": "stdout",
       "text": [
        "\n",
        "Partitioning with latitude value=-27.0,list_length=3501"
       ]
      },
      {
       "output_type": "stream",
       "stream": "stdout",
       "text": [
        "\n",
        "Partitioning with latitude value=-27.25,list_length=3501"
       ]
      },
      {
       "output_type": "stream",
       "stream": "stdout",
       "text": [
        "\n",
        "Partitioning with latitude value=-27.5,list_length=3501"
       ]
      },
      {
       "output_type": "stream",
       "stream": "stdout",
       "text": [
        "\n",
        "Recording a successful partition for latitude:-27.5"
       ]
      },
      {
       "output_type": "stream",
       "stream": "stdout",
       "text": [
        "\n",
        "Calculating new partition value: longitude 2323\n",
        "Partitioning with longitude value=2,list_length=2323"
       ]
      },
      {
       "output_type": "stream",
       "stream": "stdout",
       "text": [
        "\n",
        "Calculating new partition value: longitude 1178\n",
        "Partitioning with longitude value=15,list_length=1178"
       ]
      },
      {
       "output_type": "stream",
       "stream": "stdout",
       "text": [
        "\n",
        "Calculating new partition value: longitude 6000\n",
        "Partitioning with longitude value=122,list_length=6000"
       ]
      },
      {
       "output_type": "stream",
       "stream": "stdout",
       "text": [
        "\n",
        "Partitioning with longitude value=117,list_length=6000"
       ]
      },
      {
       "output_type": "stream",
       "stream": "stdout",
       "text": [
        "\n",
        "Partitioning with longitude value=112,list_length=6000"
       ]
      },
      {
       "output_type": "stream",
       "stream": "stdout",
       "text": [
        "\n",
        "Partitioning with longitude value=107,list_length=6000"
       ]
      },
      {
       "output_type": "stream",
       "stream": "stdout",
       "text": [
        "\n",
        "Partitioning with longitude value=102,list_length=6000"
       ]
      },
      {
       "output_type": "stream",
       "stream": "stdout",
       "text": [
        "\n",
        "Partitioning with longitude value=97,list_length=6000"
       ]
      },
      {
       "output_type": "stream",
       "stream": "stdout",
       "text": [
        "\n",
        "Partitioning with longitude value=92,list_length=6000"
       ]
      },
      {
       "output_type": "stream",
       "stream": "stdout",
       "text": [
        "\n",
        "Partitioning with longitude value=87,list_length=6000"
       ]
      },
      {
       "output_type": "stream",
       "stream": "stdout",
       "text": [
        "\n",
        "Partitioning with longitude value=82,list_length=6000"
       ]
      },
      {
       "output_type": "stream",
       "stream": "stdout",
       "text": [
        "\n",
        "Partitioning with longitude value=77,list_length=6000"
       ]
      },
      {
       "output_type": "stream",
       "stream": "stdout",
       "text": [
        "\n",
        "Partitioning with longitude value=72,list_length=6000"
       ]
      },
      {
       "output_type": "stream",
       "stream": "stdout",
       "text": [
        "\n",
        "Partitioning with longitude value=67,list_length=6000"
       ]
      },
      {
       "output_type": "stream",
       "stream": "stdout",
       "text": [
        "\n",
        "Partitioning with longitude value=62,list_length=6000"
       ]
      },
      {
       "output_type": "stream",
       "stream": "stdout",
       "text": [
        "\n",
        "Partitioning with longitude value=57,list_length=6000"
       ]
      },
      {
       "output_type": "stream",
       "stream": "stdout",
       "text": [
        "\n",
        "Recording a successful partition for longitude:57"
       ]
      },
      {
       "output_type": "stream",
       "stream": "stdout",
       "text": [
        "\n",
        "Calculating new partition value: latitude 1611\n",
        "Partitioning with latitude value=15,list_length=1611"
       ]
      },
      {
       "output_type": "stream",
       "stream": "stdout",
       "text": [
        "\n",
        "Calculating new partition value: latitude 4389\n",
        "Partitioning with latitude value=15,list_length=4389"
       ]
      },
      {
       "output_type": "stream",
       "stream": "stdout",
       "text": [
        "\n",
        "Partitioning with latitude value=20,list_length=4389"
       ]
      },
      {
       "output_type": "stream",
       "stream": "stdout",
       "text": [
        "\n",
        "Partitioning with latitude value=25,list_length=4389"
       ]
      },
      {
       "output_type": "stream",
       "stream": "stdout",
       "text": [
        "\n",
        "Partitioning with latitude value=30,list_length=4389"
       ]
      },
      {
       "output_type": "stream",
       "stream": "stdout",
       "text": [
        "\n",
        "Partitioning with latitude value=35,list_length=4389"
       ]
      },
      {
       "output_type": "stream",
       "stream": "stdout",
       "text": [
        "\n",
        "Partitioning with latitude value=30,list_length=4389"
       ]
      },
      {
       "output_type": "stream",
       "stream": "stdout",
       "text": [
        "\n",
        "STUCK IN LOOP.TRYING TO EXIT."
       ]
      },
      {
       "output_type": "stream",
       "stream": "stdout",
       "text": [
        "\n",
        "Partitioning with latitude value=30.25,list_length=4389\n",
        "Partitioning with latitude value=30.5,list_length=4389"
       ]
      },
      {
       "output_type": "stream",
       "stream": "stdout",
       "text": [
        "\n",
        "Partitioning with latitude value=30.75,list_length=4389"
       ]
      },
      {
       "output_type": "stream",
       "stream": "stdout",
       "text": [
        "\n",
        "Partitioning with latitude value=31.0,list_length=4389"
       ]
      },
      {
       "output_type": "stream",
       "stream": "stdout",
       "text": [
        "\n",
        "Partitioning with latitude value=31.25,list_length=4389"
       ]
      },
      {
       "output_type": "stream",
       "stream": "stdout",
       "text": [
        "\n",
        "Partitioning with latitude value=31.5,list_length=4389"
       ]
      },
      {
       "output_type": "stream",
       "stream": "stdout",
       "text": [
        "\n",
        "Partitioning with latitude value=31.75,list_length=4389"
       ]
      },
      {
       "output_type": "stream",
       "stream": "stdout",
       "text": [
        "\n",
        "Partitioning with latitude value=32.0,list_length=4389"
       ]
      },
      {
       "output_type": "stream",
       "stream": "stdout",
       "text": [
        "\n",
        "Recording a successful partition for latitude:32.0"
       ]
      },
      {
       "output_type": "stream",
       "stream": "stdout",
       "text": [
        "\n",
        "Calculating new partition value: longitude 3873\n",
        "Partitioning with longitude value=56,list_length=3873"
       ]
      },
      {
       "output_type": "stream",
       "stream": "stdout",
       "text": [
        "\n",
        "Partitioning with longitude value=61,list_length=3873"
       ]
      },
      {
       "output_type": "stream",
       "stream": "stdout",
       "text": [
        "\n",
        "Partitioning with longitude value=66,list_length=3873"
       ]
      },
      {
       "output_type": "stream",
       "stream": "stdout",
       "text": [
        "\n",
        "Partitioning with longitude value=71,list_length=3873"
       ]
      },
      {
       "output_type": "stream",
       "stream": "stdout",
       "text": [
        "\n",
        "Partitioning with longitude value=76,list_length=3873"
       ]
      },
      {
       "output_type": "stream",
       "stream": "stdout",
       "text": [
        "\n",
        "Partitioning with longitude value=81,list_length=3873"
       ]
      },
      {
       "output_type": "stream",
       "stream": "stdout",
       "text": [
        "\n",
        "Partitioning with longitude value=86,list_length=3873"
       ]
      },
      {
       "output_type": "stream",
       "stream": "stdout",
       "text": [
        "\n",
        "Partitioning with longitude value=91,list_length=3873"
       ]
      },
      {
       "output_type": "stream",
       "stream": "stdout",
       "text": [
        "\n",
        "Partitioning with longitude value=96,list_length=3873"
       ]
      },
      {
       "output_type": "stream",
       "stream": "stdout",
       "text": [
        "\n",
        "Partitioning with longitude value=101,list_length=3873"
       ]
      },
      {
       "output_type": "stream",
       "stream": "stdout",
       "text": [
        "\n",
        "Partitioning with longitude value=106,list_length=3873"
       ]
      },
      {
       "output_type": "stream",
       "stream": "stdout",
       "text": [
        "\n",
        "Partitioning with longitude value=101,list_length=3873"
       ]
      },
      {
       "output_type": "stream",
       "stream": "stdout",
       "text": [
        "\n",
        "STUCK IN LOOP.TRYING TO EXIT."
       ]
      },
      {
       "output_type": "stream",
       "stream": "stdout",
       "text": [
        "\n",
        "Partitioning with longitude value=101.25,list_length=3873\n",
        "Partitioning with longitude value=101.5,list_length=3873"
       ]
      },
      {
       "output_type": "stream",
       "stream": "stdout",
       "text": [
        "\n",
        "Partitioning with longitude value=101.75,list_length=3873"
       ]
      },
      {
       "output_type": "stream",
       "stream": "stdout",
       "text": [
        "\n",
        "Partitioning with longitude value=102.0,list_length=3873"
       ]
      },
      {
       "output_type": "stream",
       "stream": "stdout",
       "text": [
        "\n",
        "Partitioning with longitude value=102.25,list_length=3873"
       ]
      },
      {
       "output_type": "stream",
       "stream": "stdout",
       "text": [
        "\n",
        "Recording a successful partition for longitude:102.25"
       ]
      },
      {
       "output_type": "stream",
       "stream": "stdout",
       "text": [
        "\n",
        "Calculating new partition value: latitude 3661\n",
        "Partitioning with latitude value=10,list_length=3661"
       ]
      },
      {
       "output_type": "stream",
       "stream": "stdout",
       "text": [
        "\n",
        "Partitioning with latitude value=15,list_length=3661"
       ]
      },
      {
       "output_type": "stream",
       "stream": "stdout",
       "text": [
        "\n",
        "Partitioning with latitude value=20,list_length=3661"
       ]
      },
      {
       "output_type": "stream",
       "stream": "stdout",
       "text": [
        "\n",
        "Recording a successful partition for latitude:20"
       ]
      },
      {
       "output_type": "stream",
       "stream": "stdout",
       "text": [
        "\n",
        "Calculating new partition value: longitude 1398\n",
        "Partitioning with longitude value=15,list_length=1398"
       ]
      },
      {
       "output_type": "stream",
       "stream": "stdout",
       "text": [
        "\n",
        "Calculating new partition value: longitude 2263\n",
        "Partitioning with longitude value=22,list_length=2263"
       ]
      },
      {
       "output_type": "stream",
       "stream": "stdout",
       "text": [
        "\n",
        "Calculating new partition value: latitude 212\n",
        "Partitioning with latitude value=10,list_length=212\n",
        "Calculating new partition value: longitude 516\n",
        "Partitioning with longitude value=42,list_length=516"
       ]
      },
      {
       "output_type": "stream",
       "stream": "stdout",
       "text": [
        "\n",
        "Calculating new partition value: longitude 11363\n",
        "Partitioning with longitude value=134,list_length=11363"
       ]
      },
      {
       "output_type": "stream",
       "stream": "stdout",
       "text": [
        "\n",
        "Partitioning with longitude value=129,list_length=11363"
       ]
      },
      {
       "output_type": "stream",
       "stream": "stdout",
       "text": [
        "\n",
        "Partitioning with longitude value=124,list_length=11363"
       ]
      },
      {
       "output_type": "stream",
       "stream": "stdout",
       "text": [
        "\n",
        "Partitioning with longitude value=119,list_length=11363"
       ]
      },
      {
       "output_type": "stream",
       "stream": "stdout",
       "text": [
        "\n",
        "Partitioning with longitude value=114,list_length=11363"
       ]
      },
      {
       "output_type": "stream",
       "stream": "stdout",
       "text": [
        "\n",
        "Partitioning with longitude value=109,list_length=11363"
       ]
      },
      {
       "output_type": "stream",
       "stream": "stdout",
       "text": [
        "\n",
        "Partitioning with longitude value=104,list_length=11363"
       ]
      },
      {
       "output_type": "stream",
       "stream": "stdout",
       "text": [
        "\n",
        "Partitioning with longitude value=99,list_length=11363"
       ]
      },
      {
       "output_type": "stream",
       "stream": "stdout",
       "text": [
        "\n",
        "Partitioning with longitude value=94,list_length=11363"
       ]
      },
      {
       "output_type": "stream",
       "stream": "stdout",
       "text": [
        "\n",
        "Partitioning with longitude value=89,list_length=11363"
       ]
      },
      {
       "output_type": "stream",
       "stream": "stdout",
       "text": [
        "\n",
        "Partitioning with longitude value=84,list_length=11363"
       ]
      },
      {
       "output_type": "stream",
       "stream": "stdout",
       "text": [
        "\n",
        "Partitioning with longitude value=79,list_length=11363"
       ]
      },
      {
       "output_type": "stream",
       "stream": "stdout",
       "text": [
        "\n",
        "Partitioning with longitude value=74,list_length=11363"
       ]
      },
      {
       "output_type": "stream",
       "stream": "stdout",
       "text": [
        "\n",
        "Partitioning with longitude value=69,list_length=11363"
       ]
      },
      {
       "output_type": "stream",
       "stream": "stdout",
       "text": [
        "\n",
        "Partitioning with longitude value=64,list_length=11363"
       ]
      },
      {
       "output_type": "stream",
       "stream": "stdout",
       "text": [
        "\n",
        "Partitioning with longitude value=59,list_length=11363"
       ]
      },
      {
       "output_type": "stream",
       "stream": "stdout",
       "text": [
        "\n",
        "Partitioning with longitude value=54,list_length=11363"
       ]
      },
      {
       "output_type": "stream",
       "stream": "stdout",
       "text": [
        "\n",
        "Partitioning with longitude value=49,list_length=11363"
       ]
      },
      {
       "output_type": "stream",
       "stream": "stdout",
       "text": [
        "\n",
        "Partitioning with longitude value=44,list_length=11363"
       ]
      },
      {
       "output_type": "stream",
       "stream": "stdout",
       "text": [
        "\n",
        "Partitioning with longitude value=39,list_length=11363"
       ]
      },
      {
       "output_type": "stream",
       "stream": "stdout",
       "text": [
        "\n",
        "Partitioning with longitude value=34,list_length=11363"
       ]
      },
      {
       "output_type": "stream",
       "stream": "stdout",
       "text": [
        "\n",
        "Partitioning with longitude value=29,list_length=11363"
       ]
      },
      {
       "output_type": "stream",
       "stream": "stdout",
       "text": [
        "\n",
        "Partitioning with longitude value=24,list_length=11363"
       ]
      },
      {
       "output_type": "stream",
       "stream": "stdout",
       "text": [
        "\n",
        "Partitioning with longitude value=19,list_length=11363"
       ]
      },
      {
       "output_type": "stream",
       "stream": "stdout",
       "text": [
        "\n",
        "Partitioning with longitude value=14,list_length=11363"
       ]
      },
      {
       "output_type": "stream",
       "stream": "stdout",
       "text": [
        "\n",
        "Partitioning with longitude value=9,list_length=11363"
       ]
      },
      {
       "output_type": "stream",
       "stream": "stdout",
       "text": [
        "\n",
        "Partitioning with longitude value=4,list_length=11363"
       ]
      },
      {
       "output_type": "stream",
       "stream": "stdout",
       "text": [
        "\n",
        "Partitioning with longitude value=-1,list_length=11363"
       ]
      },
      {
       "output_type": "stream",
       "stream": "stdout",
       "text": [
        "\n",
        "Partitioning with longitude value=-6,list_length=11363"
       ]
      },
      {
       "output_type": "stream",
       "stream": "stdout",
       "text": [
        "\n",
        "Partitioning with longitude value=-11,list_length=11363"
       ]
      },
      {
       "output_type": "stream",
       "stream": "stdout",
       "text": [
        "\n",
        "Partitioning with longitude value=-16,list_length=11363"
       ]
      },
      {
       "output_type": "stream",
       "stream": "stdout",
       "text": [
        "\n",
        "Partitioning with longitude value=-21,list_length=11363"
       ]
      },
      {
       "output_type": "stream",
       "stream": "stdout",
       "text": [
        "\n",
        "Partitioning with longitude value=-26,list_length=11363"
       ]
      },
      {
       "output_type": "stream",
       "stream": "stdout",
       "text": [
        "\n",
        "Partitioning with longitude value=-31,list_length=11363"
       ]
      },
      {
       "output_type": "stream",
       "stream": "stdout",
       "text": [
        "\n",
        "Partitioning with longitude value=-36,list_length=11363"
       ]
      },
      {
       "output_type": "stream",
       "stream": "stdout",
       "text": [
        "\n",
        "Partitioning with longitude value=-41,list_length=11363"
       ]
      },
      {
       "output_type": "stream",
       "stream": "stdout",
       "text": [
        "\n",
        "Partitioning with longitude value=-46,list_length=11363"
       ]
      },
      {
       "output_type": "stream",
       "stream": "stdout",
       "text": [
        "\n",
        "Partitioning with longitude value=-51,list_length=11363"
       ]
      },
      {
       "output_type": "stream",
       "stream": "stdout",
       "text": [
        "\n",
        "Partitioning with longitude value=-56,list_length=11363"
       ]
      },
      {
       "output_type": "stream",
       "stream": "stdout",
       "text": [
        "\n",
        "Partitioning with longitude value=-61,list_length=11363"
       ]
      },
      {
       "output_type": "stream",
       "stream": "stdout",
       "text": [
        "\n",
        "Recording a successful partition for longitude:-61"
       ]
      },
      {
       "output_type": "stream",
       "stream": "stdout",
       "text": [
        "\n",
        "Calculating new partition value: latitude 7776\n",
        "Partitioning with latitude value=20,list_length=7776"
       ]
      },
      {
       "output_type": "stream",
       "stream": "stdout",
       "text": [
        "\n",
        "Partitioning with latitude value=25,list_length=7776"
       ]
      },
      {
       "output_type": "stream",
       "stream": "stdout",
       "text": [
        "\n",
        "Partitioning with latitude value=30,list_length=7776"
       ]
      },
      {
       "output_type": "stream",
       "stream": "stdout",
       "text": [
        "\n",
        "Partitioning with latitude value=35,list_length=7776"
       ]
      },
      {
       "output_type": "stream",
       "stream": "stdout",
       "text": [
        "\n",
        "Partitioning with latitude value=40,list_length=7776"
       ]
      },
      {
       "output_type": "stream",
       "stream": "stdout",
       "text": [
        "\n",
        "Partitioning with latitude value=45,list_length=7776"
       ]
      },
      {
       "output_type": "stream",
       "stream": "stdout",
       "text": [
        "\n",
        "Partitioning with latitude value=40,list_length=7776"
       ]
      },
      {
       "output_type": "stream",
       "stream": "stdout",
       "text": [
        "\n",
        "STUCK IN LOOP.TRYING TO EXIT."
       ]
      },
      {
       "output_type": "stream",
       "stream": "stdout",
       "text": [
        "\n",
        "Partitioning with latitude value=40.25,list_length=7776\n",
        "Partitioning with latitude value=40.5,list_length=7776"
       ]
      },
      {
       "output_type": "stream",
       "stream": "stdout",
       "text": [
        "\n",
        "Partitioning with latitude value=40.75,list_length=7776"
       ]
      },
      {
       "output_type": "stream",
       "stream": "stdout",
       "text": [
        "\n",
        "Partitioning with latitude value=41.0,list_length=7776"
       ]
      },
      {
       "output_type": "stream",
       "stream": "stdout",
       "text": [
        "\n",
        "Partitioning with latitude value=41.25,list_length=7776"
       ]
      },
      {
       "output_type": "stream",
       "stream": "stdout",
       "text": [
        "\n",
        "Partitioning with latitude value=41.5,list_length=7776"
       ]
      },
      {
       "output_type": "stream",
       "stream": "stdout",
       "text": [
        "\n",
        "Partitioning with latitude value=41.75,list_length=7776"
       ]
      },
      {
       "output_type": "stream",
       "stream": "stdout",
       "text": [
        "\n",
        "Partitioning with latitude value=42.0,list_length=7776"
       ]
      },
      {
       "output_type": "stream",
       "stream": "stdout",
       "text": [
        "\n",
        "Partitioning with latitude value=42.25,list_length=7776"
       ]
      },
      {
       "output_type": "stream",
       "stream": "stdout",
       "text": [
        "\n",
        "Partitioning with latitude value=42.5,list_length=7776"
       ]
      },
      {
       "output_type": "stream",
       "stream": "stdout",
       "text": [
        "\n",
        "Partitioning with latitude value=42.75,list_length=7776"
       ]
      },
      {
       "output_type": "stream",
       "stream": "stdout",
       "text": [
        "\n",
        "Partitioning with latitude value=43.0,list_length=7776"
       ]
      },
      {
       "output_type": "stream",
       "stream": "stdout",
       "text": [
        "\n",
        "Partitioning with latitude value=43.25,list_length=7776"
       ]
      },
      {
       "output_type": "stream",
       "stream": "stdout",
       "text": [
        "\n",
        "Partitioning with latitude value=43.5,list_length=7776"
       ]
      },
      {
       "output_type": "stream",
       "stream": "stdout",
       "text": [
        "\n",
        "Partitioning with latitude value=43.75,list_length=7776"
       ]
      },
      {
       "output_type": "stream",
       "stream": "stdout",
       "text": [
        "\n",
        "Partitioning with latitude value=44.0,list_length=7776"
       ]
      },
      {
       "output_type": "stream",
       "stream": "stdout",
       "text": [
        "\n",
        "Recording a successful partition for latitude:44.0"
       ]
      },
      {
       "output_type": "stream",
       "stream": "stdout",
       "text": [
        "\n",
        "Calculating new partition value: longitude 5080\n",
        "Partitioning with longitude value=12,list_length=5080"
       ]
      },
      {
       "output_type": "stream",
       "stream": "stdout",
       "text": [
        "\n",
        "Partitioning with longitude value=7,list_length=5080"
       ]
      },
      {
       "output_type": "stream",
       "stream": "stdout",
       "text": [
        "\n",
        "Partitioning with longitude value=2,list_length=5080"
       ]
      },
      {
       "output_type": "stream",
       "stream": "stdout",
       "text": [
        "\n",
        "Partitioning with longitude value=-3,list_length=5080"
       ]
      },
      {
       "output_type": "stream",
       "stream": "stdout",
       "text": [
        "\n",
        "Partitioning with longitude value=-8,list_length=5080"
       ]
      },
      {
       "output_type": "stream",
       "stream": "stdout",
       "text": [
        "\n",
        "Partitioning with longitude value=-13,list_length=5080"
       ]
      },
      {
       "output_type": "stream",
       "stream": "stdout",
       "text": [
        "\n",
        "Partitioning with longitude value=-18,list_length=5080"
       ]
      },
      {
       "output_type": "stream",
       "stream": "stdout",
       "text": [
        "\n",
        "Partitioning with longitude value=-23,list_length=5080"
       ]
      },
      {
       "output_type": "stream",
       "stream": "stdout",
       "text": [
        "\n",
        "Partitioning with longitude value=-28,list_length=5080"
       ]
      },
      {
       "output_type": "stream",
       "stream": "stdout",
       "text": [
        "\n",
        "Partitioning with longitude value=-33,list_length=5080"
       ]
      },
      {
       "output_type": "stream",
       "stream": "stdout",
       "text": [
        "\n",
        "Partitioning with longitude value=-38,list_length=5080"
       ]
      },
      {
       "output_type": "stream",
       "stream": "stdout",
       "text": [
        "\n",
        "Partitioning with longitude value=-43,list_length=5080"
       ]
      },
      {
       "output_type": "stream",
       "stream": "stdout",
       "text": [
        "\n",
        "Partitioning with longitude value=-48,list_length=5080"
       ]
      },
      {
       "output_type": "stream",
       "stream": "stdout",
       "text": [
        "\n",
        "Partitioning with longitude value=-53,list_length=5080"
       ]
      },
      {
       "output_type": "stream",
       "stream": "stdout",
       "text": [
        "\n",
        "Partitioning with longitude value=-58,list_length=5080"
       ]
      },
      {
       "output_type": "stream",
       "stream": "stdout",
       "text": [
        "\n",
        "Partitioning with longitude value=-63,list_length=5080"
       ]
      },
      {
       "output_type": "stream",
       "stream": "stdout",
       "text": [
        "\n",
        "Partitioning with longitude value=-68,list_length=5080"
       ]
      },
      {
       "output_type": "stream",
       "stream": "stdout",
       "text": [
        "\n",
        "Partitioning with longitude value=-73,list_length=5080"
       ]
      },
      {
       "output_type": "stream",
       "stream": "stdout",
       "text": [
        "\n",
        "Partitioning with longitude value=-78,list_length=5080"
       ]
      },
      {
       "output_type": "stream",
       "stream": "stdout",
       "text": [
        "\n",
        "Partitioning with longitude value=-83,list_length=5080"
       ]
      },
      {
       "output_type": "stream",
       "stream": "stdout",
       "text": [
        "\n",
        "Partitioning with longitude value=-78,list_length=5080"
       ]
      },
      {
       "output_type": "stream",
       "stream": "stdout",
       "text": [
        "\n",
        "STUCK IN LOOP.TRYING TO EXIT."
       ]
      },
      {
       "output_type": "stream",
       "stream": "stdout",
       "text": [
        "\n",
        "Partitioning with longitude value=-78.25,list_length=5080\n",
        "Recording a successful partition for longitude:-78.25"
       ]
      },
      {
       "output_type": "stream",
       "stream": "stdout",
       "text": [
        "\n",
        "Calculating new partition value: latitude 2789\n",
        "Partitioning with latitude value=1,list_length=2789"
       ]
      },
      {
       "output_type": "stream",
       "stream": "stdout",
       "text": [
        "\n",
        "Partitioning with latitude value=6,list_length=2789"
       ]
      },
      {
       "output_type": "stream",
       "stream": "stdout",
       "text": [
        "\n",
        "Partitioning with latitude value=11,list_length=2789"
       ]
      },
      {
       "output_type": "stream",
       "stream": "stdout",
       "text": [
        "\n",
        "Partitioning with latitude value=16,list_length=2789"
       ]
      },
      {
       "output_type": "stream",
       "stream": "stdout",
       "text": [
        "\n",
        "Partitioning with latitude value=21,list_length=2789"
       ]
      },
      {
       "output_type": "stream",
       "stream": "stdout",
       "text": [
        "\n",
        "Partitioning with latitude value=26,list_length=2789"
       ]
      },
      {
       "output_type": "stream",
       "stream": "stdout",
       "text": [
        "\n",
        "Partitioning with latitude value=31,list_length=2789"
       ]
      },
      {
       "output_type": "stream",
       "stream": "stdout",
       "text": [
        "\n",
        "Partitioning with latitude value=36,list_length=2789"
       ]
      },
      {
       "output_type": "stream",
       "stream": "stdout",
       "text": [
        "\n",
        "Partitioning with latitude value=41,list_length=2789"
       ]
      },
      {
       "output_type": "stream",
       "stream": "stdout",
       "text": [
        "\n",
        "Partitioning with latitude value=46,list_length=2789"
       ]
      },
      {
       "output_type": "stream",
       "stream": "stdout",
       "text": [
        "\n",
        "Partitioning with latitude value=41,list_length=2789"
       ]
      },
      {
       "output_type": "stream",
       "stream": "stdout",
       "text": [
        "\n",
        "STUCK IN LOOP.TRYING TO EXIT."
       ]
      },
      {
       "output_type": "stream",
       "stream": "stdout",
       "text": [
        "\n",
        "Partitioning with latitude value=41.25,list_length=2789\n",
        "Partitioning with latitude value=41.5,list_length=2789"
       ]
      },
      {
       "output_type": "stream",
       "stream": "stdout",
       "text": [
        "\n",
        "Partitioning with latitude value=41.75,list_length=2789"
       ]
      },
      {
       "output_type": "stream",
       "stream": "stdout",
       "text": [
        "\n",
        "Partitioning with latitude value=42.0,list_length=2789"
       ]
      },
      {
       "output_type": "stream",
       "stream": "stdout",
       "text": [
        "\n",
        "Partitioning with latitude value=42.25,list_length=2789"
       ]
      },
      {
       "output_type": "stream",
       "stream": "stdout",
       "text": [
        "\n",
        "Partitioning with latitude value=42.5,list_length=2789"
       ]
      },
      {
       "output_type": "stream",
       "stream": "stdout",
       "text": [
        "\n",
        "Recording a successful partition for latitude:42.5"
       ]
      },
      {
       "output_type": "stream",
       "stream": "stdout",
       "text": [
        "\n",
        "Calculating new partition value: longitude 1738\n",
        "Partitioning with longitude value=5,list_length=1738"
       ]
      },
      {
       "output_type": "stream",
       "stream": "stdout",
       "text": [
        "\n",
        "Calculating new partition value: longitude 1051\n",
        "Partitioning with longitude value=5,list_length=1051"
       ]
      },
      {
       "output_type": "stream",
       "stream": "stdout",
       "text": [
        "\n",
        "Calculating new partition value: latitude 2291\n",
        "Partitioning with latitude value=1,list_length=2291"
       ]
      },
      {
       "output_type": "stream",
       "stream": "stdout",
       "text": [
        "\n",
        "Calculating new partition value: longitude 2696\n",
        "Partitioning with longitude value=14,list_length=2696"
       ]
      },
      {
       "output_type": "stream",
       "stream": "stdout",
       "text": [
        "\n",
        "Partitioning with longitude value=9,list_length=2696"
       ]
      },
      {
       "output_type": "stream",
       "stream": "stdout",
       "text": [
        "\n",
        "Partitioning with longitude value=4,list_length=2696"
       ]
      },
      {
       "output_type": "stream",
       "stream": "stdout",
       "text": [
        "\n",
        "Partitioning with longitude value=-1,list_length=2696"
       ]
      },
      {
       "output_type": "stream",
       "stream": "stdout",
       "text": [
        "\n",
        "Partitioning with longitude value=-6,list_length=2696"
       ]
      },
      {
       "output_type": "stream",
       "stream": "stdout",
       "text": [
        "\n",
        "Partitioning with longitude value=-11,list_length=2696"
       ]
      },
      {
       "output_type": "stream",
       "stream": "stdout",
       "text": [
        "\n",
        "Partitioning with longitude value=-16,list_length=2696"
       ]
      },
      {
       "output_type": "stream",
       "stream": "stdout",
       "text": [
        "\n",
        "Partitioning with longitude value=-21,list_length=2696"
       ]
      },
      {
       "output_type": "stream",
       "stream": "stdout",
       "text": [
        "\n",
        "Partitioning with longitude value=-26,list_length=2696"
       ]
      },
      {
       "output_type": "stream",
       "stream": "stdout",
       "text": [
        "\n",
        "Partitioning with longitude value=-31,list_length=2696"
       ]
      },
      {
       "output_type": "stream",
       "stream": "stdout",
       "text": [
        "\n",
        "Partitioning with longitude value=-36,list_length=2696"
       ]
      },
      {
       "output_type": "stream",
       "stream": "stdout",
       "text": [
        "\n",
        "Partitioning with longitude value=-41,list_length=2696"
       ]
      },
      {
       "output_type": "stream",
       "stream": "stdout",
       "text": [
        "\n",
        "Partitioning with longitude value=-46,list_length=2696"
       ]
      },
      {
       "output_type": "stream",
       "stream": "stdout",
       "text": [
        "\n",
        "Partitioning with longitude value=-51,list_length=2696"
       ]
      },
      {
       "output_type": "stream",
       "stream": "stdout",
       "text": [
        "\n",
        "Partitioning with longitude value=-56,list_length=2696"
       ]
      },
      {
       "output_type": "stream",
       "stream": "stdout",
       "text": [
        "\n",
        "Partitioning with longitude value=-61,list_length=2696"
       ]
      },
      {
       "output_type": "stream",
       "stream": "stdout",
       "text": [
        "\n",
        "Partitioning with longitude value=-66,list_length=2696"
       ]
      },
      {
       "output_type": "stream",
       "stream": "stdout",
       "text": [
        "\n",
        "Partitioning with longitude value=-71,list_length=2696"
       ]
      },
      {
       "output_type": "stream",
       "stream": "stdout",
       "text": [
        "\n",
        "Partitioning with longitude value=-76,list_length=2696"
       ]
      },
      {
       "output_type": "stream",
       "stream": "stdout",
       "text": [
        "\n",
        "Partitioning with longitude value=-71,list_length=2696"
       ]
      },
      {
       "output_type": "stream",
       "stream": "stdout",
       "text": [
        "\n",
        "STUCK IN LOOP.TRYING TO EXIT."
       ]
      },
      {
       "output_type": "stream",
       "stream": "stdout",
       "text": [
        "\n",
        "Partitioning with longitude value=-71.25,list_length=2696\n",
        "Partitioning with longitude value=-71.5,list_length=2696"
       ]
      },
      {
       "output_type": "stream",
       "stream": "stdout",
       "text": [
        "\n",
        "Partitioning with longitude value=-71.75,list_length=2696"
       ]
      },
      {
       "output_type": "stream",
       "stream": "stdout",
       "text": [
        "\n",
        "Partitioning with longitude value=-72.0,list_length=2696"
       ]
      },
      {
       "output_type": "stream",
       "stream": "stdout",
       "text": [
        "\n",
        "Partitioning with longitude value=-72.25,list_length=2696"
       ]
      },
      {
       "output_type": "stream",
       "stream": "stdout",
       "text": [
        "\n",
        "Partitioning with longitude value=-72.5,list_length=2696"
       ]
      },
      {
       "output_type": "stream",
       "stream": "stdout",
       "text": [
        "\n",
        "Partitioning with longitude value=-72.75,list_length=2696"
       ]
      },
      {
       "output_type": "stream",
       "stream": "stdout",
       "text": [
        "\n",
        "Partitioning with longitude value=-73.0,list_length=2696"
       ]
      },
      {
       "output_type": "stream",
       "stream": "stdout",
       "text": [
        "\n",
        "Recording a successful partition for longitude:-73.0"
       ]
      },
      {
       "output_type": "stream",
       "stream": "stdout",
       "text": [
        "\n",
        "Calculating new partition value: latitude 1413\n",
        "Partitioning with latitude value=17,list_length=1413"
       ]
      },
      {
       "output_type": "stream",
       "stream": "stdout",
       "text": [
        "\n",
        "Calculating new partition value: latitude 1283\n",
        "Partitioning with latitude value=19,list_length=1283"
       ]
      },
      {
       "output_type": "stream",
       "stream": "stdout",
       "text": [
        "\n",
        "Calculating new partition value: latitude 3587\n",
        "Partitioning with latitude value=20,list_length=3587"
       ]
      },
      {
       "output_type": "stream",
       "stream": "stdout",
       "text": [
        "\n",
        "Partitioning with latitude value=25,list_length=3587"
       ]
      },
      {
       "output_type": "stream",
       "stream": "stdout",
       "text": [
        "\n",
        "Partitioning with latitude value=30,list_length=3587"
       ]
      },
      {
       "output_type": "stream",
       "stream": "stdout",
       "text": [
        "\n",
        "Partitioning with latitude value=35,list_length=3587"
       ]
      },
      {
       "output_type": "stream",
       "stream": "stdout",
       "text": [
        "\n",
        "Partitioning with latitude value=40,list_length=3587"
       ]
      },
      {
       "output_type": "stream",
       "stream": "stdout",
       "text": [
        "\n",
        "Partitioning with latitude value=45,list_length=3587"
       ]
      },
      {
       "output_type": "stream",
       "stream": "stdout",
       "text": [
        "\n",
        "Partitioning with latitude value=50,list_length=3587"
       ]
      },
      {
       "output_type": "stream",
       "stream": "stdout",
       "text": [
        "\n",
        "Partitioning with latitude value=55,list_length=3587"
       ]
      },
      {
       "output_type": "stream",
       "stream": "stdout",
       "text": [
        "\n",
        "Partitioning with latitude value=50,list_length=3587"
       ]
      },
      {
       "output_type": "stream",
       "stream": "stdout",
       "text": [
        "\n",
        "STUCK IN LOOP.TRYING TO EXIT."
       ]
      },
      {
       "output_type": "stream",
       "stream": "stdout",
       "text": [
        "\n",
        "Partitioning with latitude value=50.25,list_length=3587\n",
        "Partitioning with latitude value=50.5,list_length=3587"
       ]
      },
      {
       "output_type": "stream",
       "stream": "stdout",
       "text": [
        "\n",
        "Partitioning with latitude value=50.75,list_length=3587"
       ]
      },
      {
       "output_type": "stream",
       "stream": "stdout",
       "text": [
        "\n",
        "Partitioning with latitude value=51.0,list_length=3587"
       ]
      },
      {
       "output_type": "stream",
       "stream": "stdout",
       "text": [
        "\n",
        "Partitioning with latitude value=51.25,list_length=3587"
       ]
      },
      {
       "output_type": "stream",
       "stream": "stdout",
       "text": [
        "\n",
        "Partitioning with latitude value=51.5,list_length=3587"
       ]
      },
      {
       "output_type": "stream",
       "stream": "stdout",
       "text": [
        "\n",
        "Recording a successful partition for latitude:51.5"
       ]
      },
      {
       "output_type": "stream",
       "stream": "stdout",
       "text": [
        "\n",
        "Calculating new partition value: longitude 1635\n",
        "Partitioning with longitude value=119,list_length=1635"
       ]
      },
      {
       "output_type": "stream",
       "stream": "stdout",
       "text": [
        "\n",
        "Calculating new partition value: longitude 1952\n",
        "Partitioning with longitude value=119,list_length=1952"
       ]
      },
      {
       "output_type": "stream",
       "stream": "stdout",
       "text": [
        "\n",
        "{0: ('longitude', -90), 1: ('latitude', 42.5), 2: ('longitude', -106), 3: ('latitude', 37.75), 4: ('longitude', -114), 5: ('longitude', -116), 6: ('latitude', 36), 7: ('longitude', -97.0), 8: ('latitude', 31.5), 9: ('longitude', -96.25), 10: ('latitude', 39.25), 11: ('longitude', -101), 12: ('longitude', -111.25), 13: ('latitude', 47.75), 14: ('longitude', -119), 15: ('longitude', -121.25), 16: ('latitude', 46.0), 17: ('longitude', -100), 18: ('latitude', 41), 19: ('longitude', -76.25), 20: ('latitude', 36.75), 21: ('longitude', -82.75), 22: ('latitude', 34.0), 23: ('latitude', 34.25), 24: ('longitude', -81.75), 25: ('latitude', 39.0), 26: ('latitude', 10), 27: ('longitude', 142), 28: ('latitude', -25), 29: ('longitude', 118), 30: ('latitude', -32.25), 31: ('latitude', -33.5), 32: ('longitude', 108), 33: ('latitude', -3), 34: ('longitude', 29.5), 35: ('latitude', -18.25), 36: ('longitude', 14), 37: ('longitude', 7), 38: ('latitude', -11.0), 39: ('latitude', -32.75), 40: ('longitude', 147), 41: ('latitude', -37.75), 42: ('latitude', -35.25), 43: ('longitude', 149.5), 44: ('latitude', -21.25), 45: ('latitude', -27.5), 46: ('longitude', 57), 47: ('latitude', 32.0), 48: ('longitude', 102.25), 49: ('latitude', 20), 50: ('longitude', -61), 51: ('latitude', 44.0), 52: ('longitude', -78.25), 53: ('latitude', 42.5), 54: ('longitude', -73.0), 55: ('latitude', 51.5)}\n"
       ]
      }
     ],
     "prompt_number": 16
    },
    {
     "cell_type": "code",
     "collapsed": false,
     "input": [
      "stations=station_stats.keys()[:-1]\n",
      "len(stations)\n",
      "del stations[stations.index('station')]\n",
      "len(stations)"
     ],
     "language": "python",
     "metadata": {},
     "outputs": [
      {
       "metadata": {},
       "output_type": "pyout",
       "prompt_number": 60,
       "text": [
        "85282"
       ]
      }
     ],
     "prompt_number": 60
    },
    {
     "cell_type": "code",
     "collapsed": false,
     "input": [
      "print partition_record"
     ],
     "language": "python",
     "metadata": {},
     "outputs": []
    },
    {
     "cell_type": "code",
     "collapsed": false,
     "input": [
      "get_station_info('US1COBO0185')"
     ],
     "language": "python",
     "metadata": {},
     "outputs": [
      {
       "metadata": {},
       "output_type": "pyout",
       "prompt_number": 87,
       "text": [
        "latitude               39.9643\n",
        "longitude            -105.5118\n",
        "elevation               2542.9\n",
        "state                        O\n",
        "name         NEDERLAND 0.2 NNW\n",
        "GSNFLAG                    NaN\n",
        "HCNFLAG                    NaN\n",
        "WMOID                      NaN\n",
        "Name: US1COBO0185, dtype: object"
       ]
      }
     ],
     "prompt_number": 87
    },
    {
     "cell_type": "code",
     "collapsed": false,
     "input": [
      "#all_stations=station_stats.keys()"
     ],
     "language": "python",
     "metadata": {},
     "outputs": [
      {
       "metadata": {},
       "output_type": "pyout",
       "prompt_number": 93,
       "text": [
        "'ACW00011604'"
       ]
      }
     ],
     "prompt_number": 93
    },
    {
     "cell_type": "code",
     "collapsed": false,
     "input": [
      "list(set(station_info.index).intersection(set(total_measurements.keys())))"
     ],
     "language": "python",
     "metadata": {},
     "outputs": [
      {
       "metadata": {},
       "output_type": "pyout",
       "prompt_number": 101,
       "text": [
        "['CA004035200',\n",
        " 'USS0006H19S',\n",
        " 'USC00390043',\n",
        " 'UY000001086',\n",
        " 'ASN00041473',\n",
        " 'UY000001084',\n",
        " 'UY000001082',\n",
        " 'CA006074630',\n",
        " 'IN003080601',\n",
        " 'BR00D5-0350',\n",
        " 'BR00C7-0830',\n",
        " 'WA004162280',\n",
        " 'ASN00009731',\n",
        " 'TZ000063791',\n",
        " 'USC00137410',\n",
        " 'USC00163804',\n",
        " 'RSM00027817',\n",
        " 'USC00043392',\n",
        " 'IN004171300',\n",
        " 'US1KSFI0013',\n",
        " 'USC00043397',\n",
        " 'CA004012400',\n",
        " 'US1AZPN0045',\n",
        " 'US1SDDY0004',\n",
        " 'US1SDDY0005',\n",
        " 'ASN00009567',\n",
        " 'RSM00027097',\n",
        " 'US1COLR0323',\n",
        " 'US1ALSC0009',\n",
        " 'US1ALSC0008',\n",
        " 'US1COLR0326',\n",
        " 'US1COLR0325',\n",
        " 'US1COLR0324',\n",
        " 'US1ALSC0003',\n",
        " 'US1ALSC0002',\n",
        " 'US1ALSC0001',\n",
        " 'USC00235207',\n",
        " 'US1ALSC0006',\n",
        " 'US1ALSC0005',\n",
        " 'US1ALSC0004',\n",
        " 'USC00418845',\n",
        " 'AR000087129',\n",
        " 'GG000037198',\n",
        " 'USC00401525',\n",
        " 'GG000037197',\n",
        " 'USC00023501',\n",
        " 'US1MDPG0037',\n",
        " 'USC00040510',\n",
        " 'US1MDPG0035',\n",
        " 'US1MDPG0034',\n",
        " 'USC00412630',\n",
        " 'USC00485055',\n",
        " 'US1MDPG0031',\n",
        " 'USC00514096',\n",
        " 'SF001483520',\n",
        " 'IN024121600',\n",
        " 'ASN00015600',\n",
        " 'US1MDPG0039',\n",
        " 'US1MDPG0038',\n",
        " 'NLE00109068',\n",
        " 'IN004121500',\n",
        " 'IN003080600',\n",
        " 'NLE00109062',\n",
        " 'KZ000035145',\n",
        " 'ASN00091235',\n",
        " 'NLE00109066',\n",
        " 'NLE00109064',\n",
        " 'USC00398277',\n",
        " 'BR00C4-0950',\n",
        " 'USC00452126',\n",
        " 'IN012231100',\n",
        " 'CA006079415',\n",
        " 'USR0000TCED',\n",
        " 'USR0000TLGR',\n",
        " 'BR002245000',\n",
        " 'GLE00100992',\n",
        " 'IN011171700',\n",
        " 'ASN00009560',\n",
        " 'USC00441999',\n",
        " 'USC00485581',\n",
        " 'PSC00914030',\n",
        " 'USS0009D06S',\n",
        " 'US1WAST0010',\n",
        " 'US1WAST0011',\n",
        " 'SF003677680',\n",
        " 'USC00346756',\n",
        " 'USC00519340',\n",
        " 'USC00346751',\n",
        " 'ASN00089028',\n",
        " 'ASN00089029',\n",
        " 'BR00E6-0040',\n",
        " 'PMW00010705',\n",
        " 'SW000002080',\n",
        " 'ASN00089020',\n",
        " 'ASN00089021',\n",
        " 'ASN00089022',\n",
        " 'ASN00089023',\n",
        " 'NLE00109390',\n",
        " 'ASN00089025',\n",
        " 'ASN00089026',\n",
        " 'ASN00089027',\n",
        " 'BR00F4-0310',\n",
        " 'USW00024238',\n",
        " 'USC00217915',\n",
        " 'SG000061687',\n",
        " 'USC00248329',\n",
        " 'NOE00111102',\n",
        " 'USW00024231',\n",
        " 'USW00024230',\n",
        " 'USW00024233',\n",
        " 'USW00024232',\n",
        " 'USC00425148',\n",
        " 'USW00024234',\n",
        " 'USW00024237',\n",
        " 'USW00024236',\n",
        " 'USC00041534',\n",
        " 'ASN00099018',\n",
        " 'BR00E5-0610',\n",
        " 'USC00107563',\n",
        " 'ASN00099014',\n",
        " 'ASN00099015',\n",
        " 'ASN00099016',\n",
        " 'ASN00099017',\n",
        " 'ASN00099010',\n",
        " 'SF001146490',\n",
        " 'USS0005J37S',\n",
        " 'ASN00099013',\n",
        " 'US1ALTG0011',\n",
        " 'USC00415369',\n",
        " 'USC00163807',\n",
        " 'CH000059211',\n",
        " 'CA003010615',\n",
        " 'USC00415363',\n",
        " 'SW000002550',\n",
        " 'SF004782920',\n",
        " 'IN012021700',\n",
        " 'USC00299822',\n",
        " 'USC00299823',\n",
        " 'USC00299820',\n",
        " 'CA001012055',\n",
        " 'GR000167230',\n",
        " 'CA003060523',\n",
        " 'USC00482580',\n",
        " 'USC00247362',\n",
        " 'USC00231003',\n",
        " 'USC00298192',\n",
        " 'USC00247367',\n",
        " 'US1PALZ0006',\n",
        " 'US1FLHB0022',\n",
        " 'RSM00026059',\n",
        " 'USC00503183',\n",
        " 'IV00000I096',\n",
        " 'USC00336498',\n",
        " 'US1TNTR0004',\n",
        " 'USR0000CWAT',\n",
        " 'RSM00023711',\n",
        " 'USC00170217',\n",
        " 'USR0000CWAR',\n",
        " 'US1TXLK0005',\n",
        " 'US1TXLK0004',\n",
        " 'US1TXLK0007',\n",
        " 'ID000096745',\n",
        " 'US1TXLK0001',\n",
        " 'RSM00034003',\n",
        " 'RSM00028522',\n",
        " 'USR0000CWAK',\n",
        " 'USS0012L15S',\n",
        " 'US1TXLK0009',\n",
        " 'US1TXLK0008',\n",
        " 'ASN00049008',\n",
        " 'ASN00084150',\n",
        " 'ASN00039180',\n",
        " 'ASN00039181',\n",
        " 'ASN00039182',\n",
        " 'ASN00039183',\n",
        " 'NOE00109746',\n",
        " 'ASN00039185',\n",
        " 'ASN00039186',\n",
        " 'ASN00039187',\n",
        " 'ASN00039188',\n",
        " 'USC00180565',\n",
        " 'USR0000OMOR',\n",
        " 'USR0000OMOU',\n",
        " 'USC00353312',\n",
        " 'EC000084279',\n",
        " 'CA006101077',\n",
        " 'USR0000OMOO',\n",
        " 'BR00B5-0630',\n",
        " 'US1FLGF0002',\n",
        " 'US1FLGF0001',\n",
        " 'ZA000067741',\n",
        " 'USC00210783',\n",
        " 'SF001522590',\n",
        " 'US1ALAT0002',\n",
        " 'LH000026713',\n",
        " 'USC00474320',\n",
        " 'ASN00015608',\n",
        " 'ASN00076113',\n",
        " 'BR002754010',\n",
        " 'ASN00076111',\n",
        " 'ASN00076116',\n",
        " 'ASN00076117',\n",
        " 'ASN00076114',\n",
        " 'RSM00025656',\n",
        " 'USC00268538',\n",
        " 'USC00230668',\n",
        " 'ASN00076118',\n",
        " 'ASN00076119',\n",
        " 'USW00022534',\n",
        " 'US1COLR0329',\n",
        " 'RQC00663657',\n",
        " 'USC00471283',\n",
        " 'ASN00008299',\n",
        " 'USC00471280',\n",
        " 'USC00418333',\n",
        " 'IN017041600',\n",
        " 'USC00322312',\n",
        " 'USC00207350',\n",
        " 'GME00102244',\n",
        " 'USC00418335',\n",
        " 'VE000006850',\n",
        " 'USC00049056',\n",
        " 'USC00322385',\n",
        " 'USC00049050',\n",
        " 'USC00171756',\n",
        " 'USC00049052',\n",
        " 'USC00049053',\n",
        " 'ASN00082110',\n",
        " 'USC00365834',\n",
        " 'CA003016900',\n",
        " 'ASN00033277',\n",
        " 'ASN00033270',\n",
        " 'ASN00041534',\n",
        " 'ASN00033273',\n",
        " 'US10nuck001',\n",
        " 'BR002245074',\n",
        " 'US10nuck003',\n",
        " 'IN019100301',\n",
        " 'US10nuck005',\n",
        " 'US10nuck004',\n",
        " 'US10nuck007',\n",
        " 'US10nuck006',\n",
        " 'USC00352564',\n",
        " 'US10nuck008',\n",
        " 'USC00395691',\n",
        " 'US1WAKG0097',\n",
        " 'USC00300621',\n",
        " 'US1WAKG0094',\n",
        " 'US1COBO0141',\n",
        " 'RSM00027872',\n",
        " 'USS0011D28S',\n",
        " 'USC00236846',\n",
        " 'SF000068994',\n",
        " 'US1MIOW0001',\n",
        " 'USW00093013',\n",
        " 'WA007822320',\n",
        " 'USC00226562',\n",
        " 'CA001056250',\n",
        " 'USC00350145',\n",
        " 'USC00334387',\n",
        " 'GLW00017616',\n",
        " 'BR001359001',\n",
        " 'BR001359000',\n",
        " 'USC00334383',\n",
        " 'RSM00020069',\n",
        " 'USC00071200',\n",
        " 'US1PABD0011',\n",
        " 'BR027798970',\n",
        " 'USC00130209',\n",
        " 'US1INDC0001',\n",
        " 'USC00358271',\n",
        " 'USR0000LEVA',\n",
        " 'NL000000542',\n",
        " 'USC00130200',\n",
        " 'ASN00031191',\n",
        " 'USC00318685',\n",
        " 'USC00273660',\n",
        " 'USC00273661',\n",
        " 'USC00153451',\n",
        " 'USC00440561',\n",
        " 'CA008201400',\n",
        " 'SPE00120566',\n",
        " 'USC00414907',\n",
        " 'USC00158330',\n",
        " 'USC00414903',\n",
        " 'SF001762770',\n",
        " 'USC00241030',\n",
        " 'ASN00043048',\n",
        " 'US1KSFI0016',\n",
        " 'BR002349020',\n",
        " 'BR002349023',\n",
        " 'USS0005R01S',\n",
        " 'CA003023665',\n",
        " 'USR0000OSFK',\n",
        " 'ASN00038043',\n",
        " 'ASN00040346',\n",
        " 'ASN00040347',\n",
        " 'ASN00040344',\n",
        " 'USC00088094',\n",
        " 'ASN00040342',\n",
        " 'ASN00040343',\n",
        " 'ASN00040340',\n",
        " 'ASN00040341',\n",
        " 'US1MDPG0033',\n",
        " 'ASN00009207',\n",
        " 'ASN00040348',\n",
        " 'ASN00040349',\n",
        " 'US1TNBL0015',\n",
        " 'US1SCGV0033',\n",
        " 'US1TNBL0017',\n",
        " 'US1SCGV0031',\n",
        " 'US1TNBL0011',\n",
        " 'US1TNBL0010',\n",
        " 'US1TNBL0012',\n",
        " 'US1TNRH0004',\n",
        " 'USC00148549',\n",
        " 'CA008402544',\n",
        " 'USC00133623',\n",
        " 'US1TNRH0001',\n",
        " 'USC00261160',\n",
        " 'USR0000IBON',\n",
        " 'US1NMSM0005',\n",
        " 'US1SCLN0010',\n",
        " 'US1NMSM0007',\n",
        " 'US1NMSM0006',\n",
        " 'US1NMSM0001',\n",
        " 'USC00048832',\n",
        " 'NOE00134382',\n",
        " 'USC00141395',\n",
        " 'ASN00055187',\n",
        " 'US1SDBR0023',\n",
        " 'ASN00037032',\n",
        " 'ASN00037033',\n",
        " 'ASN00037030',\n",
        " 'US1TXSC0003',\n",
        " 'ASN00037036',\n",
        " 'ASN00037037',\n",
        " 'ASN00037034',\n",
        " 'ASN00037035',\n",
        " 'US1GAWG0001',\n",
        " 'ASN00037038',\n",
        " 'CA007050675',\n",
        " 'BR00D2-0760',\n",
        " 'ASN00055183',\n",
        " 'US1TNDV0060',\n",
        " 'US1TNDV0061',\n",
        " 'USC00368570',\n",
        " 'US1TNDV0065',\n",
        " 'US1TNDV0067',\n",
        " 'ASN00055181',\n",
        " 'RSM00022573',\n",
        " 'CA001198194',\n",
        " 'US1KSSM0003',\n",
        " 'US1NMDA0134',\n",
        " 'US1NMDA0135',\n",
        " 'US1NMDA0136',\n",
        " 'US1NMDA0137',\n",
        " 'USC00331383',\n",
        " 'US1NMDA0132',\n",
        " 'USC00368026',\n",
        " 'USC00425352',\n",
        " 'US1NMDA0138',\n",
        " 'US1TXBXR038',\n",
        " 'RSM00021824',\n",
        " 'USC00275629',\n",
        " 'BR001843012',\n",
        " 'US1TXBXR032',\n",
        " 'BC008033530',\n",
        " 'US1TXBXR030',\n",
        " 'CA004048326',\n",
        " 'ASN00055188',\n",
        " 'BR037477750',\n",
        " 'USC00416506',\n",
        " 'CA003013993',\n",
        " 'USC00416504',\n",
        " 'ASN00055189',\n",
        " 'USC00416502',\n",
        " 'NLE00109060',\n",
        " 'USC00151080',\n",
        " 'US1AZPN0049',\n",
        " 'BR00C6-0660',\n",
        " 'USC00419859',\n",
        " 'USC00419858',\n",
        " 'SF003680030',\n",
        " 'USC00353232',\n",
        " 'USC00419854',\n",
        " 'US1IAPK0012',\n",
        " 'IN001113100',\n",
        " 'US1IAPK0014',\n",
        " 'BR047426690',\n",
        " 'USC00419853',\n",
        " 'US1NJOC0021',\n",
        " 'USW00023904',\n",
        " 'TO000005352',\n",
        " 'USC00381241',\n",
        " 'US1GAMN0003',\n",
        " 'IN011150300',\n",
        " 'BR038765760',\n",
        " 'USC00305806',\n",
        " 'USC00050794',\n",
        " 'USC00305804',\n",
        " 'US1FLLE0023',\n",
        " 'US1FLLE0022',\n",
        " 'US10linc031',\n",
        " 'VE000000795',\n",
        " 'US1FLLE0027',\n",
        " 'US1GAMN0001',\n",
        " 'US10linc035',\n",
        " 'US10linc034',\n",
        " 'USC00404946',\n",
        " 'US1FLLE0029',\n",
        " 'BR037244660',\n",
        " 'NLE00102007',\n",
        " 'US1MOVR0003',\n",
        " 'SF000338710',\n",
        " 'USC00440792',\n",
        " 'USC00208032',\n",
        " 'IN004150800',\n",
        " 'US1INSJ0027',\n",
        " 'USC00480498',\n",
        " 'ASN00058132',\n",
        " 'CA002100FCG',\n",
        " 'ASN00086217',\n",
        " 'USC00028865',\n",
        " 'US1WAKG0154',\n",
        " 'MX000019016',\n",
        " 'USC00086999',\n",
        " 'ASN00080041',\n",
        " 'ASN00048111',\n",
        " 'CA007065960',\n",
        " 'SF000295420',\n",
        " 'ASN00023061',\n",
        " 'USR0000NAGA',\n",
        " 'ASN00023063',\n",
        " 'ASN00023064',\n",
        " 'ASN00023065',\n",
        " 'ASN00023066',\n",
        " 'ASN00023067',\n",
        " 'ASN00023068',\n",
        " 'ASN00023069',\n",
        " 'FMC00914811',\n",
        " 'US1NYOS0024',\n",
        " 'IN011221700',\n",
        " 'USR0000ATEL',\n",
        " 'US1WYPK0003',\n",
        " 'USC00368364',\n",
        " 'SF001421530',\n",
        " 'USW00094929',\n",
        " 'BR038332350',\n",
        " 'GQC00914120',\n",
        " 'USC00063495',\n",
        " 'CA00704CBGH',\n",
        " 'USC00014895',\n",
        " 'ASN00048119',\n",
        " 'USC00389412',\n",
        " 'USC00190360',\n",
        " 'US1WYPK0002',\n",
        " 'USW00094925',\n",
        " 'US1MEPN0009',\n",
        " 'BR00D6-0400',\n",
        " 'US1MEPN0007',\n",
        " 'US1MEPN0005',\n",
        " 'USC00459112',\n",
        " 'US1CAYL0010',\n",
        " 'US1MEPN0001',\n",
        " 'ASN00098004',\n",
        " 'ASN00098005',\n",
        " 'ASN00098006',\n",
        " 'ASN00098007',\n",
        " 'ASN00098000',\n",
        " 'ASN00098001',\n",
        " 'ASN00098002',\n",
        " 'ASN00098003',\n",
        " 'US1COLN0046',\n",
        " 'US1COLN0047',\n",
        " 'USC00011974',\n",
        " 'US1COLN0045',\n",
        " 'US1COLN0042',\n",
        " 'ASN00098009',\n",
        " 'CA007095000',\n",
        " 'US1COLN0041',\n",
        " 'BR001843003',\n",
        " 'USC00318302',\n",
        " 'BR001843001',\n",
        " 'BR001843000',\n",
        " 'SF001460170',\n",
        " 'BR001843005',\n",
        " 'USC00153391',\n",
        " 'US1COBO0027',\n",
        " 'CA001101138',\n",
        " 'ASN00055326',\n",
        " 'USC00243309',\n",
        " 'ASN00055324',\n",
        " 'ASN00055325',\n",
        " 'ASN00055322',\n",
        " 'ASN00055323',\n",
        " 'ASN00055320',\n",
        " 'ASN00055321',\n",
        " 'CA008300425',\n",
        " 'USC00302462',\n",
        " 'USC00243304',\n",
        " 'USC00026132',\n",
        " 'ASN00055329',\n",
        " 'USC00305110',\n",
        " 'USC00208725',\n",
        " 'USC00305113',\n",
        " 'CA006112778',\n",
        " 'USC00043279',\n",
        " 'US1NHHL0039',\n",
        " 'USC00141801',\n",
        " 'USC00218951',\n",
        " 'USC00444452',\n",
        " 'US1TXLV0003',\n",
        " 'USC00469355',\n",
        " 'MX000003061',\n",
        " 'USC00448170',\n",
        " 'USC00448172',\n",
        " 'BR008067001',\n",
        " 'BR008067002',\n",
        " 'BR00E3-0260',\n",
        " 'US1MOFSA099',\n",
        " 'ASN00039011',\n",
        " 'ASN00015079',\n",
        " 'VE000005791',\n",
        " 'IN020140702',\n",
        " 'ASN00041285',\n",
        " 'NLE00102524',\n",
        " 'ASN00041287',\n",
        " 'ASN00041280',\n",
        " 'ASN00041281',\n",
        " 'TX000038507',\n",
        " 'ASN00041283',\n",
        " 'BR038768680',\n",
        " 'ASN00041288',\n",
        " 'ASN00041289',\n",
        " 'USC00018391',\n",
        " 'ASN00022008',\n",
        " 'USW00013910',\n",
        " 'USW00013911',\n",
        " 'US1IAGT0001',\n",
        " 'US1COLK0011',\n",
        " 'US1IAGT0003',\n",
        " 'US1IAGT0002',\n",
        " 'ASN00022001',\n",
        " 'USC00018398',\n",
        " 'ASN00022003',\n",
        " 'USC00082827',\n",
        " 'ASN00022005',\n",
        " 'ASN00022004',\n",
        " 'ASN00022007',\n",
        " 'ASN00022006',\n",
        " 'CA008104600',\n",
        " 'SF001662380',\n",
        " 'CA006153194',\n",
        " 'ASN00029075',\n",
        " 'CA006153192',\n",
        " 'CA00106D289',\n",
        " 'USR0000WESC',\n",
        " 'IN012190500',\n",
        " 'USC00051547',\n",
        " 'US1NVCH0005',\n",
        " 'USC00035010',\n",
        " 'US1NVCH0002',\n",
        " 'USC00363897',\n",
        " 'BR002952001',\n",
        " 'BR002952003',\n",
        " 'CA006115820',\n",
        " 'BR00D8-0350',\n",
        " 'US1INFD0004',\n",
        " 'RSM00031994',\n",
        " 'CA008102600',\n",
        " 'USC00487115',\n",
        " 'USS0011L12S',\n",
        " 'FRE00104963',\n",
        " 'USC00124181',\n",
        " 'USR0000AWON',\n",
        " 'BR001540009',\n",
        " 'ASN00010754',\n",
        " 'US1MOGR0058',\n",
        " 'US1FLGC0008',\n",
        " 'ASN00010755',\n",
        " 'CA006110731',\n",
        " 'USC00340242',\n",
        " 'BR001540003',\n",
        " 'US1FLGC0005',\n",
        " 'USC00138233',\n",
        " 'US1FLGC0003',\n",
        " 'USC00138231',\n",
        " 'US1FLGC0001',\n",
        " 'IN009090400',\n",
        " 'USR0000MWAT',\n",
        " 'USR0000MWAU',\n",
        " 'ASN00051160',\n",
        " 'ASN00051161',\n",
        " 'IN009090401',\n",
        " 'BR038179880',\n",
        " 'ASN00014150',\n",
        " 'ASN00014151',\n",
        " 'US1MOGR0054',\n",
        " 'ASN00014155',\n",
        " 'USC00197667',\n",
        " 'US1MTDL0001',\n",
        " 'BR00E3-0610',\n",
        " 'US1NCPT0009',\n",
        " 'RSM00030934',\n",
        " 'RSM00030935',\n",
        " 'IN001021501',\n",
        " 'IN001021500',\n",
        " 'RSM00030938',\n",
        " 'AM000037884',\n",
        " 'US1NJMD0044',\n",
        " 'AM000037880',\n",
        " 'US1NCPT0007',\n",
        " 'USC00028206',\n",
        " 'CH000057707',\n",
        " 'SWE00115866',\n",
        " 'ASN00048023',\n",
        " 'NO000014030',\n",
        " 'SWE00115861',\n",
        " 'SF000300880',\n",
        " 'USC00253910',\n",
        " 'USW00024239',\n",
        " 'USC00168263',\n",
        " 'US10hook002',\n",
        " 'USC00212940',\n",
        " 'US1SCGW0010',\n",
        " 'US1GACR0001',\n",
        " 'USC00397052',\n",
        " 'USC00304996',\n",
        " 'USC00304995',\n",
        " 'USC00369133',\n",
        " 'RSM00031088',\n",
        " 'ASN00010759',\n",
        " 'USC00445414',\n",
        " 'CH000056257',\n",
        " 'USC00445416',\n",
        " 'US10hook007',\n",
        " 'USC00117157',\n",
        " 'ASN00041139',\n",
        " 'ASN00041136',\n",
        " 'ASN00041134',\n",
        " 'ASN00041135',\n",
        " 'ASN00041132',\n",
        " 'ASN00041133',\n",
        " 'IN010050400',\n",
        " 'ASN00041131',\n",
        " 'US1TXHRR046',\n",
        " 'USC00247858',\n",
        " 'SF001547960',\n",
        " 'USC00368912',\n",
        " 'US1TXHRR043',\n",
        " 'US1TXHRR041',\n",
        " 'USC00501180',\n",
        " 'USC00404678',\n",
        " 'CH000051709',\n",
        " 'USC00327201',\n",
        " 'BR00C8-0010',\n",
        " 'IN008020900',\n",
        " 'IN023542800',\n",
        " 'ASN00003066',\n",
        " 'ASN00043031',\n",
        " 'ASN00074232',\n",
        " 'USC00055025',\n",
        " 'US1SCAL0002',\n",
        " 'US1SCAL0001',\n",
        " 'US1COWE0212',\n",
        " 'US1OHGY0002',\n",
        " 'USC00112679',\n",
        " 'CA005060220',\n",
        " 'USC00123179',\n",
        " 'ASN00086049',\n",
        " 'ASN00086048',\n",
        " 'IN001130300',\n",
        " 'ASN00074237',\n",
        " 'USW00003999',\n",
        " 'ASN00056061',\n",
        " 'USW00003997',\n",
        " 'USC00404673',\n",
        " 'ASN00086041',\n",
        " 'ASN00086040',\n",
        " 'ASN00086047',\n",
        " 'ASN00086046',\n",
        " 'USC00461591',\n",
        " 'ASN00086044',\n",
        " 'CA001014820',\n",
        " 'US1NCWK0105',\n",
        " 'USC00280990',\n",
        " 'USC00151964',\n",
        " 'ASN00031096',\n",
        " 'ASN00031097',\n",
        " 'ASN00031094',\n",
        " 'ASN00031095',\n",
        " 'US1INHS0022',\n",
        " 'ASN00031093',\n",
        " 'ASN00031090',\n",
        " 'US1INHS0021',\n",
        " 'ASN00090017',\n",
        " 'USC00310531',\n",
        " 'ASN00090015',\n",
        " 'ASN00090014',\n",
        " 'BR00E3-1500',\n",
        " 'ASN00090012',\n",
        " 'ASN00031098',\n",
        " 'CA008204600',\n",
        " 'BR048144430',\n",
        " 'IN003050100',\n",
        " 'BR037097360',\n",
        " 'SF000798230',\n",
        " 'USC00508377',\n",
        " 'USC00508379',\n",
        " 'USC00107561',\n",
        " 'ASN00009841',\n",
        " 'USS0023B16S',\n",
        " 'BR000844008',\n",
        " 'CA001036206',\n",
        " 'USC00256735',\n",
        " 'US1GAMA0010',\n",
        " 'SPW00014011',\n",
        " 'US1IAFR0001',\n",
        " 'RSM00036442',\n",
        " 'USC00246218',\n",
        " 'ASN00048078',\n",
        " 'ASN00048079',\n",
        " 'CA006115811',\n",
        " 'CA006115810',\n",
        " 'ASN00048070',\n",
        " 'ASN00048071',\n",
        " 'ASN00048072',\n",
        " 'ASN00048073',\n",
        " 'ASN00048074',\n",
        " 'ASN00048075',\n",
        " 'ASN00048076',\n",
        " 'CA006115818',\n",
        " 'ASN00029112',\n",
        " 'ASN00029113',\n",
        " 'ASN00029110',\n",
        " 'ASN00029111',\n",
        " 'ASN00029116',\n",
        " 'ASN00029117',\n",
        " 'ASN00029114',\n",
        " 'ASN00029115',\n",
        " 'USC00146719',\n",
        " 'USS0021C13S',\n",
        " 'ASN00029118',\n",
        " 'ASN00029119',\n",
        " 'US1GAWL0001',\n",
        " 'ASN00099011',\n",
        " 'ASN00099012',\n",
        " 'SF001405820',\n",
        " 'USC00228036',\n",
        " 'CA004012525',\n",
        " 'USC00461330',\n",
        " 'CA004012520',\n",
        " 'NLE00102063',\n",
        " 'CA001110350',\n",
        " 'NLE00102061',\n",
        " 'NLE00102067',\n",
        " 'NLE00102065',\n",
        " 'USC00117840',\n",
        " 'ASN00043034',\n",
        " 'NLE00102069',\n",
        " 'USC00281028',\n",
        " 'USC00469104',\n",
        " 'CA001110352',\n",
        " 'US1MSMS0001',\n",
        " 'US1CODG0133',\n",
        " 'US1CODG0132',\n",
        " 'ASN00009909',\n",
        " 'US1CODG0130',\n",
        " 'USS0005P02S',\n",
        " 'CA006076870',\n",
        " 'USW00024037',\n",
        " 'USW00024036',\n",
        " 'USW00024035',\n",
        " 'ASN00009900',\n",
        " 'ASN00009907',\n",
        " 'ASN00009906',\n",
        " 'ASN00009905',\n",
        " 'ASN00009904',\n",
        " 'MX000005016',\n",
        " 'US1NYTM0022',\n",
        " 'USC00395360',\n",
        " 'US1GAWL0008',\n",
        " 'USC00082008',\n",
        " 'US1NYTM0023',\n",
        " 'USC00323009',\n",
        " 'USC00087070',\n",
        " 'ASN00068045',\n",
        " 'IN005171100',\n",
        " 'BR038487410',\n",
        " 'IN023081300',\n",
        " 'IN020123800',\n",
        " 'USR0000TLND',\n",
        " 'USR0000MDEL',\n",
        " 'SF000107420',\n",
        " 'US1NYTM0026',\n",
        " 'CA006158567',\n",
        " 'BR047945250',\n",
        " 'USC00251429',\n",
        " 'US1COJF0242',\n",
        " 'US1COJF0243',\n",
        " 'USC00259150',\n",
        " 'USC00343650',\n",
        " 'USC00462022',\n",
        " 'US1COJF0247',\n",
        " 'USC00415049',\n",
        " 'US1COJF0245',\n",
        " 'CA001063298',\n",
        " 'BR00E4-0340',\n",
        " 'USC00020665',\n",
        " 'BR001347000',\n",
        " 'BR001347001',\n",
        " 'US1ILCK0129',\n",
        " 'IN001063800',\n",
        " 'USR0000CABS',\n",
        " 'US1TNRB0007',\n",
        " 'CA008100512',\n",
        " 'US1ILCK0121',\n",
        " 'US1ILCK0122',\n",
        " 'KZ000038091',\n",
        " 'ML000061270',\n",
        " 'USS0019D02S',\n",
        " 'CA008100514',\n",
        " 'CA008100515',\n",
        " 'USC00405836',\n",
        " 'BR002244062',\n",
        " 'IN020121400',\n",
        " 'ASN00094215',\n",
        " 'USC00273800',\n",
        " 'ASN00094217',\n",
        " 'IN019240300',\n",
        " 'ASN00094211',\n",
        " 'ASN00094210',\n",
        " 'ASN00094213',\n",
        " 'ASN00094212',\n",
        " 'USC00297279',\n",
        " 'ASN00009877',\n",
        " 'USC00157311',\n",
        " 'USC00292820',\n",
        " 'BR002244066',\n",
        " 'US1WAKG0006',\n",
        " 'USC00170409',\n",
        " 'ASN00039346',\n",
        " 'USC00314328',\n",
        " 'ASN00039345',\n",
        " 'ASN00039342',\n",
        " 'ASN00039343',\n",
        " 'ASN00039340',\n",
        " 'ASN00039341',\n",
        " 'CA004010360',\n",
        " 'US1PASC0001',\n",
        " 'US1ILWM0003',\n",
        " 'ASN00039348',\n",
        " 'ASN00039349',\n",
        " 'US1NCHR0007',\n",
        " 'USC00203823',\n",
        " 'US1TNLR0016',\n",
        " 'USC00194502',\n",
        " 'US1TNLR0013',\n",
        " 'USC00087025',\n",
        " 'USC00472973',\n",
        " 'USC00251280',\n",
        " 'US1MNOL0001',\n",
        " 'US1MNOL0006',\n",
        " 'US1MNOL0007',\n",
        " 'US1MNOL0004',\n",
        " 'US1MNOL0005',\n",
        " 'USC00120898',\n",
        " 'US1MNOL0009',\n",
        " 'USC00026676',\n",
        " 'USC00428070',\n",
        " 'RSM00037036',\n",
        " 'ASN00039155',\n",
        " 'USC00044480',\n",
        " 'USC00235816',\n",
        " 'BR00C4-0750',\n",
        " 'BR027832470',\n",
        " 'CA005052864',\n",
        " 'US1OKJC0005',\n",
        " 'US1VAFR0016',\n",
        " 'US1VAFR0017',\n",
        " 'USC00250777',\n",
        " 'US1VAFR0015',\n",
        " 'USC00250771',\n",
        " 'USC00040931',\n",
        " 'US1ILDG0010',\n",
        " 'US1FLBV0013',\n",
        " 'US1FLBV0012',\n",
        " 'US1FLBV0011',\n",
        " 'US1FLBV0016',\n",
        " 'US1VAFR0018',\n",
        " 'US1FLBV0014',\n",
        " 'RSM00029759',\n",
        " 'BR00C3-0140',\n",
        " 'BR00C5-0760',\n",
        " 'US1ARPY0004',\n",
        " 'USC00512110',\n",
        " 'USC00456484',\n",
        " 'US1KSWB0004',\n",
        " 'USC00041046',\n",
        " 'USC00041043',\n",
        " 'IN003011600',\n",
        " 'SF006795320',\n",
        " 'NOE00110563',\n",
        " 'ASN00018130',\n",
        " 'USC00364983',\n",
        " 'ASN00018132',\n",
        " 'ASN00018133',\n",
        " 'ASN00018134',\n",
        " 'ASN00018135',\n",
        " 'ASN00018136',\n",
        " 'ASN00018137',\n",
        " 'ASN00018138',\n",
        " 'ASN00018139',\n",
        " 'BR002750003',\n",
        " 'US10red_021',\n",
        " 'BR002750004',\n",
        " 'BR002750007',\n",
        " 'US1KSOB0002',\n",
        " 'CA004046880',\n",
        " 'SF000298630',\n",
        " 'USC00366636',\n",
        " 'CA004046884',\n",
        " 'USC00515832',\n",
        " 'US1OHCB0002',\n",
        " 'USC00044726',\n",
        " 'BR00E2-0520',\n",
        " 'USC00044722',\n",
        " 'ASN00026067',\n",
        " 'ASN00026066',\n",
        " 'US1KYOH0001',\n",
        " 'ASN00026064',\n",
        " 'USC00135230',\n",
        " 'ASN00026062',\n",
        " 'ASN00026061',\n",
        " 'BR047892530',\n",
        " 'BR00E3-1080',\n",
        " 'WA010117880',\n",
        " 'ASN00026069',\n",
        " 'ASN00026068',\n",
        " 'ASN00062056',\n",
        " 'ASN00062057',\n",
        " 'ASN00062054',\n",
        " 'ASN00062055',\n",
        " 'ASN00062052',\n",
        " 'ASN00062053',\n",
        " 'ASN00062050',\n",
        " 'ASN00062051',\n",
        " 'USR0000BADG',\n",
        " 'USC00059147',\n",
        " 'BR028806240',\n",
        " 'ASN00062058',\n",
        " 'USC00055878',\n",
        " 'US1TXCML033',\n",
        " 'US1TXCML032',\n",
        " 'IN004082000',\n",
        " 'USR0000NRCK',\n",
        " 'US1TXCML037',\n",
        " 'US1TXCML036',\n",
        " 'US1TXCML035',\n",
        " 'USC00042760',\n",
        " 'US1TXCML039',\n",
        " 'US1TXCML038',\n",
        " 'USC00174505',\n",
        " 'US1UTCH0015',\n",
        " 'USR0000NMAT',\n",
        " 'SF000912880',\n",
        " 'SF001957300',\n",
        " 'USS0009C01S',\n",
        " 'US1PABK0026',\n",
        " 'USC00361004',\n",
        " 'USC00361001',\n",
        " 'USC00508855',\n",
        " 'ASN00077087',\n",
        " 'ASN00077086',\n",
        " 'ASN00077085',\n",
        " 'ASN00077084',\n",
        " 'ASN00077083',\n",
        " 'IN001200701',\n",
        " 'ASN00077081',\n",
        " 'ASN00077080',\n",
        " 'USC00324843',\n",
        " 'ASN00077089',\n",
        " 'ASN00077088',\n",
        " 'USC00336493',\n",
        " 'IN017011500',\n",
        " 'US1MNHN0078',\n",
        " 'USC00330563',\n",
        " 'US1KSCY0001',\n",
        " 'USS0019L03S',\n",
        " 'IN022030300',\n",
        " 'SF000901760',\n",
        " 'SF003314740',\n",
        " 'USC00205759',\n",
        " 'USC00410917',\n",
        " 'US1RINW0003',\n",
        " 'CA007047722',\n",
        " 'BR001850002',\n",
        " 'IN010070900',\n",
        " 'US1WIPT0001',\n",
        " ...]"
       ]
      }
     ],
     "prompt_number": 101
    },
    {
     "cell_type": "code",
     "collapsed": false,
     "input": [
      "bucket_size = []\n",
      "for bucket in buckets:\n",
      "    bucket_size.append(len(bucket))"
     ],
     "language": "python",
     "metadata": {},
     "outputs": [],
     "prompt_number": 26
    },
    {
     "cell_type": "code",
     "collapsed": false,
     "input": [
      "min(bucket_size),max(bucket_size)"
     ],
     "language": "python",
     "metadata": {},
     "outputs": [
      {
       "metadata": {},
       "output_type": "pyout",
       "prompt_number": 27,
       "text": [
        "(44, 2364)"
       ]
      }
     ],
     "prompt_number": 27
    },
    {
     "cell_type": "code",
     "collapsed": false,
     "input": [
      "import pickle\n",
      "f=open('buckets_proper','wb')\n",
      "pickle.dump(buckets,f)\n",
      "f.close()"
     ],
     "language": "python",
     "metadata": {},
     "outputs": [],
     "prompt_number": 17
    },
    {
     "cell_type": "code",
     "collapsed": false,
     "input": [
      "import pickle\n",
      "f=open('buckets_proper','rb')\n",
      "read_buckets=pickle.load(f)"
     ],
     "language": "python",
     "metadata": {},
     "outputs": [],
     "prompt_number": 18
    },
    {
     "cell_type": "code",
     "collapsed": false,
     "input": [
      "buckets==read_buckets"
     ],
     "language": "python",
     "metadata": {},
     "outputs": [
      {
       "metadata": {},
       "output_type": "pyout",
       "prompt_number": 22,
       "text": [
        "True"
       ]
      }
     ],
     "prompt_number": 22
    },
    {
     "cell_type": "code",
     "collapsed": false,
     "input": [],
     "language": "python",
     "metadata": {},
     "outputs": []
    }
   ],
   "metadata": {}
  }
 ]
}